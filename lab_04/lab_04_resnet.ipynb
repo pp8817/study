{
 "cells": [
  {
   "cell_type": "markdown",
   "metadata": {},
   "source": [
    "# Residual Networks\n",
    "\n",
    "이번 실습에서는 아주 깊은 CNN인 Residual Networks를 직접 구현해본다. 일반적으로 아주 깊은 neural network는 아주 복잡한 함수를 학습할 수 있지만 학습이 어렵다.\n",
    "논문 [He et al.](https://arxiv.org/pdf/1512.03385.pdf)이 소개한 Residual Network는 아주 깊은 모델을 학습할 수 있는 방법을 제안하였다.\n",
    "\n",
    "이 실습은 아래 과정으로 이루어진다:\n",
    "- skip connection을 포함한 ResNets의 기본 building block을 pytorch로 직접 구현한다.\n",
    "- building block을 쌓아 resnet을 구현하고 이미지 분류를 시도한다.\n",
    "- pytorch에서 제공하는 pre-trained model을 이용하여 transfer learning을 수행한다."
   ]
  },
  {
   "cell_type": "code",
   "execution_count": 1,
   "metadata": {},
   "outputs": [],
   "source": [
    "import torch\n",
    "from torch import nn\n",
    "import torch.nn.functional as F\n",
    "\n",
    "from torchvision import datasets, transforms\n",
    "from torchvision import models\n",
    "\n",
    "import wandb\n",
    "\n",
    "from training_utilities import train_loop, evaluation_loop, create_dataloaders, save_checkpoint, load_checkpoint"
   ]
  },
  {
   "cell_type": "markdown",
   "metadata": {},
   "source": [
    "## The Problem of Very Deep Neural Networks\n",
    "\n",
    "최근 neural network는 점점더 깊어지고 있으며 AlexNet이 몇개의 layer만 가졌다면 최신 neural network는 수백개의 layer들로 이루어진다.\n",
    "\n",
    "* 깊은 네트워크의 가장 중요한 장점은 아주 복잡한 함수도 학습할 수 있다는 것이다. 따라서 edges와 같이 간단한 feature부터 아주 복잡한 features까지 다양한 층위의 feature들을 학습할 수 있다\n",
    "\n",
    "* 하지만 신경망이 깊어지는것이 항상 좋은 결과를 만드는 것은 아니다. 가장 큰 어려움은 vanishing gradients로, 깊은 신경망에서 gradient값이 아주 빨리 0에 가까워져 학습이 아주 느려지는 것이다.\n",
    "\n",
    "* 좀더 구체적으로는 backpropagate이 마지막 레이어(layer)부터 첫번째 레이어까지 진행되는 과정에서, weight matrix가 계속해서 곱해지며 따라서 gradient값이 기하급수적으로 빠르게 0으로 수렴한다. (또는 아주 드물게 gradient값이 기하급수적으로 증가하여 gradient explode가 발생하기도 함). \n",
    "\n",
    "* 따라서 아래와 같이 학습과정에서 얕은 layer의 gradient의 크기(norm)가 빠르게 0으로 감소하는 것을 확인할 수 있다."
   ]
  },
  {
   "cell_type": "markdown",
   "metadata": {},
   "source": [
    "<center><img src=\"resources/vanishing_grad_kiank.png\" style=\"width:450px;height:220px;\"></center>\n",
    "<caption><center> <u> <b>Figure</b> </u>  : <b>Vanishing gradient</b> <br> 얕은 레이어에서 학습 속도가 아주 빠르게 감소한다 </center></caption>\n",
    "\n",
    "\n",
    "이러한 문제를 ResNet을 통해 해결할 수 있다"
   ]
  },
  {
   "cell_type": "markdown",
   "metadata": {},
   "source": [
    "## Building a Residual Network\n",
    "\n",
    "ResNets 에서는 \"shortcut\" 또는 \"skip connection\" 을 통해 레이어를 스킵할수 있도록 해준다.\n",
    "\n",
    "<center><img src=\"resources/skip_connection_kiank.png\" style=\"width:650px;height:200px;\"></center>\n",
    "<caption><center> <u> <b>Figure</b> </u>  : skip-connection <br> </center></caption>\n",
    "\n",
    "왼쪽 이미지는 신경망의 \"main path\"를 보여준다. 오른쪽의 이미지는 shortcut를 추가한 것이다. \n",
    "이러한 ResNet blocks 쌓음으로써 아주 깊은 신경망을 학습할 수 있다.\n",
    "\n",
    "shortcut이 있는 ResNet block은 항등함수(identity function)를 학습하기 아주 쉬워진다 (모든 weight가 0이면 항등함수).  이는 이 ResNet block을 쌓는것으로 인한 성능 저하가 거의 없을 것임을 의미한다.  \n",
    "    \n",
    "그런 측면에서 ResNet이 항등 함수를 배우기 쉬운 것으로 인한 효과가 skip connection으로 vanishing gradients문제를 완화하는 것으로 인한 효과보다 더 크다는 보고들도 존재한다.\n",
    "\n",
    "ResNet에는 input과 output의 차원이 같은지 다른지에 따라 \"identity block\", \"convolutional block\" 이렇게 크게 두가지 종류의 block이 존재한다. 각각을 구현해보자."
   ]
  },
  {
   "cell_type": "markdown",
   "metadata": {},
   "source": [
    "### The Identity Block\n",
    "\n",
    "identity block은 ResNet의 기본 블럭으로, 입력 activation(예 $a^{[l]}$)와 출력 activation (예 $a^{[l+2]}$)이 같은 차원일때 사용된다.\n",
    "\n",
    "<center><img src=\"resources/idblock2_kiank.png\" style=\"width:650px;height:150px;\"></center>\n",
    "<caption><center> <u> <b>Figure</b> </u> : <b>2개의 레이어를 건너뛰는 Identity block.</b> </center></caption>\n",
    "\n",
    "학습 속도를 향상시키기 위한 BatchNorm 레이어가 포함되어 있다.\n",
    "\n",
    "이 블럭은 ResNet18, ResNet34에서 사용되며,\n",
    "\n",
    "ResNet50부터는 이보다 더 효과적인 3개의 hidden layer를 건너뛰는 identity block을 사용한다\n",
    "\n",
    "<center><img src=\"resources/idblock3_kiank.png\" style=\"width:650px;height:150px;\"></center>\n",
    "    <caption><center> <u> <b>Figure</b> </u>  : <b>3개의 레이어를 건너뛰는 Identity block.</b> </center></caption>\n",
    "\n",
    "좀더 구체적으로는 아래 그림의 우측과 같이 Bottleneck block이라고도 불리는 구조를 사용하며 1x1 conv를 통해 필터 수를 줄여 3x3 conv를 수행하고 다시 늘림으로써 layer의 수는 더 많아졌지만 computation은 줄어들어 더 효율적이며 non-linearity도 많아졌다.\n",
    "\n",
    "<center><img src=\"resources/Basic Block_1.png\" style=\"width:264px;\">  <img src=\"resources/Bottleneck Block_2.png\" style=\"width:300px;\"></center>"
   ]
  },
  {
   "cell_type": "markdown",
   "metadata": {},
   "source": [
    "<mark>과제</mark> Identity block을 구현하라\n",
    "\n",
    "1. main path의 첫번째 layer\n",
    "- 첫번째 Conv2d는 ``intermediate_channels``개의 1x1 필터와 stride = 1, \"valid\" padding으로 이루어져 있다. BatchNorm을 수행할 것이므로 bias = False이다.\n",
    "- BatchNorm은 'channels'축으로 데이터를 normalize한다.\n",
    "- ReLU activation function을 적용한다 (hyperparameter는 없음)\n",
    "\n",
    "2. main path의 두번쨰 layer\n",
    "- 두번째 Conv2d는 ``intermediate_channels``개의 3x3 필터와 stride = 1, \"same\" padding으로 이루어져 있다. (conv후 이미지 크기가 같음). bias = False이다.\n",
    "- BatchNorm\n",
    "- ReLu\n",
    "\n",
    "3. main path의 세번째 layer\n",
    "- 세번째 Conv2d는 ``intermediate_channels`` x ``expansion``개의 1x1 필터와 stride = 1, \"valid\" padding으로 이루어져 있다. bias = False이다.\n",
    "- BatchNorm\n",
    "- ReLU activation은 **없다**\n",
    "\n",
    "4. Shortcut path\n",
    "- Conv의 결과와 입력값이 더해진다\n",
    "- 그 후 ReLU activation을 취한다.\n",
    "\n",
    "아래 documentation을 참고하여 구현하라.\n",
    "- [Conv2D](https://pytorch.org/docs/stable/generated/torch.nn.Conv2d.html)\n",
    "- [BatchNorm2d](https://pytorch.org/docs/stable/generated/torch.nn.BatchNorm2d.html) : 만약 모델이 eval모드일 경우 weight가 업데이트 되지 않는다. \n",
    "- [ReLu](https://pytorch.org/docs/stable/generated/torch.nn.ReLU.html)\n"
   ]
  },
  {
   "cell_type": "code",
   "execution_count": 2,
   "metadata": {},
   "outputs": [],
   "source": [
    "class IdentityBlock(nn.Module):\n",
    "    expansion = 4\n",
    "\n",
    "    def __init__(self, in_channels, intermediate_channels):\n",
    "        super().__init__()\n",
    "\n",
    "        ##### YOUR CODE START #####\n",
    "        # 첫번째 layer\n",
    "        self.conv1 = nn.Conv2d(in_channels, intermediate_channels, \n",
    "                               kernel_size=1, stride=1, padding=0, bias=False)\n",
    "        self.bn1 = nn.BatchNorm2d(intermediate_channels)\n",
    "        \n",
    "        # 두번째 layer\n",
    "        self.conv2 = nn.Conv2d(intermediate_channels, intermediate_channels, \n",
    "                               kernel_size=3, stride=1, padding=1, bias=False)\n",
    "        self.bn2 = nn.BatchNorm2d(intermediate_channels)\n",
    "\n",
    "        # 세번째 layer\n",
    "        self.conv3 = nn.Conv2d(intermediate_channels, intermediate_channels * self.expansion, \n",
    "                               kernel_size=1, stride=1, padding=0, bias=False)\n",
    "        self.bn3 = nn.BatchNorm2d(intermediate_channels * self.expansion)\n",
    "\n",
    "        self.relu = nn.ReLU()\n",
    "\n",
    "    def forward(self, x):\n",
    "        ##### YOUR CODE START #####\n",
    "        shortcut = x\n",
    "\n",
    "        out = self.conv1(x)\n",
    "        out = self.bn1(out)\n",
    "        out = self.relu(out)\n",
    "\n",
    "        out = self.conv2(out)\n",
    "        out = self.bn2(out)\n",
    "        out = self.relu(out)\n",
    "\n",
    "        out = self.conv3(out)\n",
    "        out = self.bn3(out)\n",
    "\n",
    "        out += shortcut\n",
    "        out = self.relu(out)\n",
    "\n",
    "        ##### YOUR CODE END #####\n",
    "        \n",
    "        return out"
   ]
  },
  {
   "cell_type": "markdown",
   "metadata": {},
   "source": [
    "### The Convolutional Block\n",
    "\n",
    "ResNet \"convolutional block\"은 두번쨰 형태의 블럭으로 input과 output차원이 맞지 않을때 사용할 수 있다. indentity block과의 차이는 shortcut path에 Conv2D레이어가 존재한다는 것이다\n",
    "\n",
    "<center><img src=\"resources/convblock_kiank.png\" style=\"width:650px;height:150px;\"></center>\n",
    "<caption><center> <b>Convolutional block</b> </center></caption>\n",
    "\n",
    "* shortcut path의 Conv2D레이어는 입력 $x$를 다른 차원으로 매핑하여 main path의 출력값과 일치시키는데 사용된다.\n",
    "* 예를들어 공간 차원의 height와 width를 1/2로 줄이려면 1x1 convolution을 stride = 2로 수행한다. \n",
    "* 이 Conv2D 레이어는 non-linear activation 함수를 적용하지 않는다. 주된 목적이 입력 차원을 줄이는 선형 함수를 학습하는 것이기 때문이다.\n",
    "\n",
    "\n",
    "<mark>과제</mark> Convolution Block을 구현하라\n",
    "\n",
    "1. main path의 첫번째 레이어\n",
    "- 첫번째 Conv2d는 `intermediate_channels`개의 1x1 필터와 stride = 1, \"valid\" padding, bias = False이다.\n",
    "- BatchNorm\n",
    "- ReLU activation\n",
    "\n",
    "2. main path의 두번째 레이어\n",
    "- 두번째 Conv2d는 `intermediate_channels`개의 3x3필터와 stride = stride, padding = 1, bias = False이다.\n",
    "- BatchNorm\n",
    "- ReLU activation\n",
    "\n",
    "3. main path의 세번째 레이어\n",
    "- 세번째 Conv2d는 ``intermediate_channels`` x ``expansion``개의 1x1 필터와 stride = 1, \"valid\" padding, bias = False이다.\n",
    "- BatchNorm\n",
    "- ReLU activation\n",
    "- **No** ReLU activation \n",
    "\n",
    "4. Shortcut path\n",
    "- shortcut path의 Conv2d는 ``intermediate_channels`` x ``expansion``개의 1x1 필터와 stride = stride, \"valid\" padding, bias = False이다.\n",
    "- BatchNorm\n",
    "\n",
    "5. Final step: \n",
    "- shortcut과 main path의 값을 더한다\n",
    "- ReLU activation function"
   ]
  },
  {
   "cell_type": "code",
   "execution_count": 3,
   "metadata": {},
   "outputs": [],
   "source": [
    "class ConvBlock(nn.Module):\n",
    "    expansion = 4\n",
    "\n",
    "    def __init__(self, in_channels, intermediate_channels, stride):\n",
    "        super().__init__()\n",
    "\n",
    "        ##### YOUR CODE START #####\n",
    "        # 첫번째 layer\n",
    "        self.conv1 = nn.Conv2d(in_channels, intermediate_channels, \n",
    "                               kernel_size=1, stride=1, padding=0, bias=False)\n",
    "        self.bn1 = nn.BatchNorm2d(intermediate_channels)\n",
    "        \n",
    "        # 두번째 layer\n",
    "        self.conv2 = nn.Conv2d(intermediate_channels, intermediate_channels, \n",
    "                               kernel_size=3, stride=stride, padding=1, bias=False)\n",
    "        self.bn2 = nn.BatchNorm2d(intermediate_channels)\n",
    "\n",
    "        # 세번째 layer\n",
    "        self.conv3 = nn.Conv2d(intermediate_channels, intermediate_channels * self.expansion, \n",
    "                               kernel_size=1, stride=1, padding=0, bias=False)\n",
    "        self.bn3 = nn.BatchNorm2d(intermediate_channels * self.expansion)\n",
    "\n",
    "        self.relu = nn.ReLU()\n",
    "\n",
    "        # Shortcut path\n",
    "        self.shortcut = nn.Conv2d(in_channels, intermediate_channels * self.expansion, \n",
    "                                  kernel_size=1, stride=stride, padding=0, bias=False)\n",
    "        self.bn_shortcut = nn.BatchNorm2d(intermediate_channels * self.expansion)\n",
    "\n",
    "        ##### YOUR CODE END #####\n",
    "\n",
    "    def forward(self, x):\n",
    "        ##### YOUR CODE START #####\n",
    "        shortcut = self.shortcut(x)\n",
    "        shortcut = self.bn_shortcut(shortcut)\n",
    "\n",
    "        out = self.conv1(x)\n",
    "        out = self.bn1(out)\n",
    "        out = self.relu(out)\n",
    "\n",
    "        out = self.conv2(out)\n",
    "        out = self.bn2(out)\n",
    "        out = self.relu(out)\n",
    "\n",
    "        out = self.conv3(out)\n",
    "        out = self.bn3(out)\n",
    "\n",
    "        out += shortcut\n",
    "        out = self.relu(out)\n",
    "\n",
    "        ##### YOUR CODE END #####\n",
    "\n",
    "        return out"
   ]
  },
  {
   "cell_type": "markdown",
   "metadata": {},
   "source": [
    "## Building Your ResNet Model (50 layers)\n",
    "\n",
    "이제 ResNet50을 쌓기위한 블럭이 모두 완성되었다. 아래 그림은 ResNet구조를 나타내며, \"ID BLOCK\"은 Identity block을, \"ID BLOCK x3\"은 identity block을 3개 쌓는것을 의미한다.\n",
    "\n",
    "<center><img src=\"resources/resnet_kiank.png\" style=\"width:850px;height:150px;\"></center>\n",
    "<caption><center> <b>ResNet-50 model</b> </center></caption>\n",
    "\n",
    "<mark>과제</mark> 50개의 레이어가 있는 ResNet50 모델을 구현하라.\n",
    "ResNet-50 모델은 아래와 같이 이루어져 있다.\n",
    "- Stage 1 (Stem):\n",
    "    - 64개의 7x7 필터를 가지고 stride = 2, padding = 3인 Conv2D레이어 (bias=False)\n",
    "    - BatchNorm\n",
    "    - ReLU activation\n",
    "    - stride = 2, kernel_size = 3, padding = 1인 MaxPool2d\n",
    "- Stage 2 (3 layer):\n",
    "    - intermediate_channels = 64, expansion = 4, stride = 1인 convolutional block \n",
    "    - intermediate_channels = 64, expansion = 4인 2개의 identity block\n",
    "- Stage 3 (4 layer):\n",
    "    - intermediate_channels = 128, expansion = 4, stride = 2인 convolutional block \n",
    "    - intermediate_channels = 128, expansion = 4인 3개의 identity block\n",
    "- Stage 4 (6 layer):\n",
    "    - intermediate_channels = 256, expansion = 4, stride = 2인 convolutional block \n",
    "    - intermediate_channels = 256, expansion = 4인 5개의 identity block\n",
    "- Stage 5 (3 layer):\n",
    "    - intermediate_channels = 512, expansion = 4, stride = 2인 convolutional block \n",
    "    - intermediate_channels = 512, expansion = 4인 2개의 identity block\n",
    "- AdaptiveAvgPool2d를 이용한 2D Average Pooling (output = 1x1)\n",
    "- Flatten layer\n",
    "- Linear (Fully Connected) 레이어 (out_features = num_classes)\n",
    "\n",
    "아래 문서를 참조할것\n",
    "- [Sequential](https://pytorch.org/docs/stable/generated/torch.nn.Sequential.html)\n",
    "- [MaxPool2d](https://pytorch.org/docs/stable/generated/torch.nn.MaxPool2d.html)\n",
    "- [flatten](https://pytorch.org/docs/stable/generated/torch.flatten.html)\n",
    "- [AdaptiveAvgPool2d](https://pytorch.org/docs/stable/generated/torch.nn.AdaptiveAvgPool2d.html)"
   ]
  },
  {
   "cell_type": "code",
   "execution_count": 4,
   "metadata": {},
   "outputs": [],
   "source": [
    "class ResNet50(nn.Module):\n",
    "    def __init__(self, num_classes):\n",
    "        super(ResNet50, self).__init__()\n",
    "\n",
    "        ##### YOUR CODE START #####\n",
    "        self.stage1 = nn.Sequential(\n",
    "            nn.Conv2d(in_channels=3, out_channels=64,\n",
    "                     kernel_size=7, stride=2, padding=3, bias=False),\n",
    "            nn.BatchNorm2d(64),\n",
    "            nn.ReLU(),\n",
    "            nn.MaxPool2d(stride=2, kernel_size=3, padding=1)\n",
    "        )\n",
    "        self.stage2 = nn.Sequential(\n",
    "            ConvBlock(64,64,1),\n",
    "            IdentityBlock(256,64),\n",
    "            IdentityBlock(256,64)\n",
    "        )\n",
    "        self.stage3 = nn.Sequential(\n",
    "            ConvBlock(256,128,2),\n",
    "            IdentityBlock(512,128),\n",
    "            IdentityBlock(512,128),\n",
    "            IdentityBlock(512,128)\n",
    "        )\n",
    "        self.stage4 = nn.Sequential(\n",
    "            ConvBlock(512,256,2),\n",
    "            IdentityBlock(1024,256),\n",
    "            IdentityBlock(1024,256),\n",
    "            IdentityBlock(1024,256),\n",
    "            IdentityBlock(1024,256),\n",
    "            IdentityBlock(1024,256),\n",
    "        )\n",
    "        self.stage5 = nn.Sequential(\n",
    "            ConvBlock(1024,512,2),\n",
    "            IdentityBlock(2048,512),\n",
    "            IdentityBlock(2048,512)\n",
    "        )\n",
    "        \n",
    "        self.avg_pool = nn.AdaptiveAvgPool2d((1, 1))\n",
    "        \n",
    "        self.fc = nn.Linear(2048, num_classes)\n",
    "\n",
    "        ##### YOUR CODE END #####\n",
    "\n",
    "\n",
    "\n",
    "    def forward(self, x):\n",
    "        x = self.stage1(x)\n",
    "        x = self.stage2(x)\n",
    "        x = self.stage3(x)\n",
    "        x = self.stage4(x)\n",
    "        x = self.stage5(x)\n",
    "        x = self.avg_pool(x)\n",
    "        x = torch.flatten(x, 1)\n",
    "        x = self.fc(x)\n",
    "        return x"
   ]
  },
  {
   "cell_type": "code",
   "execution_count": 5,
   "metadata": {
    "tags": [
     "execute_cell"
    ]
   },
   "outputs": [
    {
     "name": "stdout",
     "output_type": "stream",
     "text": [
      "# of parameters of your ResNet50 model: 25557032\n"
     ]
    }
   ],
   "source": [
    "model = ResNet50(1000)\n",
    "print(f\"# of parameters of your ResNet50 model: {sum(p.numel() for p in model.parameters())}\")"
   ]
  },
  {
   "cell_type": "markdown",
   "metadata": {},
   "source": [
    "직접 구현한 resnet과 PyTorch에 미리 구현되어있는 resnet의 파라미터 수가 같음을 확인할 수 있다."
   ]
  },
  {
   "cell_type": "code",
   "execution_count": 6,
   "metadata": {
    "tags": [
     "execute_cell"
    ]
   },
   "outputs": [
    {
     "name": "stdout",
     "output_type": "stream",
     "text": [
      "# of parameters of pre-implemented model: 25557032\n"
     ]
    }
   ],
   "source": [
    "from torchvision import models\n",
    "torch_model = models.resnet50()\n",
    "print(f\"# of parameters of pre-implemented model: {sum(p.numel() for p in torch_model.parameters())}\")"
   ]
  },
  {
   "cell_type": "markdown",
   "metadata": {},
   "source": [
    "이제 resnet을 이용하여 CIFAR-10 데이터셋을 학습해보자.\n",
    "\n",
    "CIFAR-10은 32x32x3의 해상도의 사물 데이터를 모아 놓은 데이터 세트로, 비행기(airplane), 자동차(automobile), 새(bird), 고양이(cat) 등 총 10개의 클래스로 구성된다.\n",
    "\n",
    "학습 데이터는 50,000개이고, 테스트 데이터는 10,000개이다."
   ]
  },
  {
   "cell_type": "code",
   "execution_count": 7,
   "metadata": {},
   "outputs": [],
   "source": [
    "def load_cifar10_datasets(data_root_dir):\n",
    "    train_transforms = transforms.Compose([\n",
    "        transforms.ToTensor(),\n",
    "        transforms.Normalize((0.5, 0.5, 0.5), (0.5, 0.5, 0.5)) \n",
    "    ])\n",
    "\n",
    "    test_transforms = transforms.Compose([\n",
    "        transforms.ToTensor(),\n",
    "        transforms.Normalize((0.5, 0.5, 0.5), (0.5, 0.5, 0.5)) \n",
    "    ])\n",
    "\n",
    "    # Load CIFAR-10 dataset\n",
    "    train_dataset = datasets.CIFAR10(root=data_root_dir, train=True, download=True, transform=train_transforms)\n",
    "    test_dataset = datasets.CIFAR10(root=data_root_dir, train=False, download=True, transform=test_transforms)\n",
    "\n",
    "    return train_dataset, test_dataset"
   ]
  },
  {
   "cell_type": "code",
   "execution_count": 8,
   "metadata": {},
   "outputs": [],
   "source": [
    "import matplotlib.pyplot as plt\n",
    "\n",
    "def visualize_few_samples(dataset, cols=8, rows=5):\n",
    "    label_names = ['airplane', 'automobile', 'bird', 'cat', 'deer',\n",
    "                   'dog', 'frog', 'horse', 'ship', 'truck']  # CIFAR10 class names\n",
    "\n",
    "    figure, axes = plt.subplots(rows, cols, figsize=(cols * 2, rows * 2)) \n",
    "    axes = axes.flatten()\n",
    "\n",
    "    for i in range(cols * rows):\n",
    "        sample_idx = torch.randint(len(dataset), size=(1,)).item()\n",
    "        img, label = dataset[sample_idx]\n",
    "        img = img.permute(1, 2, 0)  # CHW to HWC\n",
    "        img = img.numpy()  # Convert to numpy array\n",
    "        img = (img * 0.5 + 0.5)  # Unnormalize to [0,1] for display\n",
    "        axes[i].imshow(img)\n",
    "        axes[i].set_title(label_names[label])\n",
    "        axes[i].axis('off')\n",
    "    \n",
    "    plt.tight_layout()\n",
    "    plt.show()"
   ]
  },
  {
   "cell_type": "code",
   "execution_count": 9,
   "metadata": {
    "tags": [
     "execute_cell"
    ]
   },
   "outputs": [
    {
     "name": "stdout",
     "output_type": "stream",
     "text": [
      "Files already downloaded and verified\n",
      "Files already downloaded and verified\n"
     ]
    },
    {
     "data": {
      "image/png": "[encoded data removed]",
      "text/plain": [
       "<Figure size 1000x800 with 20 Axes>"
      ]
     },
     "metadata": {},
     "output_type": "display_data"
    }
   ],
   "source": [
    "train_dataset, test_dataset = load_cifar10_datasets(\"/datasets\")\n",
    "visualize_few_samples(train_dataset, cols = 5, rows = 4)"
   ]
  },
  {
   "cell_type": "code",
   "execution_count": 10,
   "metadata": {},
   "outputs": [],
   "source": [
    "class SimpleCNN(nn.Module):\n",
    "    def __init__(self):\n",
    "        super().__init__()\n",
    "        self.conv1 = nn.Conv2d(3, 8, 5)\n",
    "        self.pool = nn.MaxPool2d(2, 2)\n",
    "        self.conv2 = nn.Conv2d(8, 16, 5)\n",
    "        self.fc1 = nn.Linear(16*5*5, 128) \n",
    "        self.fc2 = nn.Linear(128, 64)\n",
    "        self.fc3 = nn.Linear(64, 10)\n",
    "\n",
    "    def forward(self, x):\n",
    "        x = self.pool(F.relu(self.conv1(x))) # gives (8, 14, 14)\n",
    "        x = self.pool(F.relu(self.conv2(x))) # gives (16, 5, 5)\n",
    "        x = torch.flatten(x, 1) # flatten all dimensions except batch\n",
    "        x = F.relu(self.fc1(x))\n",
    "        x = F.relu(self.fc2(x))\n",
    "        x = self.fc3(x)\n",
    "\n",
    "        return x"
   ]
  },
  {
   "cell_type": "markdown",
   "metadata": {},
   "source": [
    "<mark>과제</mark> ResNet50으로 CIFAR10 데이터셋을 학습하고 지난시간에 구현한 SimpleCNN 모델과 성능을 비교하라"
   ]
  },
  {
   "cell_type": "code",
   "execution_count": 11,
   "metadata": {},
   "outputs": [],
   "source": [
    "def get_model(model_name, num_classes, config):\n",
    "    if model_name == \"resnet50\":\n",
    "        model = ResNet50(num_classes)\n",
    "    elif model_name == \"SimpleCNN\":\n",
    "        model = SimpleCNN()\n",
    "    else:\n",
    "        raise Exception(\"Model not supported: {}\".format(model_name))\n",
    "    print(f\"Using model {model_name} with {sum(p.numel() for p in model.parameters())} parameters\")\n",
    "    return model"
   ]
  },
  {
   "cell_type": "code",
   "execution_count": 12,
   "metadata": {},
   "outputs": [],
   "source": [
    "def train_main(config):\n",
    "    ## data and preprocessing settings\n",
    "    data_root_dir = config['data_root_dir']\n",
    "    num_worker = config.get('num_worker', 4)\n",
    "\n",
    "    ## Hyper parameters\n",
    "    batch_size = config['batch_size']\n",
    "    learning_rate = config['learning_rate']\n",
    "    start_epoch = config.get('start_epoch', 0)\n",
    "    num_epochs = config['num_epochs']\n",
    "\n",
    "    ## checkpoint setting\n",
    "    checkpoint_save_interval = config.get('checkpoint_save_interval', 10)\n",
    "    checkpoint_path = config.get('checkpoint_path', \"checkpoints/checkpoint.pth\")\n",
    "    best_model_path = config.get('best_model_path', \"checkpoints/best_model.pth\")\n",
    "    load_from_checkpoint = config.get('load_from_checkpoint', None)\n",
    "\n",
    "    ## variables\n",
    "    best_acc1 = 0\n",
    "\n",
    "    ## set learning deterministic\n",
    "    # torch.manual_seed(1)\n",
    "\n",
    "    wandb.init(\n",
    "        project=config[\"wandb_project_name\"],\n",
    "        config=config\n",
    "    )\n",
    "\n",
    "\n",
    "    device = \"cuda:0\" if torch.cuda.is_available() else \"mps\" if torch.backends.mps.is_available() else \"cpu\"\n",
    "    print(f\"Using {device} device\")\n",
    "\n",
    "    train_dataset, test_dataset = load_cifar10_datasets(data_root_dir)\n",
    "    num_classes = len(train_dataset.classes)\n",
    "    \n",
    "    train_dataloader, test_dataloader = create_dataloaders(train_dataset, test_dataset, device, \n",
    "                                                           batch_size = batch_size, num_worker = num_worker)\n",
    "\n",
    "\n",
    "    model = get_model(model_name = config[\"model_name\"], num_classes= num_classes, config = config).to(device)\n",
    "\n",
    "    criterion = nn.CrossEntropyLoss().to(device)\n",
    "    optimizer = torch.optim.SGD(model.parameters(), lr = learning_rate)\n",
    "\n",
    "    if load_from_checkpoint:\n",
    "        load_checkpoint_path = (best_model_path if load_from_checkpoint == \"best\" else checkpoint_path)\n",
    "        start_epoch, best_acc1 = load_checkpoint(load_checkpoint_path, model, optimizer, device)\n",
    "\n",
    "    for epoch in range(start_epoch, num_epochs):\n",
    "        train_loop(model, device, train_dataloader, criterion, optimizer, epoch)\n",
    "        test_acc1 = evaluation_loop(model, device, test_dataloader,criterion, epoch)\n",
    "\n",
    "        if (epoch + 1) % checkpoint_save_interval == 0 or (epoch + 1) == num_epochs:\n",
    "            is_best = test_acc1 > best_acc1\n",
    "            best_acc1 = max(test_acc1, best_acc1)\n",
    "            save_checkpoint(checkpoint_path, model, optimizer, epoch, best_acc1, is_best, best_model_path)\n",
    "\n",
    "\n",
    "    wandb.finish()\n"
   ]
  },
  {
   "cell_type": "code",
   "execution_count": 13,
   "metadata": {
    "tags": [
     "execute_cell"
    ]
   },
   "outputs": [
    {
     "name": "stderr",
     "output_type": "stream",
     "text": [
      "Failed to detect the name of this notebook, you can set it manually with the WANDB_NOTEBOOK_NAME environment variable to enable code saving.\n",
      "\u001b[34m\u001b[1mwandb\u001b[0m: Currently logged in as: \u001b[33msangmin881717\u001b[0m (\u001b[33msangmin881717-university-of-suwon\u001b[0m). Use \u001b[1m`wandb login --relogin`\u001b[0m to force relogin\n"
     ]
    },
    {
     "data": {
      "text/html": [
       "wandb version 0.18.1 is available!  To upgrade, please run:\n",
       " $ pip install wandb --upgrade"
      ],
      "text/plain": [
       "<IPython.core.display.HTML object>"
      ]
     },
     "metadata": {},
     "output_type": "display_data"
    },
    {
     "data": {
      "text/html": [
       "Tracking run with wandb version 0.17.7"
      ],
      "text/plain": [
       "<IPython.core.display.HTML object>"
      ]
     },
     "metadata": {},
     "output_type": "display_data"
    },
    {
     "data": {
      "text/html": [
       "Run data is saved locally in <code>/home/jovyan/deep_learning_lab/lab_04/wandb/run-20240926_022210-6n1ozjcn</code>"
      ],
      "text/plain": [
       "<IPython.core.display.HTML object>"
      ]
     },
     "metadata": {},
     "output_type": "display_data"
    },
    {
     "data": {
      "text/html": [
       "Syncing run <strong><a href='https://wandb.ai/sangmin881717-university-of-suwon/CIFAR10_train/runs/6n1ozjcn' target=\"_blank\">legendary-rain-4</a></strong> to <a href='https://wandb.ai/sangmin881717-university-of-suwon/CIFAR10_train' target=\"_blank\">Weights & Biases</a> (<a href='https://wandb.me/run' target=\"_blank\">docs</a>)<br/>"
      ],
      "text/plain": [
       "<IPython.core.display.HTML object>"
      ]
     },
     "metadata": {},
     "output_type": "display_data"
    },
    {
     "data": {
      "text/html": [
       " View project at <a href='https://wandb.ai/sangmin881717-university-of-suwon/CIFAR10_train' target=\"_blank\">https://wandb.ai/sangmin881717-university-of-suwon/CIFAR10_train</a>"
      ],
      "text/plain": [
       "<IPython.core.display.HTML object>"
      ]
     },
     "metadata": {},
     "output_type": "display_data"
    },
    {
     "data": {
      "text/html": [
       " View run at <a href='https://wandb.ai/sangmin881717-university-of-suwon/CIFAR10_train/runs/6n1ozjcn' target=\"_blank\">https://wandb.ai/sangmin881717-university-of-suwon/CIFAR10_train/runs/6n1ozjcn</a>"
      ],
      "text/plain": [
       "<IPython.core.display.HTML object>"
      ]
     },
     "metadata": {},
     "output_type": "display_data"
    },
    {
     "name": "stdout",
     "output_type": "stream",
     "text": [
      "Using cuda:0 device\n",
      "Files already downloaded and verified\n",
      "Files already downloaded and verified\n",
      "Using model resnet50 with 23528522 parameters\n"
     ]
    },
    {
     "name": "stderr",
     "output_type": "stream",
     "text": [
      "Training Epoch 1:   0%|          | 0/782 [00:00<?, ?it/s]/opt/conda/lib/python3.11/site-packages/torch/autograd/graph.py:744: UserWarning: Plan failed with a cudnnException: CUDNN_BACKEND_EXECUTION_PLAN_DESCRIPTOR: cudnnFinalize Descriptor Failed cudnn_status: CUDNN_STATUS_NOT_SUPPORTED (Triggered internally at ../aten/src/ATen/native/cudnn/Conv_v8.cpp:919.)\n",
      "  return Variable._execution_engine.run_backward(  # Calls into the C++ engine to run the backward pass\n",
      "Training Epoch 1: 100%|██████████| 782/782 [00:06<00:00, 117.86it/s, avg_metrics=Loss: 2.0794e+00 (n=50000)), Acc@1:  24.09 (n=50000)), Data_Time:  0.001 (n=782)), Batch_Time:  0.007 (n=782))]\n",
      "Validation/Test: 100%|██████████| 157/157 [00:00<00:00, 301.95it/s, avg_metrics=Loss: 1.9027e+00 (n=10000)), Acc@1:  34.14 (n=10000))]\n",
      "Training Epoch 2: 100%|██████████| 782/782 [00:05<00:00, 142.91it/s, avg_metrics=Loss: 1.7364e+00 (n=50000)), Acc@1:  36.77 (n=50000)), Data_Time:  0.000 (n=782)), Batch_Time:  0.005 (n=782))]\n",
      "Validation/Test: 100%|██████████| 157/157 [00:00<00:00, 310.19it/s, avg_metrics=Loss: 1.7196e+00 (n=10000)), Acc@1:  39.33 (n=10000))]\n",
      "Training Epoch 3: 100%|██████████| 782/782 [00:05<00:00, 137.99it/s, avg_metrics=Loss: 1.5692e+00 (n=50000)), Acc@1:  43.08 (n=50000)), Data_Time:  0.000 (n=782)), Batch_Time:  0.006 (n=782))]\n",
      "Validation/Test: 100%|██████████| 157/157 [00:00<00:00, 306.58it/s, avg_metrics=Loss: 1.5991e+00 (n=10000)), Acc@1:  43.65 (n=10000))]\n",
      "Training Epoch 4: 100%|██████████| 782/782 [00:05<00:00, 141.60it/s, avg_metrics=Loss: 1.4533e+00 (n=50000)), Acc@1:  47.47 (n=50000)), Data_Time:  0.000 (n=782)), Batch_Time:  0.005 (n=782))]\n",
      "Validation/Test: 100%|██████████| 157/157 [00:00<00:00, 308.33it/s, avg_metrics=Loss: 1.5145e+00 (n=10000)), Acc@1:  45.14 (n=10000))]\n",
      "Training Epoch 5: 100%|██████████| 782/782 [00:05<00:00, 141.62it/s, avg_metrics=Loss: 1.3574e+00 (n=50000)), Acc@1:  50.96 (n=50000)), Data_Time:  0.000 (n=782)), Batch_Time:  0.005 (n=782))]\n",
      "Validation/Test: 100%|██████████| 157/157 [00:00<00:00, 306.97it/s, avg_metrics=Loss: 1.4332e+00 (n=10000)), Acc@1:  48.28 (n=10000))]\n",
      "Training Epoch 6: 100%|██████████| 782/782 [00:05<00:00, 139.97it/s, avg_metrics=Loss: 1.2662e+00 (n=50000)), Acc@1:  54.43 (n=50000)), Data_Time:  0.000 (n=782)), Batch_Time:  0.005 (n=782))]\n",
      "Validation/Test: 100%|██████████| 157/157 [00:00<00:00, 309.53it/s, avg_metrics=Loss: 1.3797e+00 (n=10000)), Acc@1:  50.69 (n=10000))]\n",
      "Training Epoch 7: 100%|██████████| 782/782 [00:05<00:00, 141.60it/s, avg_metrics=Loss: 1.1796e+00 (n=50000)), Acc@1:  57.73 (n=50000)), Data_Time:  0.000 (n=782)), Batch_Time:  0.005 (n=782))]\n",
      "Validation/Test: 100%|██████████| 157/157 [00:00<00:00, 308.83it/s, avg_metrics=Loss: 1.4061e+00 (n=10000)), Acc@1:  51.34 (n=10000))]\n",
      "Training Epoch 8: 100%|██████████| 782/782 [00:05<00:00, 141.70it/s, avg_metrics=Loss: 1.0988e+00 (n=50000)), Acc@1:  60.61 (n=50000)), Data_Time:  0.000 (n=782)), Batch_Time:  0.005 (n=782))]\n",
      "Validation/Test: 100%|██████████| 157/157 [00:00<00:00, 294.18it/s, avg_metrics=Loss: 1.4109e+00 (n=10000)), Acc@1:  50.47 (n=10000))]\n",
      "Training Epoch 9: 100%|██████████| 782/782 [00:05<00:00, 140.90it/s, avg_metrics=Loss: 1.0256e+00 (n=50000)), Acc@1:  63.33 (n=50000)), Data_Time:  0.000 (n=782)), Batch_Time:  0.005 (n=782))]\n",
      "Validation/Test: 100%|██████████| 157/157 [00:00<00:00, 303.04it/s, avg_metrics=Loss: 1.3625e+00 (n=10000)), Acc@1:  52.77 (n=10000))]\n",
      "Training Epoch 10: 100%|██████████| 782/782 [00:05<00:00, 137.07it/s, avg_metrics=Loss: 9.4214e-01 (n=50000)), Acc@1:  66.59 (n=50000)), Data_Time:  0.000 (n=782)), Batch_Time:  0.006 (n=782))]\n",
      "Validation/Test: 100%|██████████| 157/157 [00:00<00:00, 301.89it/s, avg_metrics=Loss: 1.4198e+00 (n=10000)), Acc@1:  52.01 (n=10000))]\n",
      "Training Epoch 11: 100%|██████████| 782/782 [00:05<00:00, 140.54it/s, avg_metrics=Loss: 8.7662e-01 (n=50000)), Acc@1:  68.74 (n=50000)), Data_Time:  0.000 (n=782)), Batch_Time:  0.005 (n=782))]\n",
      "Validation/Test: 100%|██████████| 157/157 [00:00<00:00, 313.55it/s, avg_metrics=Loss: 1.4141e+00 (n=10000)), Acc@1:  52.51 (n=10000))]\n",
      "Training Epoch 12: 100%|██████████| 782/782 [00:05<00:00, 140.87it/s, avg_metrics=Loss: 8.0636e-01 (n=50000)), Acc@1:  71.37 (n=50000)), Data_Time:  0.000 (n=782)), Batch_Time:  0.005 (n=782))]\n",
      "Validation/Test: 100%|██████████| 157/157 [00:00<00:00, 310.84it/s, avg_metrics=Loss: 1.4131e+00 (n=10000)), Acc@1:  53.04 (n=10000))]\n",
      "Training Epoch 13: 100%|██████████| 782/782 [00:05<00:00, 140.35it/s, avg_metrics=Loss: 7.3620e-01 (n=50000)), Acc@1:  73.91 (n=50000)), Data_Time:  0.000 (n=782)), Batch_Time:  0.005 (n=782))]\n",
      "Validation/Test: 100%|██████████| 157/157 [00:00<00:00, 310.72it/s, avg_metrics=Loss: 1.4228e+00 (n=10000)), Acc@1:  53.63 (n=10000))]\n",
      "Training Epoch 14: 100%|██████████| 782/782 [00:05<00:00, 142.31it/s, avg_metrics=Loss: 6.6985e-01 (n=50000)), Acc@1:  76.49 (n=50000)), Data_Time:  0.000 (n=782)), Batch_Time:  0.005 (n=782))]\n",
      "Validation/Test: 100%|██████████| 157/157 [00:00<00:00, 317.82it/s, avg_metrics=Loss: 1.5414e+00 (n=10000)), Acc@1:  53.32 (n=10000))]\n",
      "Training Epoch 15: 100%|██████████| 782/782 [00:05<00:00, 141.00it/s, avg_metrics=Loss: 6.0996e-01 (n=50000)), Acc@1:  78.82 (n=50000)), Data_Time:  0.000 (n=782)), Batch_Time:  0.005 (n=782))]\n",
      "Validation/Test: 100%|██████████| 157/157 [00:00<00:00, 313.41it/s, avg_metrics=Loss: 1.5125e+00 (n=10000)), Acc@1:  54.49 (n=10000))]\n",
      "Training Epoch 16: 100%|██████████| 782/782 [00:05<00:00, 141.07it/s, avg_metrics=Loss: 5.4834e-01 (n=50000)), Acc@1:  80.74 (n=50000)), Data_Time:  0.000 (n=782)), Batch_Time:  0.005 (n=782))]\n",
      "Validation/Test: 100%|██████████| 157/157 [00:00<00:00, 303.39it/s, avg_metrics=Loss: 1.5823e+00 (n=10000)), Acc@1:  53.75 (n=10000))]\n",
      "Training Epoch 17: 100%|██████████| 782/782 [00:05<00:00, 141.95it/s, avg_metrics=Loss: 5.0019e-01 (n=50000)), Acc@1:  82.26 (n=50000)), Data_Time:  0.000 (n=782)), Batch_Time:  0.005 (n=782))]\n",
      "Validation/Test: 100%|██████████| 157/157 [00:00<00:00, 306.96it/s, avg_metrics=Loss: 1.7294e+00 (n=10000)), Acc@1:  52.22 (n=10000))]\n",
      "Training Epoch 18: 100%|██████████| 782/782 [00:05<00:00, 141.21it/s, avg_metrics=Loss: 4.5391e-01 (n=50000)), Acc@1:  84.10 (n=50000)), Data_Time:  0.000 (n=782)), Batch_Time:  0.005 (n=782))]\n",
      "Validation/Test: 100%|██████████| 157/157 [00:00<00:00, 309.80it/s, avg_metrics=Loss: 1.7870e+00 (n=10000)), Acc@1:  51.94 (n=10000))]\n",
      "Training Epoch 19: 100%|██████████| 782/782 [00:05<00:00, 140.73it/s, avg_metrics=Loss: 4.1333e-01 (n=50000)), Acc@1:  85.43 (n=50000)), Data_Time:  0.000 (n=782)), Batch_Time:  0.005 (n=782))]\n",
      "Validation/Test: 100%|██████████| 157/157 [00:00<00:00, 308.34it/s, avg_metrics=Loss: 1.6499e+00 (n=10000)), Acc@1:  54.99 (n=10000))]\n",
      "Training Epoch 20: 100%|██████████| 782/782 [00:05<00:00, 141.54it/s, avg_metrics=Loss: 3.5783e-01 (n=50000)), Acc@1:  87.47 (n=50000)), Data_Time:  0.000 (n=782)), Batch_Time:  0.005 (n=782))]\n",
      "Validation/Test: 100%|██████████| 157/157 [00:00<00:00, 319.31it/s, avg_metrics=Loss: 1.7772e+00 (n=10000)), Acc@1:  55.66 (n=10000))]\n",
      "Training Epoch 21: 100%|██████████| 782/782 [00:05<00:00, 140.75it/s, avg_metrics=Loss: 3.3896e-01 (n=50000)), Acc@1:  88.14 (n=50000)), Data_Time:  0.000 (n=782)), Batch_Time:  0.005 (n=782))]\n",
      "Validation/Test: 100%|██████████| 157/157 [00:00<00:00, 320.80it/s, avg_metrics=Loss: 1.9081e+00 (n=10000)), Acc@1:  53.37 (n=10000))]\n",
      "Training Epoch 22: 100%|██████████| 782/782 [00:05<00:00, 142.29it/s, avg_metrics=Loss: 3.0987e-01 (n=50000)), Acc@1:  89.15 (n=50000)), Data_Time:  0.000 (n=782)), Batch_Time:  0.005 (n=782))]\n",
      "Validation/Test: 100%|██████████| 157/157 [00:00<00:00, 313.69it/s, avg_metrics=Loss: 2.0491e+00 (n=10000)), Acc@1:  52.13 (n=10000))]\n",
      "Training Epoch 23: 100%|██████████| 782/782 [00:05<00:00, 141.85it/s, avg_metrics=Loss: 2.8622e-01 (n=50000)), Acc@1:  90.04 (n=50000)), Data_Time:  0.000 (n=782)), Batch_Time:  0.005 (n=782))]\n",
      "Validation/Test: 100%|██████████| 157/157 [00:00<00:00, 309.53it/s, avg_metrics=Loss: 1.8215e+00 (n=10000)), Acc@1:  55.50 (n=10000))]\n",
      "Training Epoch 24: 100%|██████████| 782/782 [00:05<00:00, 140.27it/s, avg_metrics=Loss: 2.6106e-01 (n=50000)), Acc@1:  90.80 (n=50000)), Data_Time:  0.000 (n=782)), Batch_Time:  0.005 (n=782))]\n",
      "Validation/Test: 100%|██████████| 157/157 [00:00<00:00, 308.59it/s, avg_metrics=Loss: 1.8911e+00 (n=10000)), Acc@1:  56.47 (n=10000))]\n",
      "Training Epoch 25: 100%|██████████| 782/782 [00:05<00:00, 142.30it/s, avg_metrics=Loss: 2.3057e-01 (n=50000)), Acc@1:  92.05 (n=50000)), Data_Time:  0.000 (n=782)), Batch_Time:  0.005 (n=782))]\n",
      "Validation/Test: 100%|██████████| 157/157 [00:00<00:00, 304.78it/s, avg_metrics=Loss: 1.9177e+00 (n=10000)), Acc@1:  55.22 (n=10000))]\n",
      "Training Epoch 26: 100%|██████████| 782/782 [00:05<00:00, 141.85it/s, avg_metrics=Loss: 2.0860e-01 (n=50000)), Acc@1:  92.72 (n=50000)), Data_Time:  0.000 (n=782)), Batch_Time:  0.005 (n=782))]\n",
      "Validation/Test: 100%|██████████| 157/157 [00:00<00:00, 313.93it/s, avg_metrics=Loss: 1.9230e+00 (n=10000)), Acc@1:  56.01 (n=10000))]\n",
      "Training Epoch 27: 100%|██████████| 782/782 [00:05<00:00, 140.08it/s, avg_metrics=Loss: 1.9334e-01 (n=50000)), Acc@1:  93.44 (n=50000)), Data_Time:  0.000 (n=782)), Batch_Time:  0.005 (n=782))]\n",
      "Validation/Test: 100%|██████████| 157/157 [00:00<00:00, 302.12it/s, avg_metrics=Loss: 2.0376e+00 (n=10000)), Acc@1:  55.57 (n=10000))]\n",
      "Training Epoch 28: 100%|██████████| 782/782 [00:05<00:00, 140.55it/s, avg_metrics=Loss: 1.7685e-01 (n=50000)), Acc@1:  93.92 (n=50000)), Data_Time:  0.000 (n=782)), Batch_Time:  0.005 (n=782))]\n",
      "Validation/Test: 100%|██████████| 157/157 [00:00<00:00, 307.51it/s, avg_metrics=Loss: 2.1157e+00 (n=10000)), Acc@1:  54.69 (n=10000))]\n",
      "Training Epoch 29: 100%|██████████| 782/782 [00:05<00:00, 142.18it/s, avg_metrics=Loss: 1.6906e-01 (n=50000)), Acc@1:  94.27 (n=50000)), Data_Time:  0.000 (n=782)), Batch_Time:  0.005 (n=782))]\n",
      "Validation/Test: 100%|██████████| 157/157 [00:00<00:00, 314.24it/s, avg_metrics=Loss: 2.1492e+00 (n=10000)), Acc@1:  54.51 (n=10000))]\n",
      "Training Epoch 30: 100%|██████████| 782/782 [00:05<00:00, 141.08it/s, avg_metrics=Loss: 1.4885e-01 (n=50000)), Acc@1:  94.84 (n=50000)), Data_Time:  0.000 (n=782)), Batch_Time:  0.005 (n=782))]\n",
      "Validation/Test: 100%|██████████| 157/157 [00:00<00:00, 294.42it/s, avg_metrics=Loss: 2.1047e+00 (n=10000)), Acc@1:  56.14 (n=10000))]\n",
      "Training Epoch 31: 100%|██████████| 782/782 [00:05<00:00, 136.59it/s, avg_metrics=Loss: 1.4503e-01 (n=50000)), Acc@1:  95.03 (n=50000)), Data_Time:  0.000 (n=782)), Batch_Time:  0.006 (n=782))]\n",
      "Validation/Test: 100%|██████████| 157/157 [00:00<00:00, 308.43it/s, avg_metrics=Loss: 2.0687e+00 (n=10000)), Acc@1:  56.85 (n=10000))]\n",
      "Training Epoch 32: 100%|██████████| 782/782 [00:05<00:00, 141.19it/s, avg_metrics=Loss: 1.4704e-01 (n=50000)), Acc@1:  95.04 (n=50000)), Data_Time:  0.000 (n=782)), Batch_Time:  0.005 (n=782))]\n",
      "Validation/Test: 100%|██████████| 157/157 [00:00<00:00, 306.11it/s, avg_metrics=Loss: 2.2805e+00 (n=10000)), Acc@1:  54.10 (n=10000))]\n",
      "Training Epoch 33: 100%|██████████| 782/782 [00:05<00:00, 140.89it/s, avg_metrics=Loss: 1.2526e-01 (n=50000)), Acc@1:  95.80 (n=50000)), Data_Time:  0.000 (n=782)), Batch_Time:  0.005 (n=782))]\n",
      "Validation/Test: 100%|██████████| 157/157 [00:00<00:00, 320.90it/s, avg_metrics=Loss: 2.1000e+00 (n=10000)), Acc@1:  56.98 (n=10000))]\n",
      "Training Epoch 34: 100%|██████████| 782/782 [00:05<00:00, 141.94it/s, avg_metrics=Loss: 1.2200e-01 (n=50000)), Acc@1:  95.82 (n=50000)), Data_Time:  0.000 (n=782)), Batch_Time:  0.005 (n=782))]\n",
      "Validation/Test: 100%|██████████| 157/157 [00:00<00:00, 296.81it/s, avg_metrics=Loss: 2.4657e+00 (n=10000)), Acc@1:  53.36 (n=10000))]\n",
      "Training Epoch 35: 100%|██████████| 782/782 [00:05<00:00, 140.93it/s, avg_metrics=Loss: 1.2328e-01 (n=50000)), Acc@1:  95.83 (n=50000)), Data_Time:  0.000 (n=782)), Batch_Time:  0.005 (n=782))]\n",
      "Validation/Test: 100%|██████████| 157/157 [00:00<00:00, 316.29it/s, avg_metrics=Loss: 2.2013e+00 (n=10000)), Acc@1:  55.96 (n=10000))]\n",
      "Training Epoch 36: 100%|██████████| 782/782 [00:05<00:00, 140.83it/s, avg_metrics=Loss: 1.1168e-01 (n=50000)), Acc@1:  96.24 (n=50000)), Data_Time:  0.000 (n=782)), Batch_Time:  0.005 (n=782))]\n",
      "Validation/Test: 100%|██████████| 157/157 [00:00<00:00, 312.85it/s, avg_metrics=Loss: 2.0556e+00 (n=10000)), Acc@1:  58.21 (n=10000))]\n",
      "Training Epoch 37: 100%|██████████| 782/782 [00:05<00:00, 140.69it/s, avg_metrics=Loss: 9.4591e-02 (n=50000)), Acc@1:  96.80 (n=50000)), Data_Time:  0.000 (n=782)), Batch_Time:  0.005 (n=782))]\n",
      "Validation/Test: 100%|██████████| 157/157 [00:00<00:00, 310.52it/s, avg_metrics=Loss: 2.1891e+00 (n=10000)), Acc@1:  57.26 (n=10000))]\n",
      "Training Epoch 38: 100%|██████████| 782/782 [00:05<00:00, 140.50it/s, avg_metrics=Loss: 9.4778e-02 (n=50000)), Acc@1:  96.87 (n=50000)), Data_Time:  0.000 (n=782)), Batch_Time:  0.005 (n=782))]\n",
      "Validation/Test: 100%|██████████| 157/157 [00:00<00:00, 311.18it/s, avg_metrics=Loss: 2.1879e+00 (n=10000)), Acc@1:  57.85 (n=10000))]\n",
      "Training Epoch 39: 100%|██████████| 782/782 [00:05<00:00, 141.40it/s, avg_metrics=Loss: 1.0007e-01 (n=50000)), Acc@1:  96.53 (n=50000)), Data_Time:  0.000 (n=782)), Batch_Time:  0.005 (n=782))]\n",
      "Validation/Test: 100%|██████████| 157/157 [00:00<00:00, 322.89it/s, avg_metrics=Loss: 2.2910e+00 (n=10000)), Acc@1:  55.65 (n=10000))]\n",
      "Training Epoch 40: 100%|██████████| 782/782 [00:05<00:00, 141.12it/s, avg_metrics=Loss: 9.1962e-02 (n=50000)), Acc@1:  96.81 (n=50000)), Data_Time:  0.000 (n=782)), Batch_Time:  0.005 (n=782))]\n",
      "Validation/Test: 100%|██████████| 157/157 [00:00<00:00, 307.24it/s, avg_metrics=Loss: 2.1403e+00 (n=10000)), Acc@1:  58.14 (n=10000))]\n",
      "Training Epoch 41: 100%|██████████| 782/782 [00:05<00:00, 139.34it/s, avg_metrics=Loss: 8.5152e-02 (n=50000)), Acc@1:  97.14 (n=50000)), Data_Time:  0.000 (n=782)), Batch_Time:  0.005 (n=782))]\n",
      "Validation/Test: 100%|██████████| 157/157 [00:00<00:00, 311.27it/s, avg_metrics=Loss: 2.3913e+00 (n=10000)), Acc@1:  55.94 (n=10000))]\n",
      "Training Epoch 42: 100%|██████████| 782/782 [00:05<00:00, 140.93it/s, avg_metrics=Loss: 8.5217e-02 (n=50000)), Acc@1:  97.13 (n=50000)), Data_Time:  0.000 (n=782)), Batch_Time:  0.005 (n=782))]\n",
      "Validation/Test: 100%|██████████| 157/157 [00:00<00:00, 316.66it/s, avg_metrics=Loss: 2.3201e+00 (n=10000)), Acc@1:  56.37 (n=10000))]\n",
      "Training Epoch 43: 100%|██████████| 782/782 [00:05<00:00, 139.06it/s, avg_metrics=Loss: 7.6245e-02 (n=50000)), Acc@1:  97.44 (n=50000)), Data_Time:  0.000 (n=782)), Batch_Time:  0.005 (n=782))]\n",
      "Validation/Test: 100%|██████████| 157/157 [00:00<00:00, 319.97it/s, avg_metrics=Loss: 2.3312e+00 (n=10000)), Acc@1:  57.84 (n=10000))]\n",
      "Training Epoch 44: 100%|██████████| 782/782 [00:05<00:00, 141.78it/s, avg_metrics=Loss: 6.6300e-02 (n=50000)), Acc@1:  97.76 (n=50000)), Data_Time:  0.000 (n=782)), Batch_Time:  0.005 (n=782))]\n",
      "Validation/Test: 100%|██████████| 157/157 [00:00<00:00, 315.64it/s, avg_metrics=Loss: 2.1994e+00 (n=10000)), Acc@1:  59.15 (n=10000))]\n",
      "Training Epoch 45: 100%|██████████| 782/782 [00:05<00:00, 141.12it/s, avg_metrics=Loss: 6.0173e-02 (n=50000)), Acc@1:  97.96 (n=50000)), Data_Time:  0.000 (n=782)), Batch_Time:  0.005 (n=782))]\n",
      "Validation/Test: 100%|██████████| 157/157 [00:00<00:00, 308.60it/s, avg_metrics=Loss: 2.2172e+00 (n=10000)), Acc@1:  59.06 (n=10000))]\n",
      "Training Epoch 46: 100%|██████████| 782/782 [00:05<00:00, 137.68it/s, avg_metrics=Loss: 6.1766e-02 (n=50000)), Acc@1:  97.89 (n=50000)), Data_Time:  0.000 (n=782)), Batch_Time:  0.006 (n=782))]\n",
      "Validation/Test: 100%|██████████| 157/157 [00:00<00:00, 304.54it/s, avg_metrics=Loss: 2.3985e+00 (n=10000)), Acc@1:  56.06 (n=10000))]\n",
      "Training Epoch 47: 100%|██████████| 782/782 [00:05<00:00, 142.83it/s, avg_metrics=Loss: 6.3426e-02 (n=50000)), Acc@1:  97.95 (n=50000)), Data_Time:  0.000 (n=782)), Batch_Time:  0.005 (n=782))]\n",
      "Validation/Test: 100%|██████████| 157/157 [00:00<00:00, 309.08it/s, avg_metrics=Loss: 2.3348e+00 (n=10000)), Acc@1:  56.75 (n=10000))]\n",
      "Training Epoch 48: 100%|██████████| 782/782 [00:05<00:00, 141.99it/s, avg_metrics=Loss: 6.2666e-02 (n=50000)), Acc@1:  97.85 (n=50000)), Data_Time:  0.000 (n=782)), Batch_Time:  0.005 (n=782))]\n",
      "Validation/Test: 100%|██████████| 157/157 [00:00<00:00, 311.64it/s, avg_metrics=Loss: 2.2195e+00 (n=10000)), Acc@1:  58.67 (n=10000))]\n",
      "Training Epoch 49: 100%|██████████| 782/782 [00:05<00:00, 141.29it/s, avg_metrics=Loss: 5.4925e-02 (n=50000)), Acc@1:  98.18 (n=50000)), Data_Time:  0.000 (n=782)), Batch_Time:  0.005 (n=782))]\n",
      "Validation/Test: 100%|██████████| 157/157 [00:00<00:00, 312.08it/s, avg_metrics=Loss: 2.5599e+00 (n=10000)), Acc@1:  55.82 (n=10000))]\n",
      "Training Epoch 50: 100%|██████████| 782/782 [00:05<00:00, 142.30it/s, avg_metrics=Loss: 5.4593e-02 (n=50000)), Acc@1:  98.24 (n=50000)), Data_Time:  0.000 (n=782)), Batch_Time:  0.005 (n=782))]\n",
      "Validation/Test: 100%|██████████| 157/157 [00:00<00:00, 313.29it/s, avg_metrics=Loss: 2.2919e+00 (n=10000)), Acc@1:  58.28 (n=10000))]\n"
     ]
    },
    {
     "data": {
      "application/vnd.jupyter.widget-view+json": {
       "model_id": "",
       "version_major": 2,
       "version_minor": 0
      },
      "text/plain": [
       "VBox(children=(Label(value='0.004 MB of 0.004 MB uploaded\\r'), FloatProgress(value=1.0, max=1.0)))"
      ]
     },
     "metadata": {},
     "output_type": "display_data"
    },
    {
     "data": {
      "text/html": [
       "<style>\n",
       "    table.wandb td:nth-child(1) { padding: 0 10px; text-align: left ; width: auto;} td:nth-child(2) {text-align: left ; width: 100%}\n",
       "    .wandb-row { display: flex; flex-direction: row; flex-wrap: wrap; justify-content: flex-start; width: 100% }\n",
       "    .wandb-col { display: flex; flex-direction: column; flex-basis: 100%; flex: 1; padding: 10px; }\n",
       "    </style>\n",
       "<div class=\"wandb-row\"><div class=\"wandb-col\"><h3>Run history:</h3><br/><table class=\"wandb\"><tr><td>Train Accuracy@1</td><td>▁▂▃▃▄▄▄▅▅▅▆▆▆▆▇▇▇▇▇▇▇███████████████████</td></tr><tr><td>Train Loss</td><td>█▇▆▆▅▅▅▄▄▄▃▃▃▃▂▂▂▂▂▂▂▁▁▁▁▁▁▁▁▁▁▁▁▁▁▁▁▁▁▁</td></tr><tr><td>Validation Accuracy@1</td><td>▁▂▄▄▆▆▆▆▆▆▆▆▆▆▆▇▆▆▇▇▇▇▇▇▇▇▇▆█▇█▇▇▇██▇▇██</td></tr><tr><td>Validation Loss</td><td>▄▃▃▂▁▁▁▁▁▁▁▂▂▃▄▃▄▅▄▄▅▅▆▆▅▇▆█▅▆▆▇█▇▇▆█▇▆▇</td></tr></table><br/></div><div class=\"wandb-col\"><h3>Run summary:</h3><br/><table class=\"wandb\"><tr><td>Train Accuracy@1</td><td>98.236</td></tr><tr><td>Train Loss</td><td>0.05459</td></tr><tr><td>Validation Accuracy@1</td><td>58.28</td></tr><tr><td>Validation Loss</td><td>2.29189</td></tr></table><br/></div></div>"
      ],
      "text/plain": [
       "<IPython.core.display.HTML object>"
      ]
     },
     "metadata": {},
     "output_type": "display_data"
    },
    {
     "data": {
      "text/html": [
       " View run <strong style=\"color:#cdcd00\">legendary-rain-4</strong> at: <a href='https://wandb.ai/sangmin881717-university-of-suwon/CIFAR10_train/runs/6n1ozjcn' target=\"_blank\">https://wandb.ai/sangmin881717-university-of-suwon/CIFAR10_train/runs/6n1ozjcn</a><br/> View project at: <a href='https://wandb.ai/sangmin881717-university-of-suwon/CIFAR10_train' target=\"_blank\">https://wandb.ai/sangmin881717-university-of-suwon/CIFAR10_train</a><br/>Synced 6 W&B file(s), 0 media file(s), 0 artifact file(s) and 0 other file(s)"
      ],
      "text/plain": [
       "<IPython.core.display.HTML object>"
      ]
     },
     "metadata": {},
     "output_type": "display_data"
    },
    {
     "data": {
      "text/html": [
       "Find logs at: <code>./wandb/run-20240926_022210-6n1ozjcn/logs</code>"
      ],
      "text/plain": [
       "<IPython.core.display.HTML object>"
      ]
     },
     "metadata": {},
     "output_type": "display_data"
    },
    {
     "data": {
      "text/html": [
       "The new W&B backend becomes opt-out in version 0.18.0; try it out with `wandb.require(\"core\")`! See https://wandb.me/wandb-core for more information."
      ],
      "text/plain": [
       "<IPython.core.display.HTML object>"
      ]
     },
     "metadata": {},
     "output_type": "display_data"
    }
   ],
   "source": [
    "config = {\n",
    "    'data_root_dir': '/datasets',\n",
    "    'batch_size': 64,\n",
    "    'learning_rate': 1e-3,\n",
    "    'num_epochs': 50,\n",
    "    'model_name': 'resnet50',\n",
    "    \"dataset\": \"CIFAR10\",\n",
    "    'wandb_project_name': 'CIFAR10_train',\n",
    "\n",
    "    \"checkpoint_save_interval\" : 10,\n",
    "    \"checkpoint_path\" : \"checkpoints/checkpoint.pth\",\n",
    "    \"best_model_path\" : \"checkpoints/best_model.pth\",\n",
    "    \"load_from_checkpoint\" : None,    # Options: \"latest\", \"best\", or None\n",
    "}\n",
    "train_main(config)"
   ]
  },
  {
   "cell_type": "markdown",
   "metadata": {},
   "source": [
    "# Transfer learning"
   ]
  },
  {
   "cell_type": "markdown",
   "metadata": {},
   "source": [
    "Transfer learning을 위해서는 먼저 dataset transform을 사전학습된 모델의 transform과 일치시켜야 한다"
   ]
  },
  {
   "cell_type": "code",
   "execution_count": 14,
   "metadata": {},
   "outputs": [],
   "source": [
    "def load_cifar10_datasets(data_root_dir):\n",
    "    normalize = transforms.Normalize(mean=[0.485, 0.456, 0.406],\n",
    "                                     std=[0.229, 0.224, 0.225])  # pretraining에서 사용한 normalize로 수정\n",
    "    \n",
    "    train_transforms = transforms.Compose([\n",
    "        transforms.Resize((224, 224)), # pretraining에서 사용된 이미지 사이즈로 수정\n",
    "        transforms.ToTensor(),\n",
    "        normalize,\n",
    "    ])\n",
    "\n",
    "    test_transforms = transforms.Compose([\n",
    "        transforms.Resize((224, 224)), # pretraining에서 사용된 이미지 사이즈로 수정\n",
    "        transforms.ToTensor(),\n",
    "        normalize,\n",
    "    ])\n",
    "\n",
    "    train_dataset = datasets.CIFAR10(root=data_root_dir, train=True, download=True, transform=train_transforms)\n",
    "    test_dataset = datasets.CIFAR10(root=data_root_dir, train=False, download=True, transform=test_transforms)\n",
    "\n",
    "    return train_dataset, test_dataset"
   ]
  },
  {
   "cell_type": "markdown",
   "metadata": {},
   "source": [
    "아래와 같이 PyTorch에서 제공하는 pre-trained model의 weight를 가져올 수 있다.\n",
    "\n",
    "PyTorch에서 제공하는 다른 pre-trained model들은 [링크](https://pytorch.org/vision/stable/models.html#table-of-all-available-classification-weights)를 참조하기 바람"
   ]
  },
  {
   "cell_type": "code",
   "execution_count": 15,
   "metadata": {
    "tags": [
     "execute_cell"
    ]
   },
   "outputs": [],
   "source": [
    "model = models.resnet50(weights = 'IMAGENET1K_V2')"
   ]
  },
  {
   "cell_type": "markdown",
   "metadata": {},
   "source": [
    "먼저 모델의 구조를 살펴보자."
   ]
  },
  {
   "cell_type": "code",
   "execution_count": 16,
   "metadata": {
    "tags": [
     "execute_cell"
    ]
   },
   "outputs": [
    {
     "name": "stdout",
     "output_type": "stream",
     "text": [
      "ResNet(\n",
      "  (conv1): Conv2d(3, 64, kernel_size=(7, 7), stride=(2, 2), padding=(3, 3), bias=False)\n",
      "  (bn1): BatchNorm2d(64, eps=1e-05, momentum=0.1, affine=True, track_running_stats=True)\n",
      "  (relu): ReLU(inplace=True)\n",
      "  (maxpool): MaxPool2d(kernel_size=3, stride=2, padding=1, dilation=1, ceil_mode=False)\n",
      "  (layer1): Sequential(\n",
      "    (0): Bottleneck(\n",
      "      (conv1): Conv2d(64, 64, kernel_size=(1, 1), stride=(1, 1), bias=False)\n",
      "      (bn1): BatchNorm2d(64, eps=1e-05, momentum=0.1, affine=True, track_running_stats=True)\n",
      "      (conv2): Conv2d(64, 64, kernel_size=(3, 3), stride=(1, 1), padding=(1, 1), bias=False)\n",
      "      (bn2): BatchNorm2d(64, eps=1e-05, momentum=0.1, affine=True, track_running_stats=True)\n",
      "      (conv3): Conv2d(64, 256, kernel_size=(1, 1), stride=(1, 1), bias=False)\n",
      "      (bn3): BatchNorm2d(256, eps=1e-05, momentum=0.1, affine=True, track_running_stats=True)\n",
      "      (relu): ReLU(inplace=True)\n",
      "      (downsample): Sequential(\n",
      "        (0): Conv2d(64, 256, kernel_size=(1, 1), stride=(1, 1), bias=False)\n",
      "        (1): BatchNorm2d(256, eps=1e-05, momentum=0.1, affine=True, track_running_stats=True)\n",
      "      )\n",
      "    )\n",
      "    (1): Bottleneck(\n",
      "      (conv1): Conv2d(256, 64, kernel_size=(1, 1), stride=(1, 1), bias=False)\n",
      "      (bn1): BatchNorm2d(64, eps=1e-05, momentum=0.1, affine=True, track_running_stats=True)\n",
      "      (conv2): Conv2d(64, 64, kernel_size=(3, 3), stride=(1, 1), padding=(1, 1), bias=False)\n",
      "      (bn2): BatchNorm2d(64, eps=1e-05, momentum=0.1, affine=True, track_running_stats=True)\n",
      "      (conv3): Conv2d(64, 256, kernel_size=(1, 1), stride=(1, 1), bias=False)\n",
      "      (bn3): BatchNorm2d(256, eps=1e-05, momentum=0.1, affine=True, track_running_stats=True)\n",
      "      (relu): ReLU(inplace=True)\n",
      "    )\n",
      "    (2): Bottleneck(\n",
      "      (conv1): Conv2d(256, 64, kernel_size=(1, 1), stride=(1, 1), bias=False)\n",
      "      (bn1): BatchNorm2d(64, eps=1e-05, momentum=0.1, affine=True, track_running_stats=True)\n",
      "      (conv2): Conv2d(64, 64, kernel_size=(3, 3), stride=(1, 1), padding=(1, 1), bias=False)\n",
      "      (bn2): BatchNorm2d(64, eps=1e-05, momentum=0.1, affine=True, track_running_stats=True)\n",
      "      (conv3): Conv2d(64, 256, kernel_size=(1, 1), stride=(1, 1), bias=False)\n",
      "      (bn3): BatchNorm2d(256, eps=1e-05, momentum=0.1, affine=True, track_running_stats=True)\n",
      "      (relu): ReLU(inplace=True)\n",
      "    )\n",
      "  )\n",
      "  (layer2): Sequential(\n",
      "    (0): Bottleneck(\n",
      "      (conv1): Conv2d(256, 128, kernel_size=(1, 1), stride=(1, 1), bias=False)\n",
      "      (bn1): BatchNorm2d(128, eps=1e-05, momentum=0.1, affine=True, track_running_stats=True)\n",
      "      (conv2): Conv2d(128, 128, kernel_size=(3, 3), stride=(2, 2), padding=(1, 1), bias=False)\n",
      "      (bn2): BatchNorm2d(128, eps=1e-05, momentum=0.1, affine=True, track_running_stats=True)\n",
      "      (conv3): Conv2d(128, 512, kernel_size=(1, 1), stride=(1, 1), bias=False)\n",
      "      (bn3): BatchNorm2d(512, eps=1e-05, momentum=0.1, affine=True, track_running_stats=True)\n",
      "      (relu): ReLU(inplace=True)\n",
      "      (downsample): Sequential(\n",
      "        (0): Conv2d(256, 512, kernel_size=(1, 1), stride=(2, 2), bias=False)\n",
      "        (1): BatchNorm2d(512, eps=1e-05, momentum=0.1, affine=True, track_running_stats=True)\n",
      "      )\n",
      "    )\n",
      "    (1): Bottleneck(\n",
      "      (conv1): Conv2d(512, 128, kernel_size=(1, 1), stride=(1, 1), bias=False)\n",
      "      (bn1): BatchNorm2d(128, eps=1e-05, momentum=0.1, affine=True, track_running_stats=True)\n",
      "      (conv2): Conv2d(128, 128, kernel_size=(3, 3), stride=(1, 1), padding=(1, 1), bias=False)\n",
      "      (bn2): BatchNorm2d(128, eps=1e-05, momentum=0.1, affine=True, track_running_stats=True)\n",
      "      (conv3): Conv2d(128, 512, kernel_size=(1, 1), stride=(1, 1), bias=False)\n",
      "      (bn3): BatchNorm2d(512, eps=1e-05, momentum=0.1, affine=True, track_running_stats=True)\n",
      "      (relu): ReLU(inplace=True)\n",
      "    )\n",
      "    (2): Bottleneck(\n",
      "      (conv1): Conv2d(512, 128, kernel_size=(1, 1), stride=(1, 1), bias=False)\n",
      "      (bn1): BatchNorm2d(128, eps=1e-05, momentum=0.1, affine=True, track_running_stats=True)\n",
      "      (conv2): Conv2d(128, 128, kernel_size=(3, 3), stride=(1, 1), padding=(1, 1), bias=False)\n",
      "      (bn2): BatchNorm2d(128, eps=1e-05, momentum=0.1, affine=True, track_running_stats=True)\n",
      "      (conv3): Conv2d(128, 512, kernel_size=(1, 1), stride=(1, 1), bias=False)\n",
      "      (bn3): BatchNorm2d(512, eps=1e-05, momentum=0.1, affine=True, track_running_stats=True)\n",
      "      (relu): ReLU(inplace=True)\n",
      "    )\n",
      "    (3): Bottleneck(\n",
      "      (conv1): Conv2d(512, 128, kernel_size=(1, 1), stride=(1, 1), bias=False)\n",
      "      (bn1): BatchNorm2d(128, eps=1e-05, momentum=0.1, affine=True, track_running_stats=True)\n",
      "      (conv2): Conv2d(128, 128, kernel_size=(3, 3), stride=(1, 1), padding=(1, 1), bias=False)\n",
      "      (bn2): BatchNorm2d(128, eps=1e-05, momentum=0.1, affine=True, track_running_stats=True)\n",
      "      (conv3): Conv2d(128, 512, kernel_size=(1, 1), stride=(1, 1), bias=False)\n",
      "      (bn3): BatchNorm2d(512, eps=1e-05, momentum=0.1, affine=True, track_running_stats=True)\n",
      "      (relu): ReLU(inplace=True)\n",
      "    )\n",
      "  )\n",
      "  (layer3): Sequential(\n",
      "    (0): Bottleneck(\n",
      "      (conv1): Conv2d(512, 256, kernel_size=(1, 1), stride=(1, 1), bias=False)\n",
      "      (bn1): BatchNorm2d(256, eps=1e-05, momentum=0.1, affine=True, track_running_stats=True)\n",
      "      (conv2): Conv2d(256, 256, kernel_size=(3, 3), stride=(2, 2), padding=(1, 1), bias=False)\n",
      "      (bn2): BatchNorm2d(256, eps=1e-05, momentum=0.1, affine=True, track_running_stats=True)\n",
      "      (conv3): Conv2d(256, 1024, kernel_size=(1, 1), stride=(1, 1), bias=False)\n",
      "      (bn3): BatchNorm2d(1024, eps=1e-05, momentum=0.1, affine=True, track_running_stats=True)\n",
      "      (relu): ReLU(inplace=True)\n",
      "      (downsample): Sequential(\n",
      "        (0): Conv2d(512, 1024, kernel_size=(1, 1), stride=(2, 2), bias=False)\n",
      "        (1): BatchNorm2d(1024, eps=1e-05, momentum=0.1, affine=True, track_running_stats=True)\n",
      "      )\n",
      "    )\n",
      "    (1): Bottleneck(\n",
      "      (conv1): Conv2d(1024, 256, kernel_size=(1, 1), stride=(1, 1), bias=False)\n",
      "      (bn1): BatchNorm2d(256, eps=1e-05, momentum=0.1, affine=True, track_running_stats=True)\n",
      "      (conv2): Conv2d(256, 256, kernel_size=(3, 3), stride=(1, 1), padding=(1, 1), bias=False)\n",
      "      (bn2): BatchNorm2d(256, eps=1e-05, momentum=0.1, affine=True, track_running_stats=True)\n",
      "      (conv3): Conv2d(256, 1024, kernel_size=(1, 1), stride=(1, 1), bias=False)\n",
      "      (bn3): BatchNorm2d(1024, eps=1e-05, momentum=0.1, affine=True, track_running_stats=True)\n",
      "      (relu): ReLU(inplace=True)\n",
      "    )\n",
      "    (2): Bottleneck(\n",
      "      (conv1): Conv2d(1024, 256, kernel_size=(1, 1), stride=(1, 1), bias=False)\n",
      "      (bn1): BatchNorm2d(256, eps=1e-05, momentum=0.1, affine=True, track_running_stats=True)\n",
      "      (conv2): Conv2d(256, 256, kernel_size=(3, 3), stride=(1, 1), padding=(1, 1), bias=False)\n",
      "      (bn2): BatchNorm2d(256, eps=1e-05, momentum=0.1, affine=True, track_running_stats=True)\n",
      "      (conv3): Conv2d(256, 1024, kernel_size=(1, 1), stride=(1, 1), bias=False)\n",
      "      (bn3): BatchNorm2d(1024, eps=1e-05, momentum=0.1, affine=True, track_running_stats=True)\n",
      "      (relu): ReLU(inplace=True)\n",
      "    )\n",
      "    (3): Bottleneck(\n",
      "      (conv1): Conv2d(1024, 256, kernel_size=(1, 1), stride=(1, 1), bias=False)\n",
      "      (bn1): BatchNorm2d(256, eps=1e-05, momentum=0.1, affine=True, track_running_stats=True)\n",
      "      (conv2): Conv2d(256, 256, kernel_size=(3, 3), stride=(1, 1), padding=(1, 1), bias=False)\n",
      "      (bn2): BatchNorm2d(256, eps=1e-05, momentum=0.1, affine=True, track_running_stats=True)\n",
      "      (conv3): Conv2d(256, 1024, kernel_size=(1, 1), stride=(1, 1), bias=False)\n",
      "      (bn3): BatchNorm2d(1024, eps=1e-05, momentum=0.1, affine=True, track_running_stats=True)\n",
      "      (relu): ReLU(inplace=True)\n",
      "    )\n",
      "    (4): Bottleneck(\n",
      "      (conv1): Conv2d(1024, 256, kernel_size=(1, 1), stride=(1, 1), bias=False)\n",
      "      (bn1): BatchNorm2d(256, eps=1e-05, momentum=0.1, affine=True, track_running_stats=True)\n",
      "      (conv2): Conv2d(256, 256, kernel_size=(3, 3), stride=(1, 1), padding=(1, 1), bias=False)\n",
      "      (bn2): BatchNorm2d(256, eps=1e-05, momentum=0.1, affine=True, track_running_stats=True)\n",
      "      (conv3): Conv2d(256, 1024, kernel_size=(1, 1), stride=(1, 1), bias=False)\n",
      "      (bn3): BatchNorm2d(1024, eps=1e-05, momentum=0.1, affine=True, track_running_stats=True)\n",
      "      (relu): ReLU(inplace=True)\n",
      "    )\n",
      "    (5): Bottleneck(\n",
      "      (conv1): Conv2d(1024, 256, kernel_size=(1, 1), stride=(1, 1), bias=False)\n",
      "      (bn1): BatchNorm2d(256, eps=1e-05, momentum=0.1, affine=True, track_running_stats=True)\n",
      "      (conv2): Conv2d(256, 256, kernel_size=(3, 3), stride=(1, 1), padding=(1, 1), bias=False)\n",
      "      (bn2): BatchNorm2d(256, eps=1e-05, momentum=0.1, affine=True, track_running_stats=True)\n",
      "      (conv3): Conv2d(256, 1024, kernel_size=(1, 1), stride=(1, 1), bias=False)\n",
      "      (bn3): BatchNorm2d(1024, eps=1e-05, momentum=0.1, affine=True, track_running_stats=True)\n",
      "      (relu): ReLU(inplace=True)\n",
      "    )\n",
      "  )\n",
      "  (layer4): Sequential(\n",
      "    (0): Bottleneck(\n",
      "      (conv1): Conv2d(1024, 512, kernel_size=(1, 1), stride=(1, 1), bias=False)\n",
      "      (bn1): BatchNorm2d(512, eps=1e-05, momentum=0.1, affine=True, track_running_stats=True)\n",
      "      (conv2): Conv2d(512, 512, kernel_size=(3, 3), stride=(2, 2), padding=(1, 1), bias=False)\n",
      "      (bn2): BatchNorm2d(512, eps=1e-05, momentum=0.1, affine=True, track_running_stats=True)\n",
      "      (conv3): Conv2d(512, 2048, kernel_size=(1, 1), stride=(1, 1), bias=False)\n",
      "      (bn3): BatchNorm2d(2048, eps=1e-05, momentum=0.1, affine=True, track_running_stats=True)\n",
      "      (relu): ReLU(inplace=True)\n",
      "      (downsample): Sequential(\n",
      "        (0): Conv2d(1024, 2048, kernel_size=(1, 1), stride=(2, 2), bias=False)\n",
      "        (1): BatchNorm2d(2048, eps=1e-05, momentum=0.1, affine=True, track_running_stats=True)\n",
      "      )\n",
      "    )\n",
      "    (1): Bottleneck(\n",
      "      (conv1): Conv2d(2048, 512, kernel_size=(1, 1), stride=(1, 1), bias=False)\n",
      "      (bn1): BatchNorm2d(512, eps=1e-05, momentum=0.1, affine=True, track_running_stats=True)\n",
      "      (conv2): Conv2d(512, 512, kernel_size=(3, 3), stride=(1, 1), padding=(1, 1), bias=False)\n",
      "      (bn2): BatchNorm2d(512, eps=1e-05, momentum=0.1, affine=True, track_running_stats=True)\n",
      "      (conv3): Conv2d(512, 2048, kernel_size=(1, 1), stride=(1, 1), bias=False)\n",
      "      (bn3): BatchNorm2d(2048, eps=1e-05, momentum=0.1, affine=True, track_running_stats=True)\n",
      "      (relu): ReLU(inplace=True)\n",
      "    )\n",
      "    (2): Bottleneck(\n",
      "      (conv1): Conv2d(2048, 512, kernel_size=(1, 1), stride=(1, 1), bias=False)\n",
      "      (bn1): BatchNorm2d(512, eps=1e-05, momentum=0.1, affine=True, track_running_stats=True)\n",
      "      (conv2): Conv2d(512, 512, kernel_size=(3, 3), stride=(1, 1), padding=(1, 1), bias=False)\n",
      "      (bn2): BatchNorm2d(512, eps=1e-05, momentum=0.1, affine=True, track_running_stats=True)\n",
      "      (conv3): Conv2d(512, 2048, kernel_size=(1, 1), stride=(1, 1), bias=False)\n",
      "      (bn3): BatchNorm2d(2048, eps=1e-05, momentum=0.1, affine=True, track_running_stats=True)\n",
      "      (relu): ReLU(inplace=True)\n",
      "    )\n",
      "  )\n",
      "  (avgpool): AdaptiveAvgPool2d(output_size=(1, 1))\n",
      "  (fc): Linear(in_features=2048, out_features=1000, bias=True)\n",
      ")\n"
     ]
    }
   ],
   "source": [
    "print(model)"
   ]
  },
  {
   "cell_type": "code",
   "execution_count": 17,
   "metadata": {
    "tags": [
     "execute_cell"
    ]
   },
   "outputs": [
    {
     "name": "stdout",
     "output_type": "stream",
     "text": [
      "conv1.weight                        torch.Size([64, 3, 7, 7])\n",
      "bn1.weight                          torch.Size([64])\n",
      "bn1.bias                            torch.Size([64])\n",
      "layer1.0.conv1.weight               torch.Size([64, 64, 1, 1])\n",
      "layer1.0.bn1.weight                 torch.Size([64])\n",
      "layer1.0.bn1.bias                   torch.Size([64])\n",
      "layer1.0.conv2.weight               torch.Size([64, 64, 3, 3])\n",
      "layer1.0.bn2.weight                 torch.Size([64])\n",
      "layer1.0.bn2.bias                   torch.Size([64])\n",
      "layer1.0.conv3.weight               torch.Size([256, 64, 1, 1])\n",
      "layer1.0.bn3.weight                 torch.Size([256])\n",
      "layer1.0.bn3.bias                   torch.Size([256])\n",
      "layer1.0.downsample.0.weight        torch.Size([256, 64, 1, 1])\n",
      "layer1.0.downsample.1.weight        torch.Size([256])\n",
      "layer1.0.downsample.1.bias          torch.Size([256])\n",
      "layer1.1.conv1.weight               torch.Size([64, 256, 1, 1])\n",
      "layer1.1.bn1.weight                 torch.Size([64])\n",
      "layer1.1.bn1.bias                   torch.Size([64])\n",
      "layer1.1.conv2.weight               torch.Size([64, 64, 3, 3])\n",
      "layer1.1.bn2.weight                 torch.Size([64])\n",
      "layer1.1.bn2.bias                   torch.Size([64])\n",
      "layer1.1.conv3.weight               torch.Size([256, 64, 1, 1])\n",
      "layer1.1.bn3.weight                 torch.Size([256])\n",
      "layer1.1.bn3.bias                   torch.Size([256])\n",
      "layer1.2.conv1.weight               torch.Size([64, 256, 1, 1])\n",
      "layer1.2.bn1.weight                 torch.Size([64])\n",
      "layer1.2.bn1.bias                   torch.Size([64])\n",
      "layer1.2.conv2.weight               torch.Size([64, 64, 3, 3])\n",
      "layer1.2.bn2.weight                 torch.Size([64])\n",
      "layer1.2.bn2.bias                   torch.Size([64])\n",
      "layer1.2.conv3.weight               torch.Size([256, 64, 1, 1])\n",
      "layer1.2.bn3.weight                 torch.Size([256])\n",
      "layer1.2.bn3.bias                   torch.Size([256])\n",
      "layer2.0.conv1.weight               torch.Size([128, 256, 1, 1])\n",
      "layer2.0.bn1.weight                 torch.Size([128])\n",
      "layer2.0.bn1.bias                   torch.Size([128])\n",
      "layer2.0.conv2.weight               torch.Size([128, 128, 3, 3])\n",
      "layer2.0.bn2.weight                 torch.Size([128])\n",
      "layer2.0.bn2.bias                   torch.Size([128])\n",
      "layer2.0.conv3.weight               torch.Size([512, 128, 1, 1])\n",
      "layer2.0.bn3.weight                 torch.Size([512])\n",
      "layer2.0.bn3.bias                   torch.Size([512])\n",
      "layer2.0.downsample.0.weight        torch.Size([512, 256, 1, 1])\n",
      "layer2.0.downsample.1.weight        torch.Size([512])\n",
      "layer2.0.downsample.1.bias          torch.Size([512])\n",
      "layer2.1.conv1.weight               torch.Size([128, 512, 1, 1])\n",
      "layer2.1.bn1.weight                 torch.Size([128])\n",
      "layer2.1.bn1.bias                   torch.Size([128])\n",
      "layer2.1.conv2.weight               torch.Size([128, 128, 3, 3])\n",
      "layer2.1.bn2.weight                 torch.Size([128])\n",
      "layer2.1.bn2.bias                   torch.Size([128])\n",
      "layer2.1.conv3.weight               torch.Size([512, 128, 1, 1])\n",
      "layer2.1.bn3.weight                 torch.Size([512])\n",
      "layer2.1.bn3.bias                   torch.Size([512])\n",
      "layer2.2.conv1.weight               torch.Size([128, 512, 1, 1])\n",
      "layer2.2.bn1.weight                 torch.Size([128])\n",
      "layer2.2.bn1.bias                   torch.Size([128])\n",
      "layer2.2.conv2.weight               torch.Size([128, 128, 3, 3])\n",
      "layer2.2.bn2.weight                 torch.Size([128])\n",
      "layer2.2.bn2.bias                   torch.Size([128])\n",
      "layer2.2.conv3.weight               torch.Size([512, 128, 1, 1])\n",
      "layer2.2.bn3.weight                 torch.Size([512])\n",
      "layer2.2.bn3.bias                   torch.Size([512])\n",
      "layer2.3.conv1.weight               torch.Size([128, 512, 1, 1])\n",
      "layer2.3.bn1.weight                 torch.Size([128])\n",
      "layer2.3.bn1.bias                   torch.Size([128])\n",
      "layer2.3.conv2.weight               torch.Size([128, 128, 3, 3])\n",
      "layer2.3.bn2.weight                 torch.Size([128])\n",
      "layer2.3.bn2.bias                   torch.Size([128])\n",
      "layer2.3.conv3.weight               torch.Size([512, 128, 1, 1])\n",
      "layer2.3.bn3.weight                 torch.Size([512])\n",
      "layer2.3.bn3.bias                   torch.Size([512])\n",
      "layer3.0.conv1.weight               torch.Size([256, 512, 1, 1])\n",
      "layer3.0.bn1.weight                 torch.Size([256])\n",
      "layer3.0.bn1.bias                   torch.Size([256])\n",
      "layer3.0.conv2.weight               torch.Size([256, 256, 3, 3])\n",
      "layer3.0.bn2.weight                 torch.Size([256])\n",
      "layer3.0.bn2.bias                   torch.Size([256])\n",
      "layer3.0.conv3.weight               torch.Size([1024, 256, 1, 1])\n",
      "layer3.0.bn3.weight                 torch.Size([1024])\n",
      "layer3.0.bn3.bias                   torch.Size([1024])\n",
      "layer3.0.downsample.0.weight        torch.Size([1024, 512, 1, 1])\n",
      "layer3.0.downsample.1.weight        torch.Size([1024])\n",
      "layer3.0.downsample.1.bias          torch.Size([1024])\n",
      "layer3.1.conv1.weight               torch.Size([256, 1024, 1, 1])\n",
      "layer3.1.bn1.weight                 torch.Size([256])\n",
      "layer3.1.bn1.bias                   torch.Size([256])\n",
      "layer3.1.conv2.weight               torch.Size([256, 256, 3, 3])\n",
      "layer3.1.bn2.weight                 torch.Size([256])\n",
      "layer3.1.bn2.bias                   torch.Size([256])\n",
      "layer3.1.conv3.weight               torch.Size([1024, 256, 1, 1])\n",
      "layer3.1.bn3.weight                 torch.Size([1024])\n",
      "layer3.1.bn3.bias                   torch.Size([1024])\n",
      "layer3.2.conv1.weight               torch.Size([256, 1024, 1, 1])\n",
      "layer3.2.bn1.weight                 torch.Size([256])\n",
      "layer3.2.bn1.bias                   torch.Size([256])\n",
      "layer3.2.conv2.weight               torch.Size([256, 256, 3, 3])\n",
      "layer3.2.bn2.weight                 torch.Size([256])\n",
      "layer3.2.bn2.bias                   torch.Size([256])\n",
      "layer3.2.conv3.weight               torch.Size([1024, 256, 1, 1])\n",
      "layer3.2.bn3.weight                 torch.Size([1024])\n",
      "layer3.2.bn3.bias                   torch.Size([1024])\n",
      "layer3.3.conv1.weight               torch.Size([256, 1024, 1, 1])\n",
      "layer3.3.bn1.weight                 torch.Size([256])\n",
      "layer3.3.bn1.bias                   torch.Size([256])\n",
      "layer3.3.conv2.weight               torch.Size([256, 256, 3, 3])\n",
      "layer3.3.bn2.weight                 torch.Size([256])\n",
      "layer3.3.bn2.bias                   torch.Size([256])\n",
      "layer3.3.conv3.weight               torch.Size([1024, 256, 1, 1])\n",
      "layer3.3.bn3.weight                 torch.Size([1024])\n",
      "layer3.3.bn3.bias                   torch.Size([1024])\n",
      "layer3.4.conv1.weight               torch.Size([256, 1024, 1, 1])\n",
      "layer3.4.bn1.weight                 torch.Size([256])\n",
      "layer3.4.bn1.bias                   torch.Size([256])\n",
      "layer3.4.conv2.weight               torch.Size([256, 256, 3, 3])\n",
      "layer3.4.bn2.weight                 torch.Size([256])\n",
      "layer3.4.bn2.bias                   torch.Size([256])\n",
      "layer3.4.conv3.weight               torch.Size([1024, 256, 1, 1])\n",
      "layer3.4.bn3.weight                 torch.Size([1024])\n",
      "layer3.4.bn3.bias                   torch.Size([1024])\n",
      "layer3.5.conv1.weight               torch.Size([256, 1024, 1, 1])\n",
      "layer3.5.bn1.weight                 torch.Size([256])\n",
      "layer3.5.bn1.bias                   torch.Size([256])\n",
      "layer3.5.conv2.weight               torch.Size([256, 256, 3, 3])\n",
      "layer3.5.bn2.weight                 torch.Size([256])\n",
      "layer3.5.bn2.bias                   torch.Size([256])\n",
      "layer3.5.conv3.weight               torch.Size([1024, 256, 1, 1])\n",
      "layer3.5.bn3.weight                 torch.Size([1024])\n",
      "layer3.5.bn3.bias                   torch.Size([1024])\n",
      "layer4.0.conv1.weight               torch.Size([512, 1024, 1, 1])\n",
      "layer4.0.bn1.weight                 torch.Size([512])\n",
      "layer4.0.bn1.bias                   torch.Size([512])\n",
      "layer4.0.conv2.weight               torch.Size([512, 512, 3, 3])\n",
      "layer4.0.bn2.weight                 torch.Size([512])\n",
      "layer4.0.bn2.bias                   torch.Size([512])\n",
      "layer4.0.conv3.weight               torch.Size([2048, 512, 1, 1])\n",
      "layer4.0.bn3.weight                 torch.Size([2048])\n",
      "layer4.0.bn3.bias                   torch.Size([2048])\n",
      "layer4.0.downsample.0.weight        torch.Size([2048, 1024, 1, 1])\n",
      "layer4.0.downsample.1.weight        torch.Size([2048])\n",
      "layer4.0.downsample.1.bias          torch.Size([2048])\n",
      "layer4.1.conv1.weight               torch.Size([512, 2048, 1, 1])\n",
      "layer4.1.bn1.weight                 torch.Size([512])\n",
      "layer4.1.bn1.bias                   torch.Size([512])\n",
      "layer4.1.conv2.weight               torch.Size([512, 512, 3, 3])\n",
      "layer4.1.bn2.weight                 torch.Size([512])\n",
      "layer4.1.bn2.bias                   torch.Size([512])\n",
      "layer4.1.conv3.weight               torch.Size([2048, 512, 1, 1])\n",
      "layer4.1.bn3.weight                 torch.Size([2048])\n",
      "layer4.1.bn3.bias                   torch.Size([2048])\n",
      "layer4.2.conv1.weight               torch.Size([512, 2048, 1, 1])\n",
      "layer4.2.bn1.weight                 torch.Size([512])\n",
      "layer4.2.bn1.bias                   torch.Size([512])\n",
      "layer4.2.conv2.weight               torch.Size([512, 512, 3, 3])\n",
      "layer4.2.bn2.weight                 torch.Size([512])\n",
      "layer4.2.bn2.bias                   torch.Size([512])\n",
      "layer4.2.conv3.weight               torch.Size([2048, 512, 1, 1])\n",
      "layer4.2.bn3.weight                 torch.Size([2048])\n",
      "layer4.2.bn3.bias                   torch.Size([2048])\n",
      "fc.weight                           torch.Size([1000, 2048])\n",
      "fc.bias                             torch.Size([1000])\n"
     ]
    }
   ],
   "source": [
    "for name, param in model.named_parameters():\n",
    "    print(f\"{name:<35} {param.shape}\")"
   ]
  },
  {
   "cell_type": "markdown",
   "metadata": {},
   "source": [
    "Transfer learning을 위해서는 두가지가 필요하다.\n",
    "1. 마지막 레이어의 logit 출력 차원을 데이터셋에 적합하게 수정 (out_features = 10 for CIFAR10 dataset)\n",
    "2. 학습할 layer를 설정\n",
    "\n",
    "아래와 같은 코드를 통해 마지막 레이어인 fc layer를 수정할 수 있다."
   ]
  },
  {
   "cell_type": "code",
   "execution_count": 18,
   "metadata": {
    "tags": [
     "execute_cell"
    ]
   },
   "outputs": [
    {
     "name": "stdout",
     "output_type": "stream",
     "text": [
      "ResNet(\n",
      "  (conv1): Conv2d(3, 64, kernel_size=(7, 7), stride=(2, 2), padding=(3, 3), bias=False)\n",
      "  (bn1): BatchNorm2d(64, eps=1e-05, momentum=0.1, affine=True, track_running_stats=True)\n",
      "  (relu): ReLU(inplace=True)\n",
      "  (maxpool): MaxPool2d(kernel_size=3, stride=2, padding=1, dilation=1, ceil_mode=False)\n",
      "  (layer1): Sequential(\n",
      "    (0): Bottleneck(\n",
      "      (conv1): Conv2d(64, 64, kernel_size=(1, 1), stride=(1, 1), bias=False)\n",
      "      (bn1): BatchNorm2d(64, eps=1e-05, momentum=0.1, affine=True, track_running_stats=True)\n",
      "      (conv2): Conv2d(64, 64, kernel_size=(3, 3), stride=(1, 1), padding=(1, 1), bias=False)\n",
      "      (bn2): BatchNorm2d(64, eps=1e-05, momentum=0.1, affine=True, track_running_stats=True)\n",
      "      (conv3): Conv2d(64, 256, kernel_size=(1, 1), stride=(1, 1), bias=False)\n",
      "      (bn3): BatchNorm2d(256, eps=1e-05, momentum=0.1, affine=True, track_running_stats=True)\n",
      "      (relu): ReLU(inplace=True)\n",
      "      (downsample): Sequential(\n",
      "        (0): Conv2d(64, 256, kernel_size=(1, 1), stride=(1, 1), bias=False)\n",
      "        (1): BatchNorm2d(256, eps=1e-05, momentum=0.1, affine=True, track_running_stats=True)\n",
      "      )\n",
      "    )\n",
      "    (1): Bottleneck(\n",
      "      (conv1): Conv2d(256, 64, kernel_size=(1, 1), stride=(1, 1), bias=False)\n",
      "      (bn1): BatchNorm2d(64, eps=1e-05, momentum=0.1, affine=True, track_running_stats=True)\n",
      "      (conv2): Conv2d(64, 64, kernel_size=(3, 3), stride=(1, 1), padding=(1, 1), bias=False)\n",
      "      (bn2): BatchNorm2d(64, eps=1e-05, momentum=0.1, affine=True, track_running_stats=True)\n",
      "      (conv3): Conv2d(64, 256, kernel_size=(1, 1), stride=(1, 1), bias=False)\n",
      "      (bn3): BatchNorm2d(256, eps=1e-05, momentum=0.1, affine=True, track_running_stats=True)\n",
      "      (relu): ReLU(inplace=True)\n",
      "    )\n",
      "    (2): Bottleneck(\n",
      "      (conv1): Conv2d(256, 64, kernel_size=(1, 1), stride=(1, 1), bias=False)\n",
      "      (bn1): BatchNorm2d(64, eps=1e-05, momentum=0.1, affine=True, track_running_stats=True)\n",
      "      (conv2): Conv2d(64, 64, kernel_size=(3, 3), stride=(1, 1), padding=(1, 1), bias=False)\n",
      "      (bn2): BatchNorm2d(64, eps=1e-05, momentum=0.1, affine=True, track_running_stats=True)\n",
      "      (conv3): Conv2d(64, 256, kernel_size=(1, 1), stride=(1, 1), bias=False)\n",
      "      (bn3): BatchNorm2d(256, eps=1e-05, momentum=0.1, affine=True, track_running_stats=True)\n",
      "      (relu): ReLU(inplace=True)\n",
      "    )\n",
      "  )\n",
      "  (layer2): Sequential(\n",
      "    (0): Bottleneck(\n",
      "      (conv1): Conv2d(256, 128, kernel_size=(1, 1), stride=(1, 1), bias=False)\n",
      "      (bn1): BatchNorm2d(128, eps=1e-05, momentum=0.1, affine=True, track_running_stats=True)\n",
      "      (conv2): Conv2d(128, 128, kernel_size=(3, 3), stride=(2, 2), padding=(1, 1), bias=False)\n",
      "      (bn2): BatchNorm2d(128, eps=1e-05, momentum=0.1, affine=True, track_running_stats=True)\n",
      "      (conv3): Conv2d(128, 512, kernel_size=(1, 1), stride=(1, 1), bias=False)\n",
      "      (bn3): BatchNorm2d(512, eps=1e-05, momentum=0.1, affine=True, track_running_stats=True)\n",
      "      (relu): ReLU(inplace=True)\n",
      "      (downsample): Sequential(\n",
      "        (0): Conv2d(256, 512, kernel_size=(1, 1), stride=(2, 2), bias=False)\n",
      "        (1): BatchNorm2d(512, eps=1e-05, momentum=0.1, affine=True, track_running_stats=True)\n",
      "      )\n",
      "    )\n",
      "    (1): Bottleneck(\n",
      "      (conv1): Conv2d(512, 128, kernel_size=(1, 1), stride=(1, 1), bias=False)\n",
      "      (bn1): BatchNorm2d(128, eps=1e-05, momentum=0.1, affine=True, track_running_stats=True)\n",
      "      (conv2): Conv2d(128, 128, kernel_size=(3, 3), stride=(1, 1), padding=(1, 1), bias=False)\n",
      "      (bn2): BatchNorm2d(128, eps=1e-05, momentum=0.1, affine=True, track_running_stats=True)\n",
      "      (conv3): Conv2d(128, 512, kernel_size=(1, 1), stride=(1, 1), bias=False)\n",
      "      (bn3): BatchNorm2d(512, eps=1e-05, momentum=0.1, affine=True, track_running_stats=True)\n",
      "      (relu): ReLU(inplace=True)\n",
      "    )\n",
      "    (2): Bottleneck(\n",
      "      (conv1): Conv2d(512, 128, kernel_size=(1, 1), stride=(1, 1), bias=False)\n",
      "      (bn1): BatchNorm2d(128, eps=1e-05, momentum=0.1, affine=True, track_running_stats=True)\n",
      "      (conv2): Conv2d(128, 128, kernel_size=(3, 3), stride=(1, 1), padding=(1, 1), bias=False)\n",
      "      (bn2): BatchNorm2d(128, eps=1e-05, momentum=0.1, affine=True, track_running_stats=True)\n",
      "      (conv3): Conv2d(128, 512, kernel_size=(1, 1), stride=(1, 1), bias=False)\n",
      "      (bn3): BatchNorm2d(512, eps=1e-05, momentum=0.1, affine=True, track_running_stats=True)\n",
      "      (relu): ReLU(inplace=True)\n",
      "    )\n",
      "    (3): Bottleneck(\n",
      "      (conv1): Conv2d(512, 128, kernel_size=(1, 1), stride=(1, 1), bias=False)\n",
      "      (bn1): BatchNorm2d(128, eps=1e-05, momentum=0.1, affine=True, track_running_stats=True)\n",
      "      (conv2): Conv2d(128, 128, kernel_size=(3, 3), stride=(1, 1), padding=(1, 1), bias=False)\n",
      "      (bn2): BatchNorm2d(128, eps=1e-05, momentum=0.1, affine=True, track_running_stats=True)\n",
      "      (conv3): Conv2d(128, 512, kernel_size=(1, 1), stride=(1, 1), bias=False)\n",
      "      (bn3): BatchNorm2d(512, eps=1e-05, momentum=0.1, affine=True, track_running_stats=True)\n",
      "      (relu): ReLU(inplace=True)\n",
      "    )\n",
      "  )\n",
      "  (layer3): Sequential(\n",
      "    (0): Bottleneck(\n",
      "      (conv1): Conv2d(512, 256, kernel_size=(1, 1), stride=(1, 1), bias=False)\n",
      "      (bn1): BatchNorm2d(256, eps=1e-05, momentum=0.1, affine=True, track_running_stats=True)\n",
      "      (conv2): Conv2d(256, 256, kernel_size=(3, 3), stride=(2, 2), padding=(1, 1), bias=False)\n",
      "      (bn2): BatchNorm2d(256, eps=1e-05, momentum=0.1, affine=True, track_running_stats=True)\n",
      "      (conv3): Conv2d(256, 1024, kernel_size=(1, 1), stride=(1, 1), bias=False)\n",
      "      (bn3): BatchNorm2d(1024, eps=1e-05, momentum=0.1, affine=True, track_running_stats=True)\n",
      "      (relu): ReLU(inplace=True)\n",
      "      (downsample): Sequential(\n",
      "        (0): Conv2d(512, 1024, kernel_size=(1, 1), stride=(2, 2), bias=False)\n",
      "        (1): BatchNorm2d(1024, eps=1e-05, momentum=0.1, affine=True, track_running_stats=True)\n",
      "      )\n",
      "    )\n",
      "    (1): Bottleneck(\n",
      "      (conv1): Conv2d(1024, 256, kernel_size=(1, 1), stride=(1, 1), bias=False)\n",
      "      (bn1): BatchNorm2d(256, eps=1e-05, momentum=0.1, affine=True, track_running_stats=True)\n",
      "      (conv2): Conv2d(256, 256, kernel_size=(3, 3), stride=(1, 1), padding=(1, 1), bias=False)\n",
      "      (bn2): BatchNorm2d(256, eps=1e-05, momentum=0.1, affine=True, track_running_stats=True)\n",
      "      (conv3): Conv2d(256, 1024, kernel_size=(1, 1), stride=(1, 1), bias=False)\n",
      "      (bn3): BatchNorm2d(1024, eps=1e-05, momentum=0.1, affine=True, track_running_stats=True)\n",
      "      (relu): ReLU(inplace=True)\n",
      "    )\n",
      "    (2): Bottleneck(\n",
      "      (conv1): Conv2d(1024, 256, kernel_size=(1, 1), stride=(1, 1), bias=False)\n",
      "      (bn1): BatchNorm2d(256, eps=1e-05, momentum=0.1, affine=True, track_running_stats=True)\n",
      "      (conv2): Conv2d(256, 256, kernel_size=(3, 3), stride=(1, 1), padding=(1, 1), bias=False)\n",
      "      (bn2): BatchNorm2d(256, eps=1e-05, momentum=0.1, affine=True, track_running_stats=True)\n",
      "      (conv3): Conv2d(256, 1024, kernel_size=(1, 1), stride=(1, 1), bias=False)\n",
      "      (bn3): BatchNorm2d(1024, eps=1e-05, momentum=0.1, affine=True, track_running_stats=True)\n",
      "      (relu): ReLU(inplace=True)\n",
      "    )\n",
      "    (3): Bottleneck(\n",
      "      (conv1): Conv2d(1024, 256, kernel_size=(1, 1), stride=(1, 1), bias=False)\n",
      "      (bn1): BatchNorm2d(256, eps=1e-05, momentum=0.1, affine=True, track_running_stats=True)\n",
      "      (conv2): Conv2d(256, 256, kernel_size=(3, 3), stride=(1, 1), padding=(1, 1), bias=False)\n",
      "      (bn2): BatchNorm2d(256, eps=1e-05, momentum=0.1, affine=True, track_running_stats=True)\n",
      "      (conv3): Conv2d(256, 1024, kernel_size=(1, 1), stride=(1, 1), bias=False)\n",
      "      (bn3): BatchNorm2d(1024, eps=1e-05, momentum=0.1, affine=True, track_running_stats=True)\n",
      "      (relu): ReLU(inplace=True)\n",
      "    )\n",
      "    (4): Bottleneck(\n",
      "      (conv1): Conv2d(1024, 256, kernel_size=(1, 1), stride=(1, 1), bias=False)\n",
      "      (bn1): BatchNorm2d(256, eps=1e-05, momentum=0.1, affine=True, track_running_stats=True)\n",
      "      (conv2): Conv2d(256, 256, kernel_size=(3, 3), stride=(1, 1), padding=(1, 1), bias=False)\n",
      "      (bn2): BatchNorm2d(256, eps=1e-05, momentum=0.1, affine=True, track_running_stats=True)\n",
      "      (conv3): Conv2d(256, 1024, kernel_size=(1, 1), stride=(1, 1), bias=False)\n",
      "      (bn3): BatchNorm2d(1024, eps=1e-05, momentum=0.1, affine=True, track_running_stats=True)\n",
      "      (relu): ReLU(inplace=True)\n",
      "    )\n",
      "    (5): Bottleneck(\n",
      "      (conv1): Conv2d(1024, 256, kernel_size=(1, 1), stride=(1, 1), bias=False)\n",
      "      (bn1): BatchNorm2d(256, eps=1e-05, momentum=0.1, affine=True, track_running_stats=True)\n",
      "      (conv2): Conv2d(256, 256, kernel_size=(3, 3), stride=(1, 1), padding=(1, 1), bias=False)\n",
      "      (bn2): BatchNorm2d(256, eps=1e-05, momentum=0.1, affine=True, track_running_stats=True)\n",
      "      (conv3): Conv2d(256, 1024, kernel_size=(1, 1), stride=(1, 1), bias=False)\n",
      "      (bn3): BatchNorm2d(1024, eps=1e-05, momentum=0.1, affine=True, track_running_stats=True)\n",
      "      (relu): ReLU(inplace=True)\n",
      "    )\n",
      "  )\n",
      "  (layer4): Sequential(\n",
      "    (0): Bottleneck(\n",
      "      (conv1): Conv2d(1024, 512, kernel_size=(1, 1), stride=(1, 1), bias=False)\n",
      "      (bn1): BatchNorm2d(512, eps=1e-05, momentum=0.1, affine=True, track_running_stats=True)\n",
      "      (conv2): Conv2d(512, 512, kernel_size=(3, 3), stride=(2, 2), padding=(1, 1), bias=False)\n",
      "      (bn2): BatchNorm2d(512, eps=1e-05, momentum=0.1, affine=True, track_running_stats=True)\n",
      "      (conv3): Conv2d(512, 2048, kernel_size=(1, 1), stride=(1, 1), bias=False)\n",
      "      (bn3): BatchNorm2d(2048, eps=1e-05, momentum=0.1, affine=True, track_running_stats=True)\n",
      "      (relu): ReLU(inplace=True)\n",
      "      (downsample): Sequential(\n",
      "        (0): Conv2d(1024, 2048, kernel_size=(1, 1), stride=(2, 2), bias=False)\n",
      "        (1): BatchNorm2d(2048, eps=1e-05, momentum=0.1, affine=True, track_running_stats=True)\n",
      "      )\n",
      "    )\n",
      "    (1): Bottleneck(\n",
      "      (conv1): Conv2d(2048, 512, kernel_size=(1, 1), stride=(1, 1), bias=False)\n",
      "      (bn1): BatchNorm2d(512, eps=1e-05, momentum=0.1, affine=True, track_running_stats=True)\n",
      "      (conv2): Conv2d(512, 512, kernel_size=(3, 3), stride=(1, 1), padding=(1, 1), bias=False)\n",
      "      (bn2): BatchNorm2d(512, eps=1e-05, momentum=0.1, affine=True, track_running_stats=True)\n",
      "      (conv3): Conv2d(512, 2048, kernel_size=(1, 1), stride=(1, 1), bias=False)\n",
      "      (bn3): BatchNorm2d(2048, eps=1e-05, momentum=0.1, affine=True, track_running_stats=True)\n",
      "      (relu): ReLU(inplace=True)\n",
      "    )\n",
      "    (2): Bottleneck(\n",
      "      (conv1): Conv2d(2048, 512, kernel_size=(1, 1), stride=(1, 1), bias=False)\n",
      "      (bn1): BatchNorm2d(512, eps=1e-05, momentum=0.1, affine=True, track_running_stats=True)\n",
      "      (conv2): Conv2d(512, 512, kernel_size=(3, 3), stride=(1, 1), padding=(1, 1), bias=False)\n",
      "      (bn2): BatchNorm2d(512, eps=1e-05, momentum=0.1, affine=True, track_running_stats=True)\n",
      "      (conv3): Conv2d(512, 2048, kernel_size=(1, 1), stride=(1, 1), bias=False)\n",
      "      (bn3): BatchNorm2d(2048, eps=1e-05, momentum=0.1, affine=True, track_running_stats=True)\n",
      "      (relu): ReLU(inplace=True)\n",
      "    )\n",
      "  )\n",
      "  (avgpool): AdaptiveAvgPool2d(output_size=(1, 1))\n",
      "  (fc): Linear(in_features=2048, out_features=10, bias=True)\n",
      ")\n"
     ]
    }
   ],
   "source": [
    "model.fc = nn.Linear(model.fc.in_features, 10)\n",
    "print(model)"
   ]
  },
  {
   "cell_type": "markdown",
   "metadata": {},
   "source": [
    "아래와 같은 코드를 통해 학습하고자 하는 파라미터를 설정할 수 있다."
   ]
  },
  {
   "cell_type": "code",
   "execution_count": 19,
   "metadata": {
    "tags": [
     "execute_cell"
    ]
   },
   "outputs": [
    {
     "name": "stdout",
     "output_type": "stream",
     "text": [
      "conv1.weight                   Param shape: torch.Size([64, 3, 7, 7])      requires_grad: False\n",
      "bn1.weight                     Param shape: torch.Size([64])               requires_grad: False\n",
      "bn1.bias                       Param shape: torch.Size([64])               requires_grad: False\n",
      "layer1.0.conv1.weight          Param shape: torch.Size([64, 64, 1, 1])     requires_grad: False\n",
      "layer1.0.bn1.weight            Param shape: torch.Size([64])               requires_grad: False\n",
      "layer1.0.bn1.bias              Param shape: torch.Size([64])               requires_grad: False\n",
      "layer1.0.conv2.weight          Param shape: torch.Size([64, 64, 3, 3])     requires_grad: False\n",
      "layer1.0.bn2.weight            Param shape: torch.Size([64])               requires_grad: False\n",
      "layer1.0.bn2.bias              Param shape: torch.Size([64])               requires_grad: False\n",
      "layer1.0.conv3.weight          Param shape: torch.Size([256, 64, 1, 1])    requires_grad: False\n",
      "layer1.0.bn3.weight            Param shape: torch.Size([256])              requires_grad: False\n",
      "layer1.0.bn3.bias              Param shape: torch.Size([256])              requires_grad: False\n",
      "layer1.0.downsample.0.weight   Param shape: torch.Size([256, 64, 1, 1])    requires_grad: False\n",
      "layer1.0.downsample.1.weight   Param shape: torch.Size([256])              requires_grad: False\n",
      "layer1.0.downsample.1.bias     Param shape: torch.Size([256])              requires_grad: False\n",
      "layer1.1.conv1.weight          Param shape: torch.Size([64, 256, 1, 1])    requires_grad: False\n",
      "layer1.1.bn1.weight            Param shape: torch.Size([64])               requires_grad: False\n",
      "layer1.1.bn1.bias              Param shape: torch.Size([64])               requires_grad: False\n",
      "layer1.1.conv2.weight          Param shape: torch.Size([64, 64, 3, 3])     requires_grad: False\n",
      "layer1.1.bn2.weight            Param shape: torch.Size([64])               requires_grad: False\n",
      "layer1.1.bn2.bias              Param shape: torch.Size([64])               requires_grad: False\n",
      "layer1.1.conv3.weight          Param shape: torch.Size([256, 64, 1, 1])    requires_grad: False\n",
      "layer1.1.bn3.weight            Param shape: torch.Size([256])              requires_grad: False\n",
      "layer1.1.bn3.bias              Param shape: torch.Size([256])              requires_grad: False\n",
      "layer1.2.conv1.weight          Param shape: torch.Size([64, 256, 1, 1])    requires_grad: False\n",
      "layer1.2.bn1.weight            Param shape: torch.Size([64])               requires_grad: False\n",
      "layer1.2.bn1.bias              Param shape: torch.Size([64])               requires_grad: False\n",
      "layer1.2.conv2.weight          Param shape: torch.Size([64, 64, 3, 3])     requires_grad: False\n",
      "layer1.2.bn2.weight            Param shape: torch.Size([64])               requires_grad: False\n",
      "layer1.2.bn2.bias              Param shape: torch.Size([64])               requires_grad: False\n",
      "layer1.2.conv3.weight          Param shape: torch.Size([256, 64, 1, 1])    requires_grad: False\n",
      "layer1.2.bn3.weight            Param shape: torch.Size([256])              requires_grad: False\n",
      "layer1.2.bn3.bias              Param shape: torch.Size([256])              requires_grad: False\n",
      "layer2.0.conv1.weight          Param shape: torch.Size([128, 256, 1, 1])   requires_grad: False\n",
      "layer2.0.bn1.weight            Param shape: torch.Size([128])              requires_grad: False\n",
      "layer2.0.bn1.bias              Param shape: torch.Size([128])              requires_grad: False\n",
      "layer2.0.conv2.weight          Param shape: torch.Size([128, 128, 3, 3])   requires_grad: False\n",
      "layer2.0.bn2.weight            Param shape: torch.Size([128])              requires_grad: False\n",
      "layer2.0.bn2.bias              Param shape: torch.Size([128])              requires_grad: False\n",
      "layer2.0.conv3.weight          Param shape: torch.Size([512, 128, 1, 1])   requires_grad: False\n",
      "layer2.0.bn3.weight            Param shape: torch.Size([512])              requires_grad: False\n",
      "layer2.0.bn3.bias              Param shape: torch.Size([512])              requires_grad: False\n",
      "layer2.0.downsample.0.weight   Param shape: torch.Size([512, 256, 1, 1])   requires_grad: False\n",
      "layer2.0.downsample.1.weight   Param shape: torch.Size([512])              requires_grad: False\n",
      "layer2.0.downsample.1.bias     Param shape: torch.Size([512])              requires_grad: False\n",
      "layer2.1.conv1.weight          Param shape: torch.Size([128, 512, 1, 1])   requires_grad: False\n",
      "layer2.1.bn1.weight            Param shape: torch.Size([128])              requires_grad: False\n",
      "layer2.1.bn1.bias              Param shape: torch.Size([128])              requires_grad: False\n",
      "layer2.1.conv2.weight          Param shape: torch.Size([128, 128, 3, 3])   requires_grad: False\n",
      "layer2.1.bn2.weight            Param shape: torch.Size([128])              requires_grad: False\n",
      "layer2.1.bn2.bias              Param shape: torch.Size([128])              requires_grad: False\n",
      "layer2.1.conv3.weight          Param shape: torch.Size([512, 128, 1, 1])   requires_grad: False\n",
      "layer2.1.bn3.weight            Param shape: torch.Size([512])              requires_grad: False\n",
      "layer2.1.bn3.bias              Param shape: torch.Size([512])              requires_grad: False\n",
      "layer2.2.conv1.weight          Param shape: torch.Size([128, 512, 1, 1])   requires_grad: False\n",
      "layer2.2.bn1.weight            Param shape: torch.Size([128])              requires_grad: False\n",
      "layer2.2.bn1.bias              Param shape: torch.Size([128])              requires_grad: False\n",
      "layer2.2.conv2.weight          Param shape: torch.Size([128, 128, 3, 3])   requires_grad: False\n",
      "layer2.2.bn2.weight            Param shape: torch.Size([128])              requires_grad: False\n",
      "layer2.2.bn2.bias              Param shape: torch.Size([128])              requires_grad: False\n",
      "layer2.2.conv3.weight          Param shape: torch.Size([512, 128, 1, 1])   requires_grad: False\n",
      "layer2.2.bn3.weight            Param shape: torch.Size([512])              requires_grad: False\n",
      "layer2.2.bn3.bias              Param shape: torch.Size([512])              requires_grad: False\n",
      "layer2.3.conv1.weight          Param shape: torch.Size([128, 512, 1, 1])   requires_grad: False\n",
      "layer2.3.bn1.weight            Param shape: torch.Size([128])              requires_grad: False\n",
      "layer2.3.bn1.bias              Param shape: torch.Size([128])              requires_grad: False\n",
      "layer2.3.conv2.weight          Param shape: torch.Size([128, 128, 3, 3])   requires_grad: False\n",
      "layer2.3.bn2.weight            Param shape: torch.Size([128])              requires_grad: False\n",
      "layer2.3.bn2.bias              Param shape: torch.Size([128])              requires_grad: False\n",
      "layer2.3.conv3.weight          Param shape: torch.Size([512, 128, 1, 1])   requires_grad: False\n",
      "layer2.3.bn3.weight            Param shape: torch.Size([512])              requires_grad: False\n",
      "layer2.3.bn3.bias              Param shape: torch.Size([512])              requires_grad: False\n",
      "layer3.0.conv1.weight          Param shape: torch.Size([256, 512, 1, 1])   requires_grad: False\n",
      "layer3.0.bn1.weight            Param shape: torch.Size([256])              requires_grad: False\n",
      "layer3.0.bn1.bias              Param shape: torch.Size([256])              requires_grad: False\n",
      "layer3.0.conv2.weight          Param shape: torch.Size([256, 256, 3, 3])   requires_grad: False\n",
      "layer3.0.bn2.weight            Param shape: torch.Size([256])              requires_grad: False\n",
      "layer3.0.bn2.bias              Param shape: torch.Size([256])              requires_grad: False\n",
      "layer3.0.conv3.weight          Param shape: torch.Size([1024, 256, 1, 1])  requires_grad: False\n",
      "layer3.0.bn3.weight            Param shape: torch.Size([1024])             requires_grad: False\n",
      "layer3.0.bn3.bias              Param shape: torch.Size([1024])             requires_grad: False\n",
      "layer3.0.downsample.0.weight   Param shape: torch.Size([1024, 512, 1, 1])  requires_grad: False\n",
      "layer3.0.downsample.1.weight   Param shape: torch.Size([1024])             requires_grad: False\n",
      "layer3.0.downsample.1.bias     Param shape: torch.Size([1024])             requires_grad: False\n",
      "layer3.1.conv1.weight          Param shape: torch.Size([256, 1024, 1, 1])  requires_grad: False\n",
      "layer3.1.bn1.weight            Param shape: torch.Size([256])              requires_grad: False\n",
      "layer3.1.bn1.bias              Param shape: torch.Size([256])              requires_grad: False\n",
      "layer3.1.conv2.weight          Param shape: torch.Size([256, 256, 3, 3])   requires_grad: False\n",
      "layer3.1.bn2.weight            Param shape: torch.Size([256])              requires_grad: False\n",
      "layer3.1.bn2.bias              Param shape: torch.Size([256])              requires_grad: False\n",
      "layer3.1.conv3.weight          Param shape: torch.Size([1024, 256, 1, 1])  requires_grad: False\n",
      "layer3.1.bn3.weight            Param shape: torch.Size([1024])             requires_grad: False\n",
      "layer3.1.bn3.bias              Param shape: torch.Size([1024])             requires_grad: False\n",
      "layer3.2.conv1.weight          Param shape: torch.Size([256, 1024, 1, 1])  requires_grad: False\n",
      "layer3.2.bn1.weight            Param shape: torch.Size([256])              requires_grad: False\n",
      "layer3.2.bn1.bias              Param shape: torch.Size([256])              requires_grad: False\n",
      "layer3.2.conv2.weight          Param shape: torch.Size([256, 256, 3, 3])   requires_grad: False\n",
      "layer3.2.bn2.weight            Param shape: torch.Size([256])              requires_grad: False\n",
      "layer3.2.bn2.bias              Param shape: torch.Size([256])              requires_grad: False\n",
      "layer3.2.conv3.weight          Param shape: torch.Size([1024, 256, 1, 1])  requires_grad: False\n",
      "layer3.2.bn3.weight            Param shape: torch.Size([1024])             requires_grad: False\n",
      "layer3.2.bn3.bias              Param shape: torch.Size([1024])             requires_grad: False\n",
      "layer3.3.conv1.weight          Param shape: torch.Size([256, 1024, 1, 1])  requires_grad: False\n",
      "layer3.3.bn1.weight            Param shape: torch.Size([256])              requires_grad: False\n",
      "layer3.3.bn1.bias              Param shape: torch.Size([256])              requires_grad: False\n",
      "layer3.3.conv2.weight          Param shape: torch.Size([256, 256, 3, 3])   requires_grad: False\n",
      "layer3.3.bn2.weight            Param shape: torch.Size([256])              requires_grad: False\n",
      "layer3.3.bn2.bias              Param shape: torch.Size([256])              requires_grad: False\n",
      "layer3.3.conv3.weight          Param shape: torch.Size([1024, 256, 1, 1])  requires_grad: False\n",
      "layer3.3.bn3.weight            Param shape: torch.Size([1024])             requires_grad: False\n",
      "layer3.3.bn3.bias              Param shape: torch.Size([1024])             requires_grad: False\n",
      "layer3.4.conv1.weight          Param shape: torch.Size([256, 1024, 1, 1])  requires_grad: False\n",
      "layer3.4.bn1.weight            Param shape: torch.Size([256])              requires_grad: False\n",
      "layer3.4.bn1.bias              Param shape: torch.Size([256])              requires_grad: False\n",
      "layer3.4.conv2.weight          Param shape: torch.Size([256, 256, 3, 3])   requires_grad: False\n",
      "layer3.4.bn2.weight            Param shape: torch.Size([256])              requires_grad: False\n",
      "layer3.4.bn2.bias              Param shape: torch.Size([256])              requires_grad: False\n",
      "layer3.4.conv3.weight          Param shape: torch.Size([1024, 256, 1, 1])  requires_grad: False\n",
      "layer3.4.bn3.weight            Param shape: torch.Size([1024])             requires_grad: False\n",
      "layer3.4.bn3.bias              Param shape: torch.Size([1024])             requires_grad: False\n",
      "layer3.5.conv1.weight          Param shape: torch.Size([256, 1024, 1, 1])  requires_grad: False\n",
      "layer3.5.bn1.weight            Param shape: torch.Size([256])              requires_grad: False\n",
      "layer3.5.bn1.bias              Param shape: torch.Size([256])              requires_grad: False\n",
      "layer3.5.conv2.weight          Param shape: torch.Size([256, 256, 3, 3])   requires_grad: False\n",
      "layer3.5.bn2.weight            Param shape: torch.Size([256])              requires_grad: False\n",
      "layer3.5.bn2.bias              Param shape: torch.Size([256])              requires_grad: False\n",
      "layer3.5.conv3.weight          Param shape: torch.Size([1024, 256, 1, 1])  requires_grad: False\n",
      "layer3.5.bn3.weight            Param shape: torch.Size([1024])             requires_grad: False\n",
      "layer3.5.bn3.bias              Param shape: torch.Size([1024])             requires_grad: False\n",
      "layer4.0.conv1.weight          Param shape: torch.Size([512, 1024, 1, 1])  requires_grad: False\n",
      "layer4.0.bn1.weight            Param shape: torch.Size([512])              requires_grad: False\n",
      "layer4.0.bn1.bias              Param shape: torch.Size([512])              requires_grad: False\n",
      "layer4.0.conv2.weight          Param shape: torch.Size([512, 512, 3, 3])   requires_grad: False\n",
      "layer4.0.bn2.weight            Param shape: torch.Size([512])              requires_grad: False\n",
      "layer4.0.bn2.bias              Param shape: torch.Size([512])              requires_grad: False\n",
      "layer4.0.conv3.weight          Param shape: torch.Size([2048, 512, 1, 1])  requires_grad: False\n",
      "layer4.0.bn3.weight            Param shape: torch.Size([2048])             requires_grad: False\n",
      "layer4.0.bn3.bias              Param shape: torch.Size([2048])             requires_grad: False\n",
      "layer4.0.downsample.0.weight   Param shape: torch.Size([2048, 1024, 1, 1]) requires_grad: False\n",
      "layer4.0.downsample.1.weight   Param shape: torch.Size([2048])             requires_grad: False\n",
      "layer4.0.downsample.1.bias     Param shape: torch.Size([2048])             requires_grad: False\n",
      "layer4.1.conv1.weight          Param shape: torch.Size([512, 2048, 1, 1])  requires_grad: False\n",
      "layer4.1.bn1.weight            Param shape: torch.Size([512])              requires_grad: False\n",
      "layer4.1.bn1.bias              Param shape: torch.Size([512])              requires_grad: False\n",
      "layer4.1.conv2.weight          Param shape: torch.Size([512, 512, 3, 3])   requires_grad: False\n",
      "layer4.1.bn2.weight            Param shape: torch.Size([512])              requires_grad: False\n",
      "layer4.1.bn2.bias              Param shape: torch.Size([512])              requires_grad: False\n",
      "layer4.1.conv3.weight          Param shape: torch.Size([2048, 512, 1, 1])  requires_grad: False\n",
      "layer4.1.bn3.weight            Param shape: torch.Size([2048])             requires_grad: False\n",
      "layer4.1.bn3.bias              Param shape: torch.Size([2048])             requires_grad: False\n",
      "layer4.2.conv1.weight          Param shape: torch.Size([512, 2048, 1, 1])  requires_grad: False\n",
      "layer4.2.bn1.weight            Param shape: torch.Size([512])              requires_grad: False\n",
      "layer4.2.bn1.bias              Param shape: torch.Size([512])              requires_grad: False\n",
      "layer4.2.conv2.weight          Param shape: torch.Size([512, 512, 3, 3])   requires_grad: False\n",
      "layer4.2.bn2.weight            Param shape: torch.Size([512])              requires_grad: False\n",
      "layer4.2.bn2.bias              Param shape: torch.Size([512])              requires_grad: False\n",
      "layer4.2.conv3.weight          Param shape: torch.Size([2048, 512, 1, 1])  requires_grad: False\n",
      "layer4.2.bn3.weight            Param shape: torch.Size([2048])             requires_grad: False\n",
      "layer4.2.bn3.bias              Param shape: torch.Size([2048])             requires_grad: False\n",
      "fc.weight                      Param shape: torch.Size([10, 2048])         requires_grad: True\n",
      "fc.bias                        Param shape: torch.Size([10])               requires_grad: True\n"
     ]
    }
   ],
   "source": [
    "for param in model.parameters():\n",
    "    param.requires_grad = False\n",
    "\n",
    "for param in model.fc.parameters():\n",
    "    param.requires_grad = True\n",
    "\n",
    "for name, param in model.named_parameters():\n",
    "    print(f\"{name:<30} Param shape: {str(param.shape):<30} requires_grad: {param.requires_grad}\")"
   ]
  },
  {
   "cell_type": "markdown",
   "metadata": {},
   "source": [
    "<mark>과제</mark>\n",
    "`get_model` 함수를 완성하여 CIFAR10데이터셋에 대한 transfer learning을 수행하라.\n",
    "\n",
    "`fc` 와 `layer4`만 학습하고 나머지 파라미터는 동결시킬것"
   ]
  },
  {
   "cell_type": "code",
   "execution_count": 20,
   "metadata": {},
   "outputs": [],
   "source": [
    "def get_model(model_name, num_classes, config):\n",
    "    if model_name == \"resnet50\":\n",
    "        if config.get('pretrained', \"\"): #if pretrained model name is given\n",
    "            print(f'Using pretrained model {config[\"pretrained\"]}')\n",
    "            model = models.resnet50(weights = config[\"pretrained\"])\n",
    "\n",
    "            ##### YOUR CODE START #####\n",
    "            for param in model.parameters():\n",
    "                param.requires_grad = False\n",
    "        \n",
    "            for param in model.fc.parameters():\n",
    "                param.requires_grad = True\n",
    "            for param in model.layer4.parameters():\n",
    "                param.requires_grad = True\n",
    "                \n",
    "            model.fc = nn.Linear(model.fc.in_features, num_classes)\n",
    "            ##### YOUR CODE END #####\n",
    "                \n",
    "        else:\n",
    "            model = models.resnet50()\n",
    "            model.fc = nn.Linear(model.fc.in_features, num_classes)\n",
    "    elif model_name == \"SimpleCNN\":\n",
    "        model = SimpleCNN()\n",
    "    else:\n",
    "        raise Exception(\"Model not supported: {}\".format(model_name))\n",
    "    \n",
    "    total_params = sum(p.numel() for p in model.parameters())\n",
    "    trainable_params = sum(p.numel() for p in model.parameters() if p.requires_grad)\n",
    "\n",
    "    print(f\"Using model {model_name} with {total_params} parameters ({trainable_params} trainable)\")\n",
    "\n",
    "    return model\n"
   ]
  },
  {
   "cell_type": "code",
   "execution_count": 21,
   "metadata": {
    "scrolled": true,
    "tags": [
     "execute_cell"
    ]
   },
   "outputs": [
    {
     "data": {
      "text/html": [
       "wandb version 0.18.1 is available!  To upgrade, please run:\n",
       " $ pip install wandb --upgrade"
      ],
      "text/plain": [
       "<IPython.core.display.HTML object>"
      ]
     },
     "metadata": {},
     "output_type": "display_data"
    },
    {
     "data": {
      "text/html": [
       "Tracking run with wandb version 0.17.7"
      ],
      "text/plain": [
       "<IPython.core.display.HTML object>"
      ]
     },
     "metadata": {},
     "output_type": "display_data"
    },
    {
     "data": {
      "text/html": [
       "Run data is saved locally in <code>/home/jovyan/deep_learning_lab/lab_04/wandb/run-20240926_022733-e2e4krk3</code>"
      ],
      "text/plain": [
       "<IPython.core.display.HTML object>"
      ]
     },
     "metadata": {},
     "output_type": "display_data"
    },
    {
     "data": {
      "text/html": [
       "Syncing run <strong><a href='https://wandb.ai/sangmin881717-university-of-suwon/CIFAR10_train/runs/e2e4krk3' target=\"_blank\">smart-cloud-5</a></strong> to <a href='https://wandb.ai/sangmin881717-university-of-suwon/CIFAR10_train' target=\"_blank\">Weights & Biases</a> (<a href='https://wandb.me/run' target=\"_blank\">docs</a>)<br/>"
      ],
      "text/plain": [
       "<IPython.core.display.HTML object>"
      ]
     },
     "metadata": {},
     "output_type": "display_data"
    },
    {
     "data": {
      "text/html": [
       " View project at <a href='https://wandb.ai/sangmin881717-university-of-suwon/CIFAR10_train' target=\"_blank\">https://wandb.ai/sangmin881717-university-of-suwon/CIFAR10_train</a>"
      ],
      "text/plain": [
       "<IPython.core.display.HTML object>"
      ]
     },
     "metadata": {},
     "output_type": "display_data"
    },
    {
     "data": {
      "text/html": [
       " View run at <a href='https://wandb.ai/sangmin881717-university-of-suwon/CIFAR10_train/runs/e2e4krk3' target=\"_blank\">https://wandb.ai/sangmin881717-university-of-suwon/CIFAR10_train/runs/e2e4krk3</a>"
      ],
      "text/plain": [
       "<IPython.core.display.HTML object>"
      ]
     },
     "metadata": {},
     "output_type": "display_data"
    },
    {
     "name": "stdout",
     "output_type": "stream",
     "text": [
      "Using cuda:0 device\n",
      "Files already downloaded and verified\n",
      "Files already downloaded and verified\n",
      "Using pretrained model IMAGENET1K_V2\n",
      "Using model resnet50 with 23528522 parameters (14985226 trainable)\n"
     ]
    },
    {
     "name": "stderr",
     "output_type": "stream",
     "text": [
      "Training Epoch 1: 100%|██████████| 782/782 [00:28<00:00, 27.43it/s, avg_metrics=Loss: 2.0278e+00 (n=50000)), Acc@1:  46.18 (n=50000)), Data_Time:  0.000 (n=782)), Batch_Time:  0.031 (n=782))]\n",
      "Validation/Test: 100%|██████████| 157/157 [00:04<00:00, 34.80it/s, avg_metrics=Loss: 1.7385e+00 (n=10000)), Acc@1:  65.18 (n=10000))]\n",
      "Training Epoch 2: 100%|██████████| 782/782 [00:28<00:00, 27.63it/s, avg_metrics=Loss: 1.4639e+00 (n=50000)), Acc@1:  68.31 (n=50000)), Data_Time:  0.000 (n=782)), Batch_Time:  0.031 (n=782))]\n",
      "Validation/Test: 100%|██████████| 157/157 [00:04<00:00, 35.03it/s, avg_metrics=Loss: 1.1932e+00 (n=10000)), Acc@1:  72.23 (n=10000))]\n",
      "Training Epoch 3: 100%|██████████| 782/782 [00:28<00:00, 27.63it/s, avg_metrics=Loss: 1.0427e+00 (n=50000)), Acc@1:  73.05 (n=50000)), Data_Time:  0.000 (n=782)), Batch_Time:  0.031 (n=782))]\n",
      "Validation/Test: 100%|██████████| 157/157 [00:04<00:00, 34.82it/s, avg_metrics=Loss: 8.8754e-01 (n=10000)), Acc@1:  75.45 (n=10000))]\n",
      "Training Epoch 4: 100%|██████████| 782/782 [00:28<00:00, 27.62it/s, avg_metrics=Loss: 8.3392e-01 (n=50000)), Acc@1:  75.37 (n=50000)), Data_Time:  0.000 (n=782)), Batch_Time:  0.031 (n=782))]\n",
      "Validation/Test: 100%|██████████| 157/157 [00:04<00:00, 34.64it/s, avg_metrics=Loss: 7.5491e-01 (n=10000)), Acc@1:  76.94 (n=10000))]\n",
      "Training Epoch 5: 100%|██████████| 782/782 [00:28<00:00, 27.63it/s, avg_metrics=Loss: 7.2495e-01 (n=50000)), Acc@1:  77.24 (n=50000)), Data_Time:  0.000 (n=782)), Batch_Time:  0.031 (n=782))]\n",
      "Validation/Test: 100%|██████████| 157/157 [00:04<00:00, 34.85it/s, avg_metrics=Loss: 6.6312e-01 (n=10000)), Acc@1:  78.81 (n=10000))]\n",
      "Training Epoch 6: 100%|██████████| 782/782 [00:28<00:00, 27.64it/s, avg_metrics=Loss: 6.6160e-01 (n=50000)), Acc@1:  78.60 (n=50000)), Data_Time:  0.000 (n=782)), Batch_Time:  0.031 (n=782))]\n",
      "Validation/Test: 100%|██████████| 157/157 [00:04<00:00, 34.95it/s, avg_metrics=Loss: 6.1736e-01 (n=10000)), Acc@1:  79.46 (n=10000))]\n",
      "Training Epoch 7: 100%|██████████| 782/782 [00:28<00:00, 27.63it/s, avg_metrics=Loss: 6.1758e-01 (n=50000)), Acc@1:  79.73 (n=50000)), Data_Time:  0.000 (n=782)), Batch_Time:  0.031 (n=782))]\n",
      "Validation/Test: 100%|██████████| 157/157 [00:04<00:00, 34.93it/s, avg_metrics=Loss: 5.6346e-01 (n=10000)), Acc@1:  81.09 (n=10000))]\n",
      "Training Epoch 8: 100%|██████████| 782/782 [00:28<00:00, 27.63it/s, avg_metrics=Loss: 5.8151e-01 (n=50000)), Acc@1:  80.77 (n=50000)), Data_Time:  0.000 (n=782)), Batch_Time:  0.031 (n=782))]\n",
      "Validation/Test: 100%|██████████| 157/157 [00:04<00:00, 34.73it/s, avg_metrics=Loss: 5.4508e-01 (n=10000)), Acc@1:  81.58 (n=10000))]\n",
      "Training Epoch 9: 100%|██████████| 782/782 [00:28<00:00, 27.67it/s, avg_metrics=Loss: 5.5553e-01 (n=50000)), Acc@1:  81.56 (n=50000)), Data_Time:  0.000 (n=782)), Batch_Time:  0.031 (n=782))]\n",
      "Validation/Test: 100%|██████████| 157/157 [00:04<00:00, 34.96it/s, avg_metrics=Loss: 5.3310e-01 (n=10000)), Acc@1:  81.86 (n=10000))]\n",
      "Training Epoch 10: 100%|██████████| 782/782 [00:28<00:00, 27.65it/s, avg_metrics=Loss: 5.3023e-01 (n=50000)), Acc@1:  82.30 (n=50000)), Data_Time:  0.000 (n=782)), Batch_Time:  0.031 (n=782))]\n",
      "Validation/Test: 100%|██████████| 157/157 [00:04<00:00, 34.92it/s, avg_metrics=Loss: 5.2078e-01 (n=10000)), Acc@1:  82.21 (n=10000))]\n",
      "Training Epoch 11: 100%|██████████| 782/782 [00:28<00:00, 27.62it/s, avg_metrics=Loss: 5.0646e-01 (n=50000)), Acc@1:  82.86 (n=50000)), Data_Time:  0.000 (n=782)), Batch_Time:  0.031 (n=782))]\n",
      "Validation/Test: 100%|██████████| 157/157 [00:04<00:00, 34.87it/s, avg_metrics=Loss: 4.9911e-01 (n=10000)), Acc@1:  82.87 (n=10000))]\n",
      "Training Epoch 12: 100%|██████████| 782/782 [00:28<00:00, 27.63it/s, avg_metrics=Loss: 4.8876e-01 (n=50000)), Acc@1:  83.68 (n=50000)), Data_Time:  0.000 (n=782)), Batch_Time:  0.031 (n=782))]\n",
      "Validation/Test: 100%|██████████| 157/157 [00:04<00:00, 34.76it/s, avg_metrics=Loss: 4.8453e-01 (n=10000)), Acc@1:  83.23 (n=10000))]\n",
      "Training Epoch 13: 100%|██████████| 782/782 [00:28<00:00, 27.66it/s, avg_metrics=Loss: 4.7462e-01 (n=50000)), Acc@1:  84.00 (n=50000)), Data_Time:  0.000 (n=782)), Batch_Time:  0.031 (n=782))]\n",
      "Validation/Test: 100%|██████████| 157/157 [00:04<00:00, 34.85it/s, avg_metrics=Loss: 4.7138e-01 (n=10000)), Acc@1:  83.72 (n=10000))]\n",
      "Training Epoch 14: 100%|██████████| 782/782 [00:28<00:00, 27.65it/s, avg_metrics=Loss: 4.5828e-01 (n=50000)), Acc@1:  84.63 (n=50000)), Data_Time:  0.000 (n=782)), Batch_Time:  0.031 (n=782))]\n",
      "Validation/Test: 100%|██████████| 157/157 [00:04<00:00, 35.00it/s, avg_metrics=Loss: 4.5465e-01 (n=10000)), Acc@1:  84.14 (n=10000))]\n",
      "Training Epoch 15: 100%|██████████| 782/782 [00:28<00:00, 27.65it/s, avg_metrics=Loss: 4.4358e-01 (n=50000)), Acc@1:  85.01 (n=50000)), Data_Time:  0.000 (n=782)), Batch_Time:  0.031 (n=782))]\n",
      "Validation/Test: 100%|██████████| 157/157 [00:04<00:00, 34.83it/s, avg_metrics=Loss: 4.5569e-01 (n=10000)), Acc@1:  84.16 (n=10000))]\n",
      "Training Epoch 16: 100%|██████████| 782/782 [00:28<00:00, 27.66it/s, avg_metrics=Loss: 4.3013e-01 (n=50000)), Acc@1:  85.57 (n=50000)), Data_Time:  0.000 (n=782)), Batch_Time:  0.031 (n=782))]\n",
      "Validation/Test: 100%|██████████| 157/157 [00:04<00:00, 34.83it/s, avg_metrics=Loss: 4.3986e-01 (n=10000)), Acc@1:  84.66 (n=10000))]\n",
      "Training Epoch 17: 100%|██████████| 782/782 [00:28<00:00, 27.64it/s, avg_metrics=Loss: 4.1615e-01 (n=50000)), Acc@1:  85.97 (n=50000)), Data_Time:  0.000 (n=782)), Batch_Time:  0.031 (n=782))]\n",
      "Validation/Test: 100%|██████████| 157/157 [00:04<00:00, 34.90it/s, avg_metrics=Loss: 4.3771e-01 (n=10000)), Acc@1:  84.93 (n=10000))]\n",
      "Training Epoch 18: 100%|██████████| 782/782 [00:28<00:00, 27.65it/s, avg_metrics=Loss: 4.0709e-01 (n=50000)), Acc@1:  86.17 (n=50000)), Data_Time:  0.000 (n=782)), Batch_Time:  0.031 (n=782))]\n",
      "Validation/Test: 100%|██████████| 157/157 [00:04<00:00, 34.73it/s, avg_metrics=Loss: 4.3147e-01 (n=10000)), Acc@1:  85.15 (n=10000))]\n",
      "Training Epoch 19: 100%|██████████| 782/782 [00:28<00:00, 27.60it/s, avg_metrics=Loss: 3.9558e-01 (n=50000)), Acc@1:  86.80 (n=50000)), Data_Time:  0.000 (n=782)), Batch_Time:  0.031 (n=782))]\n",
      "Validation/Test: 100%|██████████| 157/157 [00:04<00:00, 34.88it/s, avg_metrics=Loss: 4.2610e-01 (n=10000)), Acc@1:  85.25 (n=10000))]\n",
      "Training Epoch 20: 100%|██████████| 782/782 [00:28<00:00, 27.66it/s, avg_metrics=Loss: 3.8411e-01 (n=50000)), Acc@1:  87.07 (n=50000)), Data_Time:  0.000 (n=782)), Batch_Time:  0.031 (n=782))]\n",
      "Validation/Test: 100%|██████████| 157/157 [00:04<00:00, 34.78it/s, avg_metrics=Loss: 4.1774e-01 (n=10000)), Acc@1:  85.57 (n=10000))]\n",
      "Training Epoch 21: 100%|██████████| 782/782 [00:28<00:00, 27.64it/s, avg_metrics=Loss: 3.7364e-01 (n=50000)), Acc@1:  87.56 (n=50000)), Data_Time:  0.000 (n=782)), Batch_Time:  0.031 (n=782))]\n",
      "Validation/Test: 100%|██████████| 157/157 [00:04<00:00, 34.84it/s, avg_metrics=Loss: 4.1152e-01 (n=10000)), Acc@1:  85.83 (n=10000))]\n",
      "Training Epoch 22: 100%|██████████| 782/782 [00:28<00:00, 27.63it/s, avg_metrics=Loss: 3.6599e-01 (n=50000)), Acc@1:  87.79 (n=50000)), Data_Time:  0.000 (n=782)), Batch_Time:  0.031 (n=782))]\n",
      "Validation/Test: 100%|██████████| 157/157 [00:04<00:00, 34.82it/s, avg_metrics=Loss: 4.1358e-01 (n=10000)), Acc@1:  85.63 (n=10000))]\n",
      "Training Epoch 23: 100%|██████████| 782/782 [00:28<00:00, 27.65it/s, avg_metrics=Loss: 3.5509e-01 (n=50000)), Acc@1:  88.01 (n=50000)), Data_Time:  0.000 (n=782)), Batch_Time:  0.031 (n=782))]\n",
      "Validation/Test: 100%|██████████| 157/157 [00:04<00:00, 34.86it/s, avg_metrics=Loss: 4.0809e-01 (n=10000)), Acc@1:  85.73 (n=10000))]\n",
      "Training Epoch 24: 100%|██████████| 782/782 [00:28<00:00, 27.65it/s, avg_metrics=Loss: 3.4782e-01 (n=50000)), Acc@1:  88.32 (n=50000)), Data_Time:  0.000 (n=782)), Batch_Time:  0.031 (n=782))]\n",
      "Validation/Test: 100%|██████████| 157/157 [00:04<00:00, 34.73it/s, avg_metrics=Loss: 4.0445e-01 (n=10000)), Acc@1:  85.92 (n=10000))]\n",
      "Training Epoch 25: 100%|██████████| 782/782 [00:28<00:00, 27.65it/s, avg_metrics=Loss: 3.3961e-01 (n=50000)), Acc@1:  88.66 (n=50000)), Data_Time:  0.000 (n=782)), Batch_Time:  0.031 (n=782))]\n",
      "Validation/Test: 100%|██████████| 157/157 [00:04<00:00, 34.88it/s, avg_metrics=Loss: 4.0343e-01 (n=10000)), Acc@1:  86.09 (n=10000))]\n",
      "Training Epoch 26: 100%|██████████| 782/782 [00:28<00:00, 27.63it/s, avg_metrics=Loss: 3.3016e-01 (n=50000)), Acc@1:  88.97 (n=50000)), Data_Time:  0.000 (n=782)), Batch_Time:  0.031 (n=782))]\n",
      "Validation/Test: 100%|██████████| 157/157 [00:04<00:00, 34.95it/s, avg_metrics=Loss: 3.8573e-01 (n=10000)), Acc@1:  86.67 (n=10000))]\n",
      "Training Epoch 27: 100%|██████████| 782/782 [00:28<00:00, 27.61it/s, avg_metrics=Loss: 3.2237e-01 (n=50000)), Acc@1:  89.25 (n=50000)), Data_Time:  0.000 (n=782)), Batch_Time:  0.031 (n=782))]\n",
      "Validation/Test: 100%|██████████| 157/157 [00:04<00:00, 34.73it/s, avg_metrics=Loss: 3.8793e-01 (n=10000)), Acc@1:  86.50 (n=10000))]\n",
      "Training Epoch 28: 100%|██████████| 782/782 [00:28<00:00, 27.65it/s, avg_metrics=Loss: 3.1511e-01 (n=50000)), Acc@1:  89.43 (n=50000)), Data_Time:  0.000 (n=782)), Batch_Time:  0.031 (n=782))]\n",
      "Validation/Test: 100%|██████████| 157/157 [00:04<00:00, 34.92it/s, avg_metrics=Loss: 3.8690e-01 (n=10000)), Acc@1:  86.65 (n=10000))]\n",
      "Training Epoch 29: 100%|██████████| 782/782 [00:28<00:00, 27.67it/s, avg_metrics=Loss: 3.0676e-01 (n=50000)), Acc@1:  89.69 (n=50000)), Data_Time:  0.000 (n=782)), Batch_Time:  0.031 (n=782))]\n",
      "Validation/Test: 100%|██████████| 157/157 [00:04<00:00, 34.81it/s, avg_metrics=Loss: 3.7554e-01 (n=10000)), Acc@1:  86.84 (n=10000))]\n",
      "Training Epoch 30: 100%|██████████| 782/782 [00:28<00:00, 27.60it/s, avg_metrics=Loss: 2.9893e-01 (n=50000)), Acc@1:  89.98 (n=50000)), Data_Time:  0.000 (n=782)), Batch_Time:  0.031 (n=782))]\n",
      "Validation/Test: 100%|██████████| 157/157 [00:04<00:00, 34.93it/s, avg_metrics=Loss: 3.8899e-01 (n=10000)), Acc@1:  86.61 (n=10000))]\n",
      "Training Epoch 31: 100%|██████████| 782/782 [00:28<00:00, 27.60it/s, avg_metrics=Loss: 2.9471e-01 (n=50000)), Acc@1:  90.11 (n=50000)), Data_Time:  0.000 (n=782)), Batch_Time:  0.031 (n=782))]\n",
      "Validation/Test: 100%|██████████| 157/157 [00:04<00:00, 34.96it/s, avg_metrics=Loss: 3.8588e-01 (n=10000)), Acc@1:  86.83 (n=10000))]\n",
      "Training Epoch 32: 100%|██████████| 782/782 [00:28<00:00, 27.64it/s, avg_metrics=Loss: 2.8532e-01 (n=50000)), Acc@1:  90.49 (n=50000)), Data_Time:  0.000 (n=782)), Batch_Time:  0.031 (n=782))]\n",
      "Validation/Test: 100%|██████████| 157/157 [00:04<00:00, 34.82it/s, avg_metrics=Loss: 3.7007e-01 (n=10000)), Acc@1:  87.29 (n=10000))]\n",
      "Training Epoch 33: 100%|██████████| 782/782 [00:28<00:00, 27.61it/s, avg_metrics=Loss: 2.8027e-01 (n=50000)), Acc@1:  90.64 (n=50000)), Data_Time:  0.000 (n=782)), Batch_Time:  0.031 (n=782))]\n",
      "Validation/Test: 100%|██████████| 157/157 [00:04<00:00, 34.97it/s, avg_metrics=Loss: 3.7396e-01 (n=10000)), Acc@1:  87.15 (n=10000))]\n",
      "Training Epoch 34: 100%|██████████| 782/782 [00:28<00:00, 27.65it/s, avg_metrics=Loss: 2.7362e-01 (n=50000)), Acc@1:  90.85 (n=50000)), Data_Time:  0.000 (n=782)), Batch_Time:  0.031 (n=782))]\n",
      "Validation/Test: 100%|██████████| 157/157 [00:04<00:00, 34.93it/s, avg_metrics=Loss: 3.6944e-01 (n=10000)), Acc@1:  87.36 (n=10000))]\n",
      "Training Epoch 35: 100%|██████████| 782/782 [00:28<00:00, 27.63it/s, avg_metrics=Loss: 2.6902e-01 (n=50000)), Acc@1:  90.98 (n=50000)), Data_Time:  0.000 (n=782)), Batch_Time:  0.031 (n=782))]\n",
      "Validation/Test: 100%|██████████| 157/157 [00:04<00:00, 34.94it/s, avg_metrics=Loss: 3.7178e-01 (n=10000)), Acc@1:  87.21 (n=10000))]\n",
      "Training Epoch 36: 100%|██████████| 782/782 [00:28<00:00, 27.64it/s, avg_metrics=Loss: 2.5998e-01 (n=50000)), Acc@1:  91.34 (n=50000)), Data_Time:  0.000 (n=782)), Batch_Time:  0.031 (n=782))]\n",
      "Validation/Test: 100%|██████████| 157/157 [00:04<00:00, 34.77it/s, avg_metrics=Loss: 3.7261e-01 (n=10000)), Acc@1:  87.33 (n=10000))]\n",
      "Training Epoch 37: 100%|██████████| 782/782 [00:28<00:00, 27.63it/s, avg_metrics=Loss: 2.5320e-01 (n=50000)), Acc@1:  91.55 (n=50000)), Data_Time:  0.000 (n=782)), Batch_Time:  0.031 (n=782))]\n",
      "Validation/Test: 100%|██████████| 157/157 [00:04<00:00, 34.93it/s, avg_metrics=Loss: 3.6476e-01 (n=10000)), Acc@1:  87.48 (n=10000))]\n",
      "Training Epoch 38: 100%|██████████| 782/782 [00:28<00:00, 27.68it/s, avg_metrics=Loss: 2.4667e-01 (n=50000)), Acc@1:  91.78 (n=50000)), Data_Time:  0.000 (n=782)), Batch_Time:  0.031 (n=782))]\n",
      "Validation/Test: 100%|██████████| 157/157 [00:04<00:00, 34.81it/s, avg_metrics=Loss: 3.6581e-01 (n=10000)), Acc@1:  87.35 (n=10000))]\n",
      "Training Epoch 39: 100%|██████████| 782/782 [00:28<00:00, 27.61it/s, avg_metrics=Loss: 2.4067e-01 (n=50000)), Acc@1:  92.15 (n=50000)), Data_Time:  0.000 (n=782)), Batch_Time:  0.031 (n=782))]\n",
      "Validation/Test: 100%|██████████| 157/157 [00:04<00:00, 34.99it/s, avg_metrics=Loss: 3.6322e-01 (n=10000)), Acc@1:  87.52 (n=10000))]\n",
      "Training Epoch 40: 100%|██████████| 782/782 [00:28<00:00, 27.63it/s, avg_metrics=Loss: 2.3752e-01 (n=50000)), Acc@1:  92.18 (n=50000)), Data_Time:  0.000 (n=782)), Batch_Time:  0.031 (n=782))]\n",
      "Validation/Test: 100%|██████████| 157/157 [00:04<00:00, 35.04it/s, avg_metrics=Loss: 3.6120e-01 (n=10000)), Acc@1:  87.66 (n=10000))]\n",
      "Training Epoch 41: 100%|██████████| 782/782 [00:28<00:00, 27.61it/s, avg_metrics=Loss: 2.3120e-01 (n=50000)), Acc@1:  92.30 (n=50000)), Data_Time:  0.000 (n=782)), Batch_Time:  0.031 (n=782))]\n",
      "Validation/Test: 100%|██████████| 157/157 [00:04<00:00, 34.74it/s, avg_metrics=Loss: 3.5432e-01 (n=10000)), Acc@1:  87.73 (n=10000))]\n",
      "Training Epoch 42: 100%|██████████| 782/782 [00:28<00:00, 27.64it/s, avg_metrics=Loss: 2.2490e-01 (n=50000)), Acc@1:  92.58 (n=50000)), Data_Time:  0.000 (n=782)), Batch_Time:  0.031 (n=782))]\n",
      "Validation/Test: 100%|██████████| 157/157 [00:04<00:00, 34.73it/s, avg_metrics=Loss: 3.6292e-01 (n=10000)), Acc@1:  87.63 (n=10000))]\n",
      "Training Epoch 43: 100%|██████████| 782/782 [00:28<00:00, 27.65it/s, avg_metrics=Loss: 2.1885e-01 (n=50000)), Acc@1:  92.84 (n=50000)), Data_Time:  0.000 (n=782)), Batch_Time:  0.031 (n=782))]\n",
      "Validation/Test: 100%|██████████| 157/157 [00:04<00:00, 34.91it/s, avg_metrics=Loss: 3.6778e-01 (n=10000)), Acc@1:  87.55 (n=10000))]\n",
      "Training Epoch 44: 100%|██████████| 782/782 [00:28<00:00, 27.66it/s, avg_metrics=Loss: 2.1694e-01 (n=50000)), Acc@1:  92.83 (n=50000)), Data_Time:  0.000 (n=782)), Batch_Time:  0.031 (n=782))]\n",
      "Validation/Test: 100%|██████████| 157/157 [00:04<00:00, 34.96it/s, avg_metrics=Loss: 3.6098e-01 (n=10000)), Acc@1:  87.91 (n=10000))]\n",
      "Training Epoch 45: 100%|██████████| 782/782 [00:28<00:00, 27.67it/s, avg_metrics=Loss: 2.0788e-01 (n=50000)), Acc@1:  93.25 (n=50000)), Data_Time:  0.000 (n=782)), Batch_Time:  0.031 (n=782))]\n",
      "Validation/Test: 100%|██████████| 157/157 [00:04<00:00, 34.76it/s, avg_metrics=Loss: 3.6370e-01 (n=10000)), Acc@1:  87.46 (n=10000))]\n",
      "Training Epoch 46: 100%|██████████| 782/782 [00:28<00:00, 27.60it/s, avg_metrics=Loss: 2.0195e-01 (n=50000)), Acc@1:  93.51 (n=50000)), Data_Time:  0.000 (n=782)), Batch_Time:  0.031 (n=782))]\n",
      "Validation/Test: 100%|██████████| 157/157 [00:04<00:00, 34.85it/s, avg_metrics=Loss: 3.6061e-01 (n=10000)), Acc@1:  87.76 (n=10000))]\n",
      "Training Epoch 47: 100%|██████████| 782/782 [00:28<00:00, 27.65it/s, avg_metrics=Loss: 1.9771e-01 (n=50000)), Acc@1:  93.56 (n=50000)), Data_Time:  0.000 (n=782)), Batch_Time:  0.031 (n=782))]\n",
      "Validation/Test: 100%|██████████| 157/157 [00:04<00:00, 34.89it/s, avg_metrics=Loss: 3.5889e-01 (n=10000)), Acc@1:  88.11 (n=10000))]\n",
      "Training Epoch 48: 100%|██████████| 782/782 [00:28<00:00, 27.63it/s, avg_metrics=Loss: 1.9340e-01 (n=50000)), Acc@1:  93.71 (n=50000)), Data_Time:  0.000 (n=782)), Batch_Time:  0.031 (n=782))]\n",
      "Validation/Test: 100%|██████████| 157/157 [00:04<00:00, 35.01it/s, avg_metrics=Loss: 3.5706e-01 (n=10000)), Acc@1:  88.23 (n=10000))]\n",
      "Training Epoch 49: 100%|██████████| 782/782 [00:28<00:00, 27.63it/s, avg_metrics=Loss: 1.8620e-01 (n=50000)), Acc@1:  94.06 (n=50000)), Data_Time:  0.000 (n=782)), Batch_Time:  0.031 (n=782))]\n",
      "Validation/Test: 100%|██████████| 157/157 [00:04<00:00, 34.75it/s, avg_metrics=Loss: 3.6376e-01 (n=10000)), Acc@1:  87.72 (n=10000))]\n",
      "Training Epoch 50: 100%|██████████| 782/782 [00:28<00:00, 27.62it/s, avg_metrics=Loss: 1.8251e-01 (n=50000)), Acc@1:  94.08 (n=50000)), Data_Time:  0.000 (n=782)), Batch_Time:  0.031 (n=782))]\n",
      "Validation/Test: 100%|██████████| 157/157 [00:04<00:00, 34.86it/s, avg_metrics=Loss: 3.5700e-01 (n=10000)), Acc@1:  88.12 (n=10000))]\n"
     ]
    },
    {
     "data": {
      "application/vnd.jupyter.widget-view+json": {
       "model_id": "",
       "version_major": 2,
       "version_minor": 0
      },
      "text/plain": [
       "VBox(children=(Label(value='0.004 MB of 0.004 MB uploaded\\r'), FloatProgress(value=1.0, max=1.0)))"
      ]
     },
     "metadata": {},
     "output_type": "display_data"
    },
    {
     "data": {
      "text/html": [
       "<style>\n",
       "    table.wandb td:nth-child(1) { padding: 0 10px; text-align: left ; width: auto;} td:nth-child(2) {text-align: left ; width: 100%}\n",
       "    .wandb-row { display: flex; flex-direction: row; flex-wrap: wrap; justify-content: flex-start; width: 100% }\n",
       "    .wandb-col { display: flex; flex-direction: column; flex-basis: 100%; flex: 1; padding: 10px; }\n",
       "    </style>\n",
       "<div class=\"wandb-row\"><div class=\"wandb-col\"><h3>Run history:</h3><br/><table class=\"wandb\"><tr><td>Train Accuracy@1</td><td>▁▄▅▅▆▆▆▆▆▆▇▇▇▇▇▇▇▇▇▇▇▇▇▇▇▇▇█████████████</td></tr><tr><td>Train Loss</td><td>█▆▄▃▃▃▃▂▂▂▂▂▂▂▂▂▂▂▂▂▂▂▂▁▁▁▁▁▁▁▁▁▁▁▁▁▁▁▁▁</td></tr><tr><td>Validation Accuracy@1</td><td>▁▃▄▅▅▆▆▆▆▆▇▇▇▇▇▇▇▇▇▇█▇██████████████████</td></tr><tr><td>Validation Loss</td><td>█▅▄▃▂▂▂▂▂▂▂▂▁▁▁▁▁▁▁▁▁▁▁▁▁▁▁▁▁▁▁▁▁▁▁▁▁▁▁▁</td></tr></table><br/></div><div class=\"wandb-col\"><h3>Run summary:</h3><br/><table class=\"wandb\"><tr><td>Train Accuracy@1</td><td>94.076</td></tr><tr><td>Train Loss</td><td>0.18251</td></tr><tr><td>Validation Accuracy@1</td><td>88.12</td></tr><tr><td>Validation Loss</td><td>0.357</td></tr></table><br/></div></div>"
      ],
      "text/plain": [
       "<IPython.core.display.HTML object>"
      ]
     },
     "metadata": {},
     "output_type": "display_data"
    },
    {
     "data": {
      "text/html": [
       " View run <strong style=\"color:#cdcd00\">smart-cloud-5</strong> at: <a href='https://wandb.ai/sangmin881717-university-of-suwon/CIFAR10_train/runs/e2e4krk3' target=\"_blank\">https://wandb.ai/sangmin881717-university-of-suwon/CIFAR10_train/runs/e2e4krk3</a><br/> View project at: <a href='https://wandb.ai/sangmin881717-university-of-suwon/CIFAR10_train' target=\"_blank\">https://wandb.ai/sangmin881717-university-of-suwon/CIFAR10_train</a><br/>Synced 6 W&B file(s), 0 media file(s), 0 artifact file(s) and 0 other file(s)"
      ],
      "text/plain": [
       "<IPython.core.display.HTML object>"
      ]
     },
     "metadata": {},
     "output_type": "display_data"
    },
    {
     "data": {
      "text/html": [
       "Find logs at: <code>./wandb/run-20240926_022733-e2e4krk3/logs</code>"
      ],
      "text/plain": [
       "<IPython.core.display.HTML object>"
      ]
     },
     "metadata": {},
     "output_type": "display_data"
    },
    {
     "data": {
      "text/html": [
       "The new W&B backend becomes opt-out in version 0.18.0; try it out with `wandb.require(\"core\")`! See https://wandb.me/wandb-core for more information."
      ],
      "text/plain": [
       "<IPython.core.display.HTML object>"
      ]
     },
     "metadata": {},
     "output_type": "display_data"
    }
   ],
   "source": [
    "config = {\n",
    "    'data_root_dir': '/datasets',\n",
    "    'batch_size': 64,\n",
    "    'learning_rate': 1e-3,\n",
    "    'num_epochs': 50,\n",
    "    'model_name': 'resnet50',\n",
    "    'pretrained' : 'IMAGENET1K_V2',\n",
    "    \"dataset\": \"CIFAR10\",\n",
    "    'wandb_project_name': 'CIFAR10_train',\n",
    "\n",
    "    \"checkpoint_save_interval\" : 10,\n",
    "    \"checkpoint_path\" : \"checkpoints/checkpoint.pth\",\n",
    "    \"best_model_path\" : \"checkpoints/best_model.pth\",\n",
    "    \"load_from_checkpoint\" : None,    # Options: \"latest\", \"best\", or None\n",
    "}\n",
    "train_main(config)"
   ]
  },
  {
   "cell_type": "markdown",
   "metadata": {},
   "source": [
    "#### 선택 과제 (optional)\n",
    "transfer learning 코드를 수정하여 다양한 layer를 freeze/unfreeze해보고 가장 성능이 좋은 transfer learning조건을 찾아보자.\n",
    "\n",
    "<mark>주의</mark> 추가 실습을 하기 전 완성한 과제를 git push하여, 추가실험으로 인한 변화가 제출되지 않도록 주의할것"
   ]
  },
  {
   "cell_type": "markdown",
   "metadata": {},
   "source": [
    "#### Lab을 마무리 짓기 전 저장된 checkpoint를 모두 지워 저장공간을 확보한다"
   ]
  },
  {
   "cell_type": "code",
   "execution_count": 22,
   "metadata": {
    "tags": [
     "execute_cell"
    ]
   },
   "outputs": [],
   "source": [
    "import shutil\n",
    "shutil.rmtree('checkpoints/')"
   ]
  }
 ],
 "metadata": {
  "kernelspec": {
   "display_name": "Python 3 (ipykernel)",
   "language": "python",
   "name": "python3"
  },
  "language_info": {
   "codemirror_mode": {
    "name": "ipython",
    "version": 3
   },
   "file_extension": ".py",
   "mimetype": "text/x-python",
   "name": "python",
   "nbconvert_exporter": "python",
   "pygments_lexer": "ipython3",
   "version": "3.11.9"
  }
 },
 "nbformat": 4,
 "nbformat_minor": 4
}
