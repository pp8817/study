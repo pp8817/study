{
 "cells": [
  {
   "cell_type": "markdown",
   "metadata": {},
   "source": [
    "PyTorch\n",
    "================\n",
    "\n",
    "파이토치는 파이썬 기반의 scientific computing package로 아래 독자층을 타겟하고 있다\n",
    "\n",
    "-  GPU를 이용할 수 있는 NumPy 대체 패키지\n",
    "-  최고의 유연성과 속도를 제공하는 딥러닝 연구 플랫폼"
   ]
  },
  {
   "cell_type": "code",
   "execution_count": 56,
   "metadata": {},
   "outputs": [],
   "source": [
    "import numpy as np\n",
    "import torch"
   ]
  },
  {
   "cell_type": "markdown",
   "metadata": {},
   "source": [
    "파이토치 시작하기\n",
    "---------------\n",
    "\n",
    "### 텐서(Tensors)\n",
    "\n",
    "텐서는 NumPy의 ndarray와 비슷하며 GPU를 활용한 계산을 부가적으로 제공한다"
   ]
  },
  {
   "cell_type": "markdown",
   "metadata": {},
   "source": [
    "### 텐서 초기화하기"
   ]
  },
  {
   "cell_type": "markdown",
   "metadata": {},
   "source": [
    "초기화되지 않은 5x3 tensor 만들기"
   ]
  },
  {
   "cell_type": "code",
   "execution_count": 57,
   "metadata": {
    "tags": [
     "execute_cell"
    ]
   },
   "outputs": [
    {
     "name": "stdout",
     "output_type": "stream",
     "text": [
      "tensor([[3.4333e+13, 4.5845e-41, 9.6983e+18],\n",
      "        [3.0739e-41, 4.4842e-44, 0.0000e+00],\n",
      "        [1.1210e-43, 0.0000e+00, 1.5500e-36],\n",
      "        [3.0746e-41, 3.4333e+13, 4.5845e-41],\n",
      "        [0.0000e+00, 0.0000e+00, 0.0000e+00]])\n",
      "<class 'torch.Tensor'>\n"
     ]
    }
   ],
   "source": [
    "x = torch.empty(5, 3)\n",
    "print(x)\n",
    "print(type(x))"
   ]
  },
  {
   "cell_type": "markdown",
   "metadata": {},
   "source": [
    "랜덤하게 초기화된 텐서 만들기"
   ]
  },
  {
   "cell_type": "code",
   "execution_count": 58,
   "metadata": {
    "tags": [
     "execute_cell"
    ]
   },
   "outputs": [
    {
     "name": "stdout",
     "output_type": "stream",
     "text": [
      "tensor([[0.1940, 0.4019, 0.0597],\n",
      "        [0.2603, 0.1397, 0.5707],\n",
      "        [0.2318, 0.4930, 0.0748],\n",
      "        [0.2300, 0.3939, 0.3710],\n",
      "        [0.7508, 0.3234, 0.0668]])\n"
     ]
    }
   ],
   "source": [
    "x = torch.rand(5, 3)\n",
    "print(x)"
   ]
  },
  {
   "cell_type": "markdown",
   "metadata": {},
   "source": [
    "값이 0이고 dtype이 long인 텐서 만들기"
   ]
  },
  {
   "cell_type": "code",
   "execution_count": 59,
   "metadata": {
    "tags": [
     "execute_cell"
    ]
   },
   "outputs": [
    {
     "name": "stdout",
     "output_type": "stream",
     "text": [
      "tensor([[0, 0, 0],\n",
      "        [0, 0, 0],\n",
      "        [0, 0, 0],\n",
      "        [0, 0, 0],\n",
      "        [0, 0, 0]])\n"
     ]
    }
   ],
   "source": [
    "x = torch.zeros(5, 3, dtype=torch.long)\n",
    "print(x)"
   ]
  },
  {
   "cell_type": "markdown",
   "metadata": {},
   "source": [
    "값이 1이고 dtype이 float16인 텐서 만들기"
   ]
  },
  {
   "cell_type": "code",
   "execution_count": 60,
   "metadata": {
    "tags": [
     "execute_cell"
    ]
   },
   "outputs": [
    {
     "name": "stdout",
     "output_type": "stream",
     "text": [
      "Ones Tensor: \n",
      " tensor([[1., 1., 1.],\n",
      "        [1., 1., 1.]], dtype=torch.float16) \n",
      "\n"
     ]
    }
   ],
   "source": [
    "shape = (2,3,)\n",
    "ones_tensor = torch.ones(shape, dtype = torch.float16)\n",
    "\n",
    "print(f\"Ones Tensor: \\n {ones_tensor} \\n\")"
   ]
  },
  {
   "cell_type": "markdown",
   "metadata": {},
   "source": [
    "이미 존재하는 데이터로 부터 텐서 만들기"
   ]
  },
  {
   "cell_type": "code",
   "execution_count": 61,
   "metadata": {
    "tags": [
     "execute_cell"
    ]
   },
   "outputs": [
    {
     "name": "stdout",
     "output_type": "stream",
     "text": [
      "tensor([[1, 2],\n",
      "        [3, 4]])\n"
     ]
    }
   ],
   "source": [
    "data = [[1, 2],[3, 4]]\n",
    "x = torch.tensor(data)\n",
    "print(x)"
   ]
  },
  {
   "cell_type": "markdown",
   "metadata": {},
   "source": [
    "이미 존재하는 tensor를 이용하여 새로운 텐서 생성하기\n",
    "\n",
    "이 함수들은 tensor의 새로운 속성 (e.g. dtype, size)을 전달받지 않는한, input tensor의 속성을 그대로 재사용한다."
   ]
  },
  {
   "cell_type": "code",
   "execution_count": 62,
   "metadata": {
    "tags": [
     "execute_cell"
    ]
   },
   "outputs": [
    {
     "name": "stdout",
     "output_type": "stream",
     "text": [
      "tensor([[1, 1, 1],\n",
      "        [1, 1, 1]])\n",
      "tensor([[-1.0487, -0.1669,  0.4957],\n",
      "        [-0.5061, -0.2326, -0.3658]])\n"
     ]
    }
   ],
   "source": [
    "x = x.new_ones(2, 3)      # override shape\n",
    "print(x)                  # result has the same dtype\n",
    "\n",
    "x = torch.randn_like(x, dtype=torch.float)    # override dtype\n",
    "print(x)                                      # result has the same size"
   ]
  },
  {
   "cell_type": "markdown",
   "metadata": {},
   "source": [
    "numpy로 부터 tensor 생성하기"
   ]
  },
  {
   "cell_type": "code",
   "execution_count": 63,
   "metadata": {
    "tags": [
     "execute_cell"
    ]
   },
   "outputs": [
    {
     "name": "stdout",
     "output_type": "stream",
     "text": [
      "tensor([[1, 2],\n",
      "        [3, 4]])\n"
     ]
    }
   ],
   "source": [
    "np_array = np.array([[1, 2],[3, 4]])\n",
    "x = torch.from_numpy(np_array)\n",
    "print(x)"
   ]
  },
  {
   "cell_type": "markdown",
   "metadata": {},
   "source": [
    "**Torch Tensor와 NumPy array는 메모리 위치를 공유한다 (Torch Tensor가 CPU 위에 있는 경우)**\n",
    "\n",
    "따라서 둘중 하나의 값을 변경하면 다른것의 값도 변경된다"
   ]
  },
  {
   "cell_type": "code",
   "execution_count": 64,
   "metadata": {
    "tags": [
     "execute_cell"
    ]
   },
   "outputs": [
    {
     "name": "stdout",
     "output_type": "stream",
     "text": [
      "numpy: \n",
      "[[2 3]\n",
      " [4 5]]\n",
      "\n",
      "tensor: \n",
      "tensor([[2, 3],\n",
      "        [4, 5]])\n"
     ]
    }
   ],
   "source": [
    "np.add(np_array, 1, out=np_array)\n",
    "print(f\"numpy: \\n{np_array}\\n\")\n",
    "print(f\"tensor: \\n{x}\")\n"
   ]
  },
  {
   "cell_type": "markdown",
   "metadata": {},
   "source": [
    "tensor로 부터 numpy array 가져오기\n",
    "\n",
    "CPU위에 있는 모든 텐서는 Numpy로 변환거다 역변환하는것을 지원한다 (CharTensor 제외)"
   ]
  },
  {
   "cell_type": "code",
   "execution_count": 65,
   "metadata": {
    "tags": [
     "execute_cell"
    ]
   },
   "outputs": [
    {
     "name": "stdout",
     "output_type": "stream",
     "text": [
      "tensor([[1., 1., 1., 1., 1.],\n",
      "        [1., 1., 1., 1., 1.],\n",
      "        [1., 1., 1., 1., 1.]])\n"
     ]
    }
   ],
   "source": [
    "a = torch.ones(3, 5)\n",
    "print(a)"
   ]
  },
  {
   "cell_type": "code",
   "execution_count": 66,
   "metadata": {
    "tags": [
     "execute_cell"
    ]
   },
   "outputs": [
    {
     "name": "stdout",
     "output_type": "stream",
     "text": [
      "[[1. 1. 1. 1. 1.]\n",
      " [1. 1. 1. 1. 1.]\n",
      " [1. 1. 1. 1. 1.]]\n",
      "<class 'numpy.ndarray'>\n"
     ]
    }
   ],
   "source": [
    "b = a.numpy()\n",
    "print(b)\n",
    "print(type(b))"
   ]
  },
  {
   "cell_type": "code",
   "execution_count": 67,
   "metadata": {
    "tags": [
     "execute_cell"
    ]
   },
   "outputs": [
    {
     "name": "stdout",
     "output_type": "stream",
     "text": [
      "tensor([[2., 2., 2., 2., 2.],\n",
      "        [2., 2., 2., 2., 2.],\n",
      "        [2., 2., 2., 2., 2.]])\n",
      "[[2. 2. 2. 2. 2.]\n",
      " [2. 2. 2. 2. 2.]\n",
      " [2. 2. 2. 2. 2.]]\n"
     ]
    }
   ],
   "source": [
    "a.add_(1)\n",
    "print(a)\n",
    "print(b)"
   ]
  },
  {
   "cell_type": "markdown",
   "metadata": {},
   "source": [
    "### 텐서의 속성 (Attributes of tensor)\n",
    "\n",
    "- size : 데이터 shape\n",
    "- dtype : 개별 데이터의 자료형\n",
    "- device : 어느 device (CPU/GPU)위에 있는지"
   ]
  },
  {
   "cell_type": "code",
   "execution_count": 68,
   "metadata": {
    "tags": [
     "execute_cell"
    ]
   },
   "outputs": [
    {
     "name": "stdout",
     "output_type": "stream",
     "text": [
      "Size of tensor: torch.Size([3, 4])\n",
      "Datatype of tensor: torch.float32\n",
      "Tensor is stored on device: cpu\n"
     ]
    }
   ],
   "source": [
    "x = torch.rand(3,4)\n",
    "\n",
    "print(f\"Size of tensor: {x.size()}\")\n",
    "print(f\"Datatype of tensor: {x.dtype}\")\n",
    "print(f\"Tensor is stored on device: {x.device}\")"
   ]
  },
  {
   "cell_type": "markdown",
   "metadata": {},
   "source": [
    "## 텐서 연산 (Operations on tensors)"
   ]
  },
  {
   "cell_type": "markdown",
   "metadata": {},
   "source": [
    "### 연산의 위치 (Operation locations)"
   ]
  },
  {
   "cell_type": "markdown",
   "metadata": {},
   "source": [
    "텐서는 ``.to`` 메서드를 이용해 다른 디바이스로 옮길 수 있다"
   ]
  },
  {
   "cell_type": "code",
   "execution_count": 69,
   "metadata": {
    "tags": [
     "execute_cell"
    ]
   },
   "outputs": [
    {
     "name": "stdout",
     "output_type": "stream",
     "text": [
      "Shape of tensor: torch.Size([3, 4])\n",
      "Datatype of tensor: torch.float32\n",
      "Tensor is stored on device: cuda:0\n"
     ]
    }
   ],
   "source": [
    "x = torch.rand(3,4)\n",
    "if torch.cuda.is_available():\n",
    "    x_gpu = x.to(\"cuda\") # GPU로 tensor 이동\n",
    "    \n",
    "    print(f\"Shape of tensor: {x_gpu.shape}\")\n",
    "    print(f\"Datatype of tensor: {x_gpu.dtype}\")\n",
    "    print(f\"Tensor is stored on device: {x_gpu.device}\")"
   ]
  },
  {
   "cell_type": "markdown",
   "metadata": {},
   "source": [
    "GPU 위에 있는 텐서끼리는 연산을 할 수 있다"
   ]
  },
  {
   "cell_type": "code",
   "execution_count": 70,
   "metadata": {
    "tags": [
     "execute_cell"
    ]
   },
   "outputs": [
    {
     "name": "stdout",
     "output_type": "stream",
     "text": [
      "tensor([[1.6256, 1.4284, 1.3938, 1.2097],\n",
      "        [1.1728, 1.8915, 1.3292, 1.0184],\n",
      "        [1.7905, 1.4288, 1.4738, 1.1769]], device='cuda:0')\n",
      "tensor([[1.6260, 1.4287, 1.3936, 1.2100],\n",
      "        [1.1729, 1.8916, 1.3291, 1.0186],\n",
      "        [1.7900, 1.4287, 1.4736, 1.1768]], dtype=torch.float16)\n"
     ]
    }
   ],
   "source": [
    "if torch.cuda.is_available():\n",
    "    device = torch.device(\"cuda\")           # a CUDA device object\n",
    "    y_gpu = torch.ones_like(x, device=device)   # directly create a tensor on GPU\n",
    "    x_gpu = x.to(device)                        # or just use strings ``.to(\"cuda\")``\n",
    "    z = x_gpu + y_gpu \n",
    "    print(z)\n",
    "    print(z.to(\"cpu\", torch.float16))       # .to를 이용해 dtype도 같이 변환할 수 있다"
   ]
  },
  {
   "cell_type": "markdown",
   "metadata": {},
   "source": [
    "서로 다른 디바이스에 있는 텐서끼리는 연산할 수 없다"
   ]
  },
  {
   "cell_type": "code",
   "execution_count": 71,
   "metadata": {
    "tags": [
     "execute_cell"
    ]
   },
   "outputs": [
    {
     "ename": "RuntimeError",
     "evalue": "Expected all tensors to be on the same device, but found at least two devices, cuda:0 and cpu!",
     "output_type": "error",
     "traceback": [
      "\u001b[0;31m---------------------------------------------------------------------------\u001b[0m",
      "\u001b[0;31mRuntimeError\u001b[0m                              Traceback (most recent call last)",
      "Cell \u001b[0;32mIn[71], line 1\u001b[0m\n\u001b[0;32m----> 1\u001b[0m \u001b[43mx\u001b[49m\u001b[43m \u001b[49m\u001b[38;5;241;43m+\u001b[39;49m\u001b[43m \u001b[49m\u001b[43my_gpu\u001b[49m\n",
      "\u001b[0;31mRuntimeError\u001b[0m: Expected all tensors to be on the same device, but found at least two devices, cuda:0 and cpu!"
     ]
    }
   ],
   "source": [
    "x + y_gpu"
   ]
  },
  {
   "cell_type": "markdown",
   "metadata": {},
   "source": [
    "\n",
    "### 산술 연산 (Arithmatic Operations)\n",
    "PyTorch에는 다양한 연산들이 미리 정의 되어 있으며, 하나의 연산에도 여러 syntax가 존재한다"
   ]
  },
  {
   "cell_type": "markdown",
   "metadata": {},
   "source": [
    "덧셈: syntax 1"
   ]
  },
  {
   "cell_type": "code",
   "execution_count": 72,
   "metadata": {
    "tags": [
     "execute_cell"
    ]
   },
   "outputs": [
    {
     "name": "stdout",
     "output_type": "stream",
     "text": [
      "tensor([[1.8373, 1.4894, 1.0811],\n",
      "        [1.8701, 1.7990, 1.3642],\n",
      "        [1.1912, 1.7996, 1.5442],\n",
      "        [1.1328, 1.2362, 1.6347],\n",
      "        [1.4047, 1.9836, 1.9004]])\n"
     ]
    }
   ],
   "source": [
    "x = torch.ones(5, 3)\n",
    "y = torch.rand(5, 3)\n",
    "print(x + y)"
   ]
  },
  {
   "cell_type": "markdown",
   "metadata": {},
   "source": [
    "덧셈: syntax 2"
   ]
  },
  {
   "cell_type": "code",
   "execution_count": 73,
   "metadata": {
    "tags": [
     "execute_cell"
    ]
   },
   "outputs": [
    {
     "name": "stdout",
     "output_type": "stream",
     "text": [
      "tensor([[1.8373, 1.4894, 1.0811],\n",
      "        [1.8701, 1.7990, 1.3642],\n",
      "        [1.1912, 1.7996, 1.5442],\n",
      "        [1.1328, 1.2362, 1.6347],\n",
      "        [1.4047, 1.9836, 1.9004]])\n"
     ]
    }
   ],
   "source": [
    "print(torch.add(x, y))"
   ]
  },
  {
   "cell_type": "markdown",
   "metadata": {},
   "source": [
    "결과를 저장할 텐서를 argument로 전달하기"
   ]
  },
  {
   "cell_type": "code",
   "execution_count": 74,
   "metadata": {
    "tags": [
     "execute_cell"
    ]
   },
   "outputs": [
    {
     "name": "stdout",
     "output_type": "stream",
     "text": [
      "tensor([[1.8373, 1.4894, 1.0811],\n",
      "        [1.8701, 1.7990, 1.3642],\n",
      "        [1.1912, 1.7996, 1.5442],\n",
      "        [1.1328, 1.2362, 1.6347],\n",
      "        [1.4047, 1.9836, 1.9004]])\n"
     ]
    }
   ],
   "source": [
    "result = torch.empty(5, 3)\n",
    "torch.add(x, y, out=result)\n",
    "print(result)"
   ]
  },
  {
   "cell_type": "markdown",
   "metadata": {},
   "source": [
    "in-place 연산"
   ]
  },
  {
   "cell_type": "code",
   "execution_count": 75,
   "metadata": {
    "tags": [
     "execute_cell"
    ]
   },
   "outputs": [
    {
     "name": "stdout",
     "output_type": "stream",
     "text": [
      "tensor([[1.8373, 1.4894, 1.0811],\n",
      "        [1.8701, 1.7990, 1.3642],\n",
      "        [1.1912, 1.7996, 1.5442],\n",
      "        [1.1328, 1.2362, 1.6347],\n",
      "        [1.4047, 1.9836, 1.9004]])\n"
     ]
    }
   ],
   "source": [
    "# adds x to y\n",
    "y.add_(x) # 계산을 한 결과가 바로 y에 저장\n",
    "print(y)"
   ]
  },
  {
   "cell_type": "markdown",
   "metadata": {},
   "source": [
    "<div class=\"alert alert-info\"><h4>Note</h4><p>모든 in-place연산의 함수 이름은 ``_``로 끝난다.\n",
    "    예: ``x.copy_(y)``, ``x.t_()`` 등의 연산은 ``x``의 값을 변경할 것이다.</p></div>"
   ]
  },
  {
   "cell_type": "markdown",
   "metadata": {},
   "source": [
    "스칼라 곱"
   ]
  },
  {
   "cell_type": "code",
   "execution_count": 76,
   "metadata": {
    "tags": [
     "execute_cell"
    ]
   },
   "outputs": [
    {
     "name": "stdout",
     "output_type": "stream",
     "text": [
      "tensor([10., 20., 30.])\n"
     ]
    }
   ],
   "source": [
    "x_t = torch.tensor([1, 2, 3], dtype=torch.float32)\n",
    "c = 10\n",
    "\n",
    "x_t = x_t * c #broadcasting\n",
    "print(x_t)"
   ]
  },
  {
   "cell_type": "markdown",
   "metadata": {},
   "source": [
    "행렬 곱"
   ]
  },
  {
   "cell_type": "code",
   "execution_count": 77,
   "metadata": {
    "tags": [
     "execute_cell"
    ]
   },
   "outputs": [
    {
     "name": "stdout",
     "output_type": "stream",
     "text": [
      "tensor([[ 9., 12., 15.],\n",
      "        [19., 26., 33.]])\n",
      "tensor([[ 9., 12., 15.],\n",
      "        [19., 26., 33.]])\n",
      "tensor([[ 9., 12., 15.],\n",
      "        [19., 26., 33.]])\n",
      "tensor([[ 9., 12., 15.],\n",
      "        [19., 26., 33.]])\n"
     ]
    }
   ],
   "source": [
    "x1 = torch.tensor([[1,2], [3,4]], dtype = torch.float32)\n",
    "x2 = torch.tensor([[1,2,3],[4,5,6]], dtype = torch.float32)\n",
    "\n",
    "y1 = torch.matmul(x1, x2) #\n",
    "y2 = x1.matmul(x2)\n",
    "y3 = x1 @ x2\n",
    "\n",
    "y4 = torch.rand_like(y1)\n",
    "torch.matmul(x1, x2, out=y4)\n",
    "\n",
    "print(y1)\n",
    "print(y2)\n",
    "print(y3)\n",
    "print(y4)\n"
   ]
  },
  {
   "cell_type": "markdown",
   "metadata": {},
   "source": [
    "element-wise 곱"
   ]
  },
  {
   "cell_type": "code",
   "execution_count": 78,
   "metadata": {
    "tags": [
     "execute_cell"
    ]
   },
   "outputs": [
    {
     "name": "stdout",
     "output_type": "stream",
     "text": [
      "tensor([[ 1.,  4.],\n",
      "        [ 9., 16.]])\n",
      "tensor([[ 1.,  4.],\n",
      "        [ 9., 16.]])\n",
      "tensor([[ 1.,  4.],\n",
      "        [ 9., 16.]])\n"
     ]
    }
   ],
   "source": [
    "x = torch.tensor([[1,2], [3,4]], dtype = torch.float32)\n",
    "\n",
    "# This computes the `element-wise product`. z1, z2, z3 will have the same value\n",
    "z1 = x * x\n",
    "z2 = x.mul(x)\n",
    "\n",
    "z3 = torch.rand_like(x)\n",
    "torch.mul(x, x, out=z3)\n",
    "\n",
    "print(z1)\n",
    "print(z2)\n",
    "print(z3)"
   ]
  },
  {
   "cell_type": "markdown",
   "metadata": {},
   "source": [
    "집계 함수 (aggregation functions)\n",
    "다양한 집계 함수들이 이미 정의 되어 있으며 필요할 경우 documentation을 찾아보고 이용한다\n",
    "\n",
    "집계 후의 텐서 값을 가져오기 위해서는 ``.item()``함수를 이용한다"
   ]
  },
  {
   "cell_type": "code",
   "execution_count": 79,
   "metadata": {
    "tags": [
     "execute_cell"
    ]
   },
   "outputs": [
    {
     "name": "stdout",
     "output_type": "stream",
     "text": [
      "tensor([ 3.,  7., 11.])\n",
      "3.0\n"
     ]
    }
   ],
   "source": [
    "x = torch.tensor([[1,2], [3,4], [5,6]], dtype = torch.float32)\n",
    "agg = x.sum(axis = 1) # 행을 기준으로 덧셈\n",
    "print(agg)\n",
    "\n",
    "agg_item = agg[0].item()\n",
    "print(agg_item)"
   ]
  },
  {
   "cell_type": "code",
   "execution_count": 80,
   "metadata": {
    "tags": [
     "execute_cell"
    ]
   },
   "outputs": [
    {
     "name": "stdout",
     "output_type": "stream",
     "text": [
      "tensor([[ 0.1186, -1.0091],\n",
      "        [-0.8576,  1.4905],\n",
      "        [-0.2997, -0.2925]])\n",
      "1.4905158281326294\n"
     ]
    }
   ],
   "source": [
    "x = torch.randn(3, 2)\n",
    "print(x)\n",
    "print(x[1,1].item())"
   ]
  },
  {
   "cell_type": "markdown",
   "metadata": {},
   "source": [
    "### 인덱싱과 슬라이싱 (indexing and slicing)\n",
    "Numpy에서 이용하였던 방법을 그대로 모두 이용할 수 있다"
   ]
  },
  {
   "cell_type": "code",
   "execution_count": 81,
   "metadata": {
    "tags": [
     "execute_cell"
    ]
   },
   "outputs": [
    {
     "name": "stdout",
     "output_type": "stream",
     "text": [
      "tensor([[ 1,  2,  3],\n",
      "        [ 4,  5,  6],\n",
      "        [ 7,  8,  9],\n",
      "        [10, 11, 12]])\n",
      "Shape of tensor: torch.Size([4, 3])\n",
      "First row: tensor([1, 2, 3])\n",
      "First column: tensor([ 1,  4,  7, 10])\n",
      "Last column: tensor([ 3,  6,  9, 12])\n"
     ]
    }
   ],
   "source": [
    "x = torch.tensor([[1,2,3],[4,5,6],[7,8,9],[10,11,12]])\n",
    "print(f\"{x}\")\n",
    "print(f\"Shape of tensor: {x.shape}\")\n",
    "print(f\"First row: {x[0]}\")\n",
    "print(f\"First column: {x[:, 0]}\")\n",
    "print(f\"Last column: {x[..., -1]}\")\n"
   ]
  },
  {
   "cell_type": "code",
   "execution_count": 82,
   "metadata": {
    "tags": [
     "execute_cell"
    ]
   },
   "outputs": [
    {
     "name": "stdout",
     "output_type": "stream",
     "text": [
      "tensor([[ 1,  0,  3],\n",
      "        [ 4,  0,  6],\n",
      "        [ 7,  0,  9],\n",
      "        [10,  0, 12]])\n"
     ]
    }
   ],
   "source": [
    "x = torch.tensor([[1,2,3],[4,5,6],[7,8,9],[10,11,12]]) #shape : (4, 3)\n",
    "x[:,1] = 0      # scalar broadcasted to tensor of size (4, 1)\n",
    "print(x)"
   ]
  },
  {
   "cell_type": "code",
   "execution_count": 83,
   "metadata": {
    "tags": [
     "execute_cell"
    ]
   },
   "outputs": [
    {
     "name": "stdout",
     "output_type": "stream",
     "text": [
      "tensor([[[ 1.0000,  1.0000,  1.0000,  1.0000],\n",
      "         [-1.1576, -1.3313, -0.3287,  0.1198],\n",
      "         [-0.2584, -0.1821,  0.9435,  1.5865]],\n",
      "\n",
      "        [[ 1.0000,  1.0000,  1.0000,  1.0000],\n",
      "         [ 1.0000,  1.0000,  1.0000,  1.0000],\n",
      "         [ 1.0000,  1.0000,  1.0000,  1.0000]]])\n"
     ]
    }
   ],
   "source": [
    "x = torch.ones(2,3,4)\n",
    "sub_tensor = torch.randn(2,4)\n",
    "x[0,1:3 ,:] = sub_tensor\n",
    "print(x)"
   ]
  },
  {
   "cell_type": "code",
   "execution_count": 84,
   "metadata": {
    "tags": [
     "execute_cell"
    ]
   },
   "outputs": [
    {
     "name": "stdout",
     "output_type": "stream",
     "text": [
      "tensor([[[ 1.0000,  1.0000,  1.0000,  1.0000],\n",
      "         [ 0.1675, -0.1153, -1.7213,  0.1370],\n",
      "         [ 0.1675, -0.1153, -1.7213,  0.1370]],\n",
      "\n",
      "        [[ 1.0000,  1.0000,  1.0000,  1.0000],\n",
      "         [ 1.0000,  1.0000,  1.0000,  1.0000],\n",
      "         [ 1.0000,  1.0000,  1.0000,  1.0000]]])\n"
     ]
    }
   ],
   "source": [
    "x = torch.ones(2,3,4)\n",
    "sub_tensor = torch.randn(1,4)\n",
    "x[0, 1:3 ,:] = sub_tensor # tensor with (1,4) shape broadcasted to (2, 4)\n",
    "print(x)"
   ]
  },
  {
   "cell_type": "markdown",
   "metadata": {},
   "source": [
    "### joining"
   ]
  },
  {
   "cell_type": "code",
   "execution_count": 85,
   "metadata": {
    "tags": [
     "execute_cell"
    ]
   },
   "outputs": [
    {
     "name": "stdout",
     "output_type": "stream",
     "text": [
      "tensor([[ 1,  2,  3,  1,  2,  3,  1,  2,  3],\n",
      "        [ 4,  5,  6,  4,  5,  6,  4,  5,  6],\n",
      "        [ 7,  8,  9,  7,  8,  9,  7,  8,  9],\n",
      "        [10, 11, 12, 10, 11, 12, 10, 11, 12]])\n"
     ]
    }
   ],
   "source": [
    "tensor = torch.tensor([[1,2,3],[4,5,6],[7,8,9],[10,11,12]])\n",
    "t1 = torch.cat([tensor, tensor, tensor], dim=1)\n",
    "print(t1)"
   ]
  },
  {
   "cell_type": "markdown",
   "metadata": {},
   "source": [
    "### Resizing"
   ]
  },
  {
   "cell_type": "code",
   "execution_count": 86,
   "metadata": {
    "tags": [
     "execute_cell"
    ]
   },
   "outputs": [
    {
     "name": "stdout",
     "output_type": "stream",
     "text": [
      "torch.Size([4, 4]) torch.Size([16]) torch.Size([2, 8])\n"
     ]
    }
   ],
   "source": [
    "x = torch.randn(4, 4)\n",
    "y = x.view(16)\n",
    "z = x.view(-1, 8)  # the size -1 is inferred from other dimensions\n",
    "print(x.size(), y.size(), z.size())"
   ]
  },
  {
   "cell_type": "markdown",
   "metadata": {},
   "source": [
    "### Reshaping"
   ]
  },
  {
   "cell_type": "code",
   "execution_count": 87,
   "metadata": {
    "tags": [
     "execute_cell"
    ]
   },
   "outputs": [
    {
     "name": "stdout",
     "output_type": "stream",
     "text": [
      "tensor([ 1,  2,  3,  4,  5,  6,  7,  8,  9, 10, 11, 12, 13, 14, 15])\n",
      "torch.Size([5, 3])\n",
      "tensor([[ 1,  2,  3],\n",
      "        [ 4,  5,  6],\n",
      "        [ 7,  8,  9],\n",
      "        [10, 11, 12],\n",
      "        [13, 14, 15]])\n"
     ]
    }
   ],
   "source": [
    "x = torch.arange(1, 16)\n",
    "print(x)\n",
    "y = x.view(5, 3) # Reshape\n",
    "print(y.shape)\n",
    "print(y)"
   ]
  },
  {
   "cell_type": "markdown",
   "metadata": {},
   "source": [
    "<mark>실습</mark>\n",
    "\n",
    "아래 값을 가지는 `torch.tensor` 를 생성하라\n",
    "\n",
    "$\\begin{bmatrix} 1 & 2.2 & 9.6 \\\\ 4 & -7.2 & 6.3 \\end{bmatrix}$\n",
    "\n",
    "`.mean()` 함수를 이용해 각 행과 열의 평균을 계산하라.\n",
    "\n",
    "각 결과의 shape을 출력하라\n"
   ]
  },
  {
   "cell_type": "code",
   "execution_count": 88,
   "metadata": {
    "tags": [
     "execute_cell"
    ]
   },
   "outputs": [
    {
     "name": "stdout",
     "output_type": "stream",
     "text": [
      "torch.Size([3])\n",
      "torch.Size([2])\n"
     ]
    }
   ],
   "source": [
    "##### YOUR CODE START #####\n",
    "np_array = np.array([[1, 2.2, 9.6],[4, -7.2, 6.3]])\n",
    "x = torch.from_numpy(np_array)\n",
    "\n",
    "for i in [0,1]:\n",
    "    print(x.mean(axis=i).size())\n",
    "##### YOUR CODE END #####"
   ]
  },
  {
   "cell_type": "markdown",
   "metadata": {},
   "source": [
    "Autograd: Automatic Differentiation\n",
    "===================================\n",
    "\n",
    "PyTorch의 가장 중요한 패키기중 하나는 ``autograd`` 패키지 이다.\n",
    "\n",
    "``autograd`` 패키지는 Tensor의 모든 연산에 대응하는 미분을 자동으로 계산한다.\n",
    "연산 방법은 런타임에 자동으로 정의되며, 모든 backprop은 당신의 코드가 실행되면서 결정된다. 즉 매 스텝마다 미분 계산이 달라질 수 있다.\n",
    "\n",
    "``torch.Tensor`` 의 속성 중 ``.requires_grad`` 를 ``True``로 설정하게 되면 ``autograd``패키지는 이 텐서에 수행되는 모든 연산을 추적한다.\n",
    "연산이 끝난뒤에는 ``.backward()`` 함수를 호출하여 gradient를 모두 자동으로 계산할 수 있다.\n",
    "이 텐서에 해당하는 gradient는 ``.grad`` 속성에 저장되며 점차 쌓이게 된다.\n"
   ]
  },
  {
   "cell_type": "markdown",
   "metadata": {},
   "source": [
    "``requires_grad=True``인 tensor를 하나 생성하여 이 변수의 연산을 tracking해보자"
   ]
  },
  {
   "cell_type": "code",
   "execution_count": 89,
   "metadata": {
    "tags": [
     "execute_cell"
    ]
   },
   "outputs": [
    {
     "name": "stdout",
     "output_type": "stream",
     "text": [
      "tensor([[1., 1.],\n",
      "        [1., 1.]], requires_grad=True)\n"
     ]
    }
   ],
   "source": [
    "x = torch.ones(2, 2, requires_grad=True)\n",
    "print(x)"
   ]
  },
  {
   "cell_type": "markdown",
   "metadata": {},
   "source": [
    "tensor 연산을 수행"
   ]
  },
  {
   "cell_type": "code",
   "execution_count": 90,
   "metadata": {
    "tags": [
     "execute_cell"
    ]
   },
   "outputs": [
    {
     "name": "stdout",
     "output_type": "stream",
     "text": [
      "tensor([[3., 3.],\n",
      "        [3., 3.]], grad_fn=<AddBackward0>)\n"
     ]
    }
   ],
   "source": [
    "y = x + 2\n",
    "print(y)"
   ]
  },
  {
   "cell_type": "markdown",
   "metadata": {},
   "source": [
    "``y``는 ``x``를 이용한 연산의 결과로 생겼으므로 ``grad_fn`` 속성을 갖고 있다"
   ]
  },
  {
   "cell_type": "code",
   "execution_count": 91,
   "metadata": {
    "tags": [
     "execute_cell"
    ]
   },
   "outputs": [
    {
     "name": "stdout",
     "output_type": "stream",
     "text": [
      "<AddBackward0 object at 0x7fca12dd6080>\n"
     ]
    }
   ],
   "source": [
    "print(y.grad_fn)"
   ]
  },
  {
   "cell_type": "markdown",
   "metadata": {},
   "source": [
    "``y``에 다른 연산을 더 적용해보자"
   ]
  },
  {
   "cell_type": "code",
   "execution_count": 92,
   "metadata": {
    "tags": [
     "execute_cell"
    ]
   },
   "outputs": [
    {
     "name": "stdout",
     "output_type": "stream",
     "text": [
      "tensor([[27., 27.],\n",
      "        [27., 27.]], grad_fn=<MulBackward0>)\n",
      "tensor(27., grad_fn=<MeanBackward0>)\n"
     ]
    }
   ],
   "source": [
    "z = y * y * 3\n",
    "out = z.mean()\n",
    "\n",
    "print(z)\n",
    "print(out)"
   ]
  },
  {
   "cell_type": "markdown",
   "metadata": {},
   "source": [
    "backprop을 위해서는 target 값에 ``backward()``함수를 호출한다.\n",
    "\n",
    "즉 아래는 \n",
    "$\\frac{d(out)}{dx}$\n",
    "미분값을 출력한다"
   ]
  },
  {
   "cell_type": "code",
   "execution_count": 93,
   "metadata": {
    "tags": [
     "execute_cell"
    ]
   },
   "outputs": [],
   "source": [
    "out.backward()"
   ]
  },
  {
   "cell_type": "code",
   "execution_count": 94,
   "metadata": {
    "tags": [
     "execute_cell"
    ]
   },
   "outputs": [
    {
     "name": "stdout",
     "output_type": "stream",
     "text": [
      "tensor([[4.5000, 4.5000],\n",
      "        [4.5000, 4.5000]])\n"
     ]
    }
   ],
   "source": [
    "print(x.grad)"
   ]
  },
  {
   "cell_type": "markdown",
   "metadata": {},
   "source": [
    "맞는지 확인해보자\n",
    "\n",
    "$out = \\frac{1}{4}\\sum_i 3(x_i+2)^2$\n",
    "\n",
    "$\\frac{\\partial o}{\\partial x_i} = \\frac{3}{2}(x_i+2)$\n",
    "\n",
    "hence, \n",
    "$\\frac{\\partial o}{\\partial x_i}\\bigr\\rvert_{x_i=1} = \\frac{9}{2} = 4.5$.\n",
    "\n"
   ]
  },
  {
   "cell_type": "markdown",
   "metadata": {},
   "source": [
    "\n",
    "Forward pass에서 autograd는 아래 두가지 일을 수행한다:\n",
    "* 결과 텐서를 계산하기 위해 연산을 수행한다.\n",
    "* 자동미분을 위해 연산에 대응하는 gradient function를 DAG (directed acyclic graph)형태로 저장한다.\n",
    "\n",
    "backward pass는 ``backward()`` 함수가 DAG root에서 호출될 경우 진행된다:\n",
    "* 각 ``.grad_fn`` 에 대한 미분을 계산한다\n",
    "* 그 결과값을 대응하는 텐서의 ``.grad`` 속성에 쌓는다 (즉 계산된 gradient는 ``.grad``속성에 저장된다)\n",
    "* 연쇄법칙(chain rule)을 통해 leaf tensor까지 전달한다."
   ]
  },
  {
   "cell_type": "markdown",
   "metadata": {},
   "source": [
    "``.requires_grad=True``인 텐서에 대해서 autograd 추적을 원하지 않을 경우 \n",
    "\n",
    "``with torch.no_grad():`` 문에 코드를 둘러싼다"
   ]
  },
  {
   "cell_type": "code",
   "execution_count": 95,
   "metadata": {
    "tags": [
     "execute_cell"
    ]
   },
   "outputs": [
    {
     "name": "stdout",
     "output_type": "stream",
     "text": [
      "True\n",
      "True\n",
      "False\n"
     ]
    }
   ],
   "source": [
    "print(x.requires_grad)\n",
    "z = x ** 2\n",
    "print(z.requires_grad)\n",
    "\n",
    "with torch.no_grad():\n",
    "\tz = x ** 2\n",
    "print(z.requires_grad)"
   ]
  },
  {
   "cell_type": "markdown",
   "metadata": {},
   "source": [
    "또는 ``.detach()``를 사용하여 값은 동일하지만 requires_grad=False인 새로운 텐서를 얻는다\n",
    "\n",
    "이렇게 gradient tracking을 끄고 싶은 경우는 경우는 아래와 같은 경우가 있다.\n",
    "1. Neural Network의 특정 파라미터들을 frozen 시키고 싶을 경우. 예: finetuning a pretrained network\n",
    "\n",
    "2. forward pass만 필요하기 떄문에 계산을 빨리하고 싶은 경우 (예: 모델 평가)"
   ]
  },
  {
   "cell_type": "code",
   "execution_count": 96,
   "metadata": {
    "tags": [
     "execute_cell"
    ]
   },
   "outputs": [
    {
     "name": "stdout",
     "output_type": "stream",
     "text": [
      "True\n",
      "False\n",
      "Is all the value is identical?  True\n"
     ]
    }
   ],
   "source": [
    "print(x.requires_grad)\n",
    "y = x.detach()\n",
    "print(y.requires_grad)\n",
    "\n",
    "print(\"Is all the value is identical? \", x.eq(y).all().item())"
   ]
  },
  {
   "cell_type": "markdown",
   "metadata": {},
   "source": [
    "``.requires_grad_``를 사용해 텐서의 ``requires_grad``속성을 in-place로 변경ㄴ할 수도 있다\n"
   ]
  },
  {
   "cell_type": "code",
   "execution_count": 97,
   "metadata": {
    "tags": [
     "execute_cell"
    ]
   },
   "outputs": [
    {
     "name": "stdout",
     "output_type": "stream",
     "text": [
      "False\n",
      "True\n",
      "<SumBackward0 object at 0x7fca12dd6230>\n"
     ]
    }
   ],
   "source": [
    "a = torch.randn(2, 2)\n",
    "a = ((a * 3) / (a - 1))\n",
    "print(a.requires_grad)\n",
    "\n",
    "a.requires_grad_(True)\n",
    "print(a.requires_grad)\n",
    "\n",
    "b = (a * a).sum()\n",
    "print(b.grad_fn)"
   ]
  },
  {
   "cell_type": "markdown",
   "metadata": {},
   "source": [
    "이제 아래와 같은 함수를 생각해보자 $$f = x^2 + y^2 + z^2$$"
   ]
  },
  {
   "cell_type": "code",
   "execution_count": 98,
   "metadata": {
    "tags": [
     "execute_cell"
    ]
   },
   "outputs": [
    {
     "name": "stdout",
     "output_type": "stream",
     "text": [
      "grads:  tensor(4.) tensor(6.) tensor(3.)\n"
     ]
    }
   ],
   "source": [
    "x = torch.tensor(2.0, requires_grad=True)\n",
    "y = torch.tensor(3.0, requires_grad=True)\n",
    "z = torch.tensor(1.5, requires_grad=True)\n",
    "f = x**2+y**2+z**2\n",
    "f.backward()\n",
    "print(f\"grads: \", x.grad, y.grad, z.grad)"
   ]
  },
  {
   "cell_type": "markdown",
   "metadata": {},
   "source": [
    "두번째 ``backward()``호출은 에러를 일으킨다. 즉 하나의 computational graph에 한번의 backward만 가능하다."
   ]
  },
  {
   "cell_type": "code",
   "execution_count": 99,
   "metadata": {
    "tags": [
     "execute_cell"
    ]
   },
   "outputs": [
    {
     "ename": "RuntimeError",
     "evalue": "Trying to backward through the graph a second time (or directly access saved tensors after they have already been freed). Saved intermediate values of the graph are freed when you call .backward() or autograd.grad(). Specify retain_graph=True if you need to backward through the graph a second time or if you need to access saved tensors after calling backward.",
     "output_type": "error",
     "traceback": [
      "\u001b[0;31m---------------------------------------------------------------------------\u001b[0m",
      "\u001b[0;31mRuntimeError\u001b[0m                              Traceback (most recent call last)",
      "Cell \u001b[0;32mIn[99], line 1\u001b[0m\n\u001b[0;32m----> 1\u001b[0m \u001b[43mf\u001b[49m\u001b[38;5;241;43m.\u001b[39;49m\u001b[43mbackward\u001b[49m\u001b[43m(\u001b[49m\u001b[43m)\u001b[49m \n",
      "File \u001b[0;32m/opt/conda/lib/python3.11/site-packages/torch/_tensor.py:525\u001b[0m, in \u001b[0;36mTensor.backward\u001b[0;34m(self, gradient, retain_graph, create_graph, inputs)\u001b[0m\n\u001b[1;32m    515\u001b[0m \u001b[38;5;28;01mif\u001b[39;00m has_torch_function_unary(\u001b[38;5;28mself\u001b[39m):\n\u001b[1;32m    516\u001b[0m     \u001b[38;5;28;01mreturn\u001b[39;00m handle_torch_function(\n\u001b[1;32m    517\u001b[0m         Tensor\u001b[38;5;241m.\u001b[39mbackward,\n\u001b[1;32m    518\u001b[0m         (\u001b[38;5;28mself\u001b[39m,),\n\u001b[0;32m   (...)\u001b[0m\n\u001b[1;32m    523\u001b[0m         inputs\u001b[38;5;241m=\u001b[39minputs,\n\u001b[1;32m    524\u001b[0m     )\n\u001b[0;32m--> 525\u001b[0m \u001b[43mtorch\u001b[49m\u001b[38;5;241;43m.\u001b[39;49m\u001b[43mautograd\u001b[49m\u001b[38;5;241;43m.\u001b[39;49m\u001b[43mbackward\u001b[49m\u001b[43m(\u001b[49m\n\u001b[1;32m    526\u001b[0m \u001b[43m    \u001b[49m\u001b[38;5;28;43mself\u001b[39;49m\u001b[43m,\u001b[49m\u001b[43m \u001b[49m\u001b[43mgradient\u001b[49m\u001b[43m,\u001b[49m\u001b[43m \u001b[49m\u001b[43mretain_graph\u001b[49m\u001b[43m,\u001b[49m\u001b[43m \u001b[49m\u001b[43mcreate_graph\u001b[49m\u001b[43m,\u001b[49m\u001b[43m \u001b[49m\u001b[43minputs\u001b[49m\u001b[38;5;241;43m=\u001b[39;49m\u001b[43minputs\u001b[49m\n\u001b[1;32m    527\u001b[0m \u001b[43m\u001b[49m\u001b[43m)\u001b[49m\n",
      "File \u001b[0;32m/opt/conda/lib/python3.11/site-packages/torch/autograd/__init__.py:267\u001b[0m, in \u001b[0;36mbackward\u001b[0;34m(tensors, grad_tensors, retain_graph, create_graph, grad_variables, inputs)\u001b[0m\n\u001b[1;32m    262\u001b[0m     retain_graph \u001b[38;5;241m=\u001b[39m create_graph\n\u001b[1;32m    264\u001b[0m \u001b[38;5;66;03m# The reason we repeat the same comment below is that\u001b[39;00m\n\u001b[1;32m    265\u001b[0m \u001b[38;5;66;03m# some Python versions print out the first line of a multi-line function\u001b[39;00m\n\u001b[1;32m    266\u001b[0m \u001b[38;5;66;03m# calls in the traceback and some print out the last line\u001b[39;00m\n\u001b[0;32m--> 267\u001b[0m \u001b[43m_engine_run_backward\u001b[49m\u001b[43m(\u001b[49m\n\u001b[1;32m    268\u001b[0m \u001b[43m    \u001b[49m\u001b[43mtensors\u001b[49m\u001b[43m,\u001b[49m\n\u001b[1;32m    269\u001b[0m \u001b[43m    \u001b[49m\u001b[43mgrad_tensors_\u001b[49m\u001b[43m,\u001b[49m\n\u001b[1;32m    270\u001b[0m \u001b[43m    \u001b[49m\u001b[43mretain_graph\u001b[49m\u001b[43m,\u001b[49m\n\u001b[1;32m    271\u001b[0m \u001b[43m    \u001b[49m\u001b[43mcreate_graph\u001b[49m\u001b[43m,\u001b[49m\n\u001b[1;32m    272\u001b[0m \u001b[43m    \u001b[49m\u001b[43minputs\u001b[49m\u001b[43m,\u001b[49m\n\u001b[1;32m    273\u001b[0m \u001b[43m    \u001b[49m\u001b[43mallow_unreachable\u001b[49m\u001b[38;5;241;43m=\u001b[39;49m\u001b[38;5;28;43;01mTrue\u001b[39;49;00m\u001b[43m,\u001b[49m\n\u001b[1;32m    274\u001b[0m \u001b[43m    \u001b[49m\u001b[43maccumulate_grad\u001b[49m\u001b[38;5;241;43m=\u001b[39;49m\u001b[38;5;28;43;01mTrue\u001b[39;49;00m\u001b[43m,\u001b[49m\n\u001b[1;32m    275\u001b[0m \u001b[43m\u001b[49m\u001b[43m)\u001b[49m\n",
      "File \u001b[0;32m/opt/conda/lib/python3.11/site-packages/torch/autograd/graph.py:744\u001b[0m, in \u001b[0;36m_engine_run_backward\u001b[0;34m(t_outputs, *args, **kwargs)\u001b[0m\n\u001b[1;32m    742\u001b[0m     unregister_hooks \u001b[38;5;241m=\u001b[39m _register_logging_hooks_on_whole_graph(t_outputs)\n\u001b[1;32m    743\u001b[0m \u001b[38;5;28;01mtry\u001b[39;00m:\n\u001b[0;32m--> 744\u001b[0m     \u001b[38;5;28;01mreturn\u001b[39;00m \u001b[43mVariable\u001b[49m\u001b[38;5;241;43m.\u001b[39;49m\u001b[43m_execution_engine\u001b[49m\u001b[38;5;241;43m.\u001b[39;49m\u001b[43mrun_backward\u001b[49m\u001b[43m(\u001b[49m\u001b[43m  \u001b[49m\u001b[38;5;66;43;03m# Calls into the C++ engine to run the backward pass\u001b[39;49;00m\n\u001b[1;32m    745\u001b[0m \u001b[43m        \u001b[49m\u001b[43mt_outputs\u001b[49m\u001b[43m,\u001b[49m\u001b[43m \u001b[49m\u001b[38;5;241;43m*\u001b[39;49m\u001b[43margs\u001b[49m\u001b[43m,\u001b[49m\u001b[43m \u001b[49m\u001b[38;5;241;43m*\u001b[39;49m\u001b[38;5;241;43m*\u001b[39;49m\u001b[43mkwargs\u001b[49m\n\u001b[1;32m    746\u001b[0m \u001b[43m    \u001b[49m\u001b[43m)\u001b[49m  \u001b[38;5;66;03m# Calls into the C++ engine to run the backward pass\u001b[39;00m\n\u001b[1;32m    747\u001b[0m \u001b[38;5;28;01mfinally\u001b[39;00m:\n\u001b[1;32m    748\u001b[0m     \u001b[38;5;28;01mif\u001b[39;00m attach_logging_hooks:\n",
      "\u001b[0;31mRuntimeError\u001b[0m: Trying to backward through the graph a second time (or directly access saved tensors after they have already been freed). Saved intermediate values of the graph are freed when you call .backward() or autograd.grad(). Specify retain_graph=True if you need to backward through the graph a second time or if you need to access saved tensors after calling backward."
     ]
    }
   ],
   "source": [
    "f.backward() "
   ]
  },
  {
   "cell_type": "markdown",
   "metadata": {},
   "source": [
    "만약 ``retain_graph``= True로 두면 gradient를 accumulation할수 있다."
   ]
  },
  {
   "cell_type": "code",
   "execution_count": 100,
   "metadata": {
    "tags": [
     "execute_cell"
    ]
   },
   "outputs": [
    {
     "name": "stdout",
     "output_type": "stream",
     "text": [
      "grads on First call:  tensor(4.) tensor(6.) tensor(3.)\n",
      "grads on Second call:  tensor(8.) tensor(12.) tensor(6.)\n"
     ]
    }
   ],
   "source": [
    "x = torch.tensor(2.0, requires_grad=True)\n",
    "y = torch.tensor(3.0, requires_grad=True)\n",
    "z = torch.tensor(1.5, requires_grad=True)\n",
    "f = x**2+y**2+z**2\n",
    "\n",
    "f.backward(retain_graph=True)\n",
    "print(f\"grads on First call: \", x.grad, y.grad, z.grad)\n",
    "f.backward(retain_graph=True)\n",
    "print(f\"grads on Second call: \", x.grad, y.grad, z.grad) # PyTorch accumulates the gradients"
   ]
  },
  {
   "cell_type": "markdown",
   "metadata": {},
   "source": [
    "Training a Neural Network\n",
    "===============\n",
    "\n",
    "Neural networks 는 레이어/모듈로 구성되어 있으며 ``torch.nn``에 필요한 모든 building block이 정의되어 있다.\n",
    "\n",
    "모든 PyTorch 모듈은 ``nn.Module``을 상속(subclass)하며 당신이 구현하는 neural network도 그 자체로 모듈이며 다른 모듈(혹은 레어어)를 포함할 수 있다\n",
    "\n",
    "이렇게 모듈이 중첩된 구조(nested structure)로 당신의 Neural network를 구성함으로써 매우 복잡한 아키텍쳐도 쉽게 관리할 수 있다.\n",
    "\n",
    "``nn`` 패키지는 ``autograd``를 이용하여 모델 파라미터를 미분한다.\n",
    "\n",
    "신경망 학습과정은 보통 다음의 과정을 통해 이루어진다:\n",
    "- 신경망과 learnable parameter (weight)들을 정의한다 \n",
    "- 데이터를 순회하며 신경망의 forward propagation을 수행한다.\n",
    "- loss를 계산한다.\n",
    "- backward를 수행한다.\n",
    "- gradient descent에 따라 weight를 업데이트 한다:\n",
    "\n",
    "  ``weight = weight - learning_rate * gradient``"
   ]
  },
  {
   "cell_type": "markdown",
   "metadata": {},
   "source": [
    "### 간단한 neural network를 정의해보자."
   ]
  },
  {
   "cell_type": "code",
   "execution_count": 103,
   "metadata": {},
   "outputs": [],
   "source": [
    "import torch\n",
    "import torch.nn as nn\n",
    "import torch.nn.functional as F\n",
    "\n",
    "class LinearNet(nn.Module):\n",
    "\n",
    "    def __init__(self): # Layer 정의\n",
    "        super().__init__()\n",
    "        self.linear = nn.Linear(100, 10) ## an linear operation: y = Wx + b\n",
    "\n",
    "    def forward(self, x): # 순전파 정의\n",
    "        x = self.linear(x)\n",
    "        return x"
   ]
  },
  {
   "cell_type": "markdown",
   "metadata": {},
   "source": [
    "``nn.Module``는 다음과 같은 요소들로 구성되어 있다.\n",
    "\n",
    "- `__init__` 함수에서는 신경망에서 사용할 모듈(module)과 레이어(layer)를 정의하며 이를 통해 학습 가능한 파라미터(learnable parameters)가 정의되고 초기화된다.\n",
    "\n",
    "- `forward` 함수는 신경망의 순전파(forward propagation) 과정에서 수행될 텐서 연산을 정의한다. PyTorch에서 제공하는 다양한 텐서 연산뿐만 아니라, Python의 기본 연산도 자유롭게 사용할 수 있다. 순전파의 계산 결과를 리턴한다.\n",
    "\n",
    "- `backward` 함수는 역전파(backpropagation)를 위해 `autograd`에 의해 자동으로 정의된다. 사용자는 `backward` 함수를 직접 구현할 필요가 없으며, PyTorch가 자동으로 기울기를 계산하고 가중치를 업데이트한다.\n"
   ]
  },
  {
   "cell_type": "code",
   "execution_count": 104,
   "metadata": {
    "tags": [
     "execute_cell"
    ]
   },
   "outputs": [
    {
     "name": "stdout",
     "output_type": "stream",
     "text": [
      "LinearNet(\n",
      "  (linear): Linear(in_features=100, out_features=10, bias=True)\n",
      ")\n"
     ]
    }
   ],
   "source": [
    "net = LinearNet()\n",
    "print(net)"
   ]
  },
  {
   "cell_type": "markdown",
   "metadata": {},
   "source": [
    "``.parameters()`` 메서드를 통해 learnable parameter를 얻을 수 있다"
   ]
  },
  {
   "cell_type": "code",
   "execution_count": 105,
   "metadata": {
    "tags": [
     "execute_cell"
    ]
   },
   "outputs": [
    {
     "name": "stdout",
     "output_type": "stream",
     "text": [
      "2\n",
      "torch.Size([10, 100])\n",
      "torch.Size([10])\n"
     ]
    }
   ],
   "source": [
    "params = list(net.parameters())\n",
    "print(len(params))\n",
    "print(params[0].size()) # Matrix W\n",
    "print(params[1].size()) # bias b"
   ]
  },
  {
   "cell_type": "markdown",
   "metadata": {},
   "source": [
    "### Forward pass\n",
    "1x100 크기의 random input을 전달해보자"
   ]
  },
  {
   "cell_type": "code",
   "execution_count": 106,
   "metadata": {
    "tags": [
     "execute_cell"
    ]
   },
   "outputs": [
    {
     "name": "stdout",
     "output_type": "stream",
     "text": [
      "tensor([[-0.3201,  0.1684,  0.4724, -0.2504, -0.4911,  1.3993, -0.5297,  0.3032,\n",
      "          0.1245, -0.4919]], grad_fn=<AddmmBackward0>)\n"
     ]
    }
   ],
   "source": [
    "input = torch.randn(1, 100)\n",
    "output = net(input)\n",
    "print(output)"
   ]
  },
  {
   "cell_type": "markdown",
   "metadata": {},
   "source": [
    "참고: ``torch.nn``는 mini-batch만 지원한다.\n",
    "\n",
    "**예를들어 ``nn.Linear`` 레이어는 (batch_size, input_size)의 2차원 텐서를 입력받는다.**"
   ]
  },
  {
   "cell_type": "markdown",
   "metadata": {},
   "source": [
    "### Loss Function\n",
    "loss function은 입력 데이터에 대응하는 모델의 출력과, target(label) 쌍을 입력받아 출력과 target의 차이를 계산함으로써 모델이 얼마나 틀린 결과를 내고 있는지에 측정값을 제공한다. 우리는 학습과정에서 loss를 최소화함으로써 모델의 성능을 개선할 수 있다.\n",
    "\n",
    "자주 사용되는 loss 함수는 회귀를 위한 nn.MSELoss (Mean Square Error)와 분류를 위한 nn.NLLLoss (Negative Log Likelihood) 등이 있으며, [PyTorch documentation](<https://pytorch.org/docs/stable/nn.html#loss-functions>)을 참고하기 바람."
   ]
  },
  {
   "cell_type": "code",
   "execution_count": 107,
   "metadata": {
    "tags": [
     "execute_cell"
    ]
   },
   "outputs": [
    {
     "name": "stdout",
     "output_type": "stream",
     "text": [
      "tensor(0.9731, grad_fn=<MseLossBackward0>)\n"
     ]
    }
   ],
   "source": [
    "output = net(input)\n",
    "target = torch.randn(10)  # a dummy target\n",
    "target = target.view(1, -1)  # make the shape same with output (1, 10)\n",
    "criterion = nn.MSELoss()\n",
    "\n",
    "loss = criterion(output, target)\n",
    "print(loss)"
   ]
  },
  {
   "cell_type": "markdown",
   "metadata": {},
   "source": [
    "이제 역전파 수행을 위해 ``loss.backward()``를 호출할 수 있다.\n",
    "\n",
    "loss 계산을 위한 사용된 모든 computational graph에 대하여 미분을 수행하며,\n",
    "graph상의 tensor들 중 ``requires_grad=True``인 것들은 ``.grad``에 계산된 gradient가 축적된다.\n",
    "\n",
    "즉, $\\frac{\\partial L}{\\partial W}$ 가 계산된다\n"
   ]
  },
  {
   "cell_type": "markdown",
   "metadata": {},
   "source": [
    "예를 들어, 몇 단계의 backward를 따라가 보자."
   ]
  },
  {
   "cell_type": "code",
   "execution_count": 108,
   "metadata": {
    "tags": [
     "execute_cell"
    ]
   },
   "outputs": [
    {
     "name": "stdout",
     "output_type": "stream",
     "text": [
      "<MseLossBackward0 object at 0x7fca12dd5570>\n",
      "<AddmmBackward0 object at 0x7fca12dd4b80>\n"
     ]
    }
   ],
   "source": [
    "print(loss.grad_fn)  # MSELoss\n",
    "print(loss.grad_fn.next_functions[0][0])  # Linear layer"
   ]
  },
  {
   "cell_type": "markdown",
   "metadata": {},
   "source": [
    "### Backprop\n",
    "``loss.backward()``를 이용하여 Backpropagation을 수행하자.\n",
    "\n",
    "backward 수행 후 parameter의 gradient가 계산된 것을 확인할 수 있다."
   ]
  },
  {
   "cell_type": "code",
   "execution_count": 109,
   "metadata": {
    "tags": [
     "execute_cell"
    ]
   },
   "outputs": [
    {
     "name": "stdout",
     "output_type": "stream",
     "text": [
      "linear.bias.grad before backward : None\n",
      "linear.bias.grad after backward tensor([ 0.0892, -0.1020,  0.1731, -0.1671, -0.3452,  0.1211,  0.2427, -0.3363,\n",
      "         0.0712, -0.0460])\n"
     ]
    }
   ],
   "source": [
    "print(f'linear.bias.grad before backward : {net.linear.bias.grad}')\n",
    "loss.backward()\n",
    "print(f'linear.bias.grad after backward {net.linear.bias.grad}')"
   ]
  },
  {
   "cell_type": "markdown",
   "metadata": {},
   "source": [
    "### Optimization (Update the weights)\n",
    "Optimization은 학습과정에서 model parameters를 조정하여 모델의 에러를 줄이는 과정이다. \n",
    "\n",
    "Optimization 알고리즘은 어떠한 방식으로 모델 파라미터를 업데이트할지를 정의한다.\n",
    "\n",
    "가장 간단한 파라미터 업데이트 방법은 Stochastic Gradient Descent (SGD)이다\n",
    "\n",
    "```\n",
    "weight = weight - learning_rate * gradient\n",
    "```\n",
    "\n",
    "SGD의 파라미터 업데이트는 다음과 같이 수행할 수 있다.\n",
    "``` python\n",
    "learning_rate = 0.01\n",
    "for p in net.parameters():\n",
    "    p.data.sub_(p.grad.data * learning_rate)\n",
    "```\n",
    "\n",
    "하지만 우리는 이 방법 외에도 매우 다양한 방법으로 파라미터를 업데이트 하고자 하며, Adam, RMSProc을 포함하는 다양한 optimization 방법들이 ``torch.optim``에 구현되어 있다.\n",
    "\n",
    "따라서 우리는 optimizer라는 별도의 객체에 파라미터를 업데이트를 위임하며,\n",
    "optimizer를 초기화할 때 모델 파라미터를 전달하여 optimizer가 학습과정에서 파라미터를 대신 업데이트할 수 있도록 한다"
   ]
  },
  {
   "cell_type": "code",
   "execution_count": 110,
   "metadata": {
    "tags": [
     "execute_cell"
    ]
   },
   "outputs": [
    {
     "name": "stdout",
     "output_type": "stream",
     "text": [
      "linear.bias before step : Parameter containing:\n",
      "tensor([ 0.0986,  0.0005,  0.0907, -0.0251,  0.0236,  0.0052,  0.0301,  0.0559,\n",
      "        -0.0667, -0.0729], requires_grad=True)\n",
      "\n",
      "linear.bias after step : Parameter containing:\n",
      "tensor([ 0.0977,  0.0015,  0.0890, -0.0235,  0.0270,  0.0040,  0.0277,  0.0593,\n",
      "        -0.0675, -0.0725], requires_grad=True)\n"
     ]
    }
   ],
   "source": [
    "import torch.optim as optim\n",
    "\n",
    "optimizer = optim.SGD(net.parameters(), lr=0.01) # Neural network의 파라미터들을 입력으로 받는다.\n",
    "\n",
    "print(f'linear.bias before step : {net.linear.bias}\\n')\n",
    "\n",
    "# A single training step consist of:\n",
    "optimizer.zero_grad()   # 이전 스텝이서 계산된 gradient를 지운다.\n",
    "output = net(input)\n",
    "loss = criterion(output, target)\n",
    "loss.backward()\n",
    "optimizer.step()    # Optimerzer가 Parameter update를 대신 해준다.\n",
    "\n",
    "print(f'linear.bias after step : {net.linear.bias}')\n"
   ]
  },
  {
   "cell_type": "markdown",
   "metadata": {},
   "source": [
    "zero_grad()가 필요한 이유는 한 computational graph에 한번의 back_prop만이 가능하기 때문이다. \n",
    "\n",
    "(혹은 ``retain_graph`` = True일 경우 gradient가 쌓임)\n"
   ]
  },
  {
   "cell_type": "markdown",
   "metadata": {},
   "source": [
    "축하합니다! 당신은 지금까지 neural networks를 정의하고, loss를 계산하고, weights를 업데이트 하는 방법에 대해 모두 배웠습니다.\n",
    "이제는 당신만의 신경망을 학습할 준비가 되었습니다.\n",
    "\n",
    "\n",
    "**참고:**\n",
    "  -  ``torch.Tensor`` - *multi-dimensional array*로서 autograd와 GPU연산을 지원함. gradient값도 보관한다.\n",
    "  -  ``nn.Module`` - Neural network 모듈. 모델 파라미터를 은닉(encapsulate)하고 편리하게 관리할 수 있도록 해주며, GPU로의 이동, export, loading등 다양한 편의성도 제공한다.\n",
    "  -  ``nn.Parameter`` - 텐서의 일종으로 nn.Module의 속성에 할당될 경우 자동으로 파라미터로 등록됨."
   ]
  },
  {
   "cell_type": "markdown",
   "metadata": {},
   "source": [
    "Training a Multi-layer perceptron\n",
    "--------------"
   ]
  },
  {
   "cell_type": "markdown",
   "metadata": {},
   "source": [
    "### 1. 데이터셋 가져오기\n",
    "학습의 시작은 데이터를 읽어오는 것으로, 먼저 원하는 데이터를 읽어와 torch.tensor로 변환을 수행한다.\n",
    "\n",
    "아래와 같은 패키지들이 유용하다.\n",
    "\n",
    "-  For images, packages such as Pillow, OpenCV \n",
    "-  For audio, packages such as scipy and librosa\n",
    "-  For text, either raw Python or Cython based loading, or NLTK and\n",
    "   SpaCy\n",
    "\n",
    "\n",
    "``torchvision`` 패키지에는 vision분야에서 자주 사용되는 몇몇 유명한 데이터셋을 읽어오는 함수를 제공한다.\n",
    "\n",
    "우리는 이번에 MNIST데이터셋을 분류하는 Multi-layter Perceptron모델을 구현해볼 것이다.\n",
    "\n",
    "MNIST 데이터셋은 handwritten digits 분류하는, 머신러닝 분야에서 매우 유명한 데이터셋이다.\n",
    "\n",
    "이미지 분류모델을 아래 과정을 통해 학습된다.\n",
    "\n",
    "1. ``torchvision``을 이용하여 데이터셋을 읽어온다.\n",
    "2. Neural Network를 정의한다\n",
    "3. loss 함수를 정의한다.\n",
    "4. training data를 이용하여 학습한다.\n",
    "5. test data를 이용하여 모델을 평가한다.\n",
    "\n"
   ]
  },
  {
   "cell_type": "code",
   "execution_count": 111,
   "metadata": {},
   "outputs": [],
   "source": [
    "import numpy as np\n",
    "import torch\n",
    "from torch import nn\n",
    "from torch.utils.data import DataLoader\n",
    "from torchvision import datasets\n",
    "from torchvision.transforms import ToTensor\n",
    "\n",
    "import matplotlib.pyplot as plt"
   ]
  },
  {
   "cell_type": "markdown",
   "metadata": {},
   "source": [
    "데이터 전처리를 하는 코드들은 지저분하기 마련이며 관리하기도 어렵다.\n",
    "\n",
    "이상적으로는 데이터셋을 관리하는 코드와 모델을 학습하는 코드가 완전히 분리되는것이 좋다 (for better readability, resuability, and modularity).\n",
    "\n",
    "PyTorch에서는 데이터를 관리하기 위한 두가지 모듈을 제공한다: ``torch.utils.data.Dataset``, ``torch.utils.data.DataLoader``\n",
    "\n",
    "``Dataset``는 샘플 데이터와 라벨을 저장하고 있으며, iterator가 감싸져있어 쉽게 데이터에 접근할 수 있다.\n",
    "\n",
    "``torchvision.datasets``는 ``torch.utils.data.Dataset``를 상속하는 다양한 데이터셋을 제공한다."
   ]
  },
  {
   "cell_type": "code",
   "execution_count": 112,
   "metadata": {},
   "outputs": [],
   "source": [
    "def load_MNIST_datasets(data_root_dir):\n",
    "    train_dataset = datasets.MNIST(\n",
    "        root=data_root_dir, train=True, download=True, \n",
    "        transform=ToTensor() # convert PILImage images of range [0, 1] to tensors of normalized range [-1, 1].\n",
    "    )\n",
    "    test_dataset = datasets.MNIST(\n",
    "        root=data_root_dir, train=False, download=True, \n",
    "        transform=ToTensor()\n",
    "    )\n",
    "\n",
    "    return train_dataset, test_dataset"
   ]
  },
  {
   "cell_type": "code",
   "execution_count": 113,
   "metadata": {
    "tags": [
     "execute_cell"
    ]
   },
   "outputs": [
    {
     "name": "stdout",
     "output_type": "stream",
     "text": [
      "Train size:  60000\n",
      "Test size:  10000\n",
      "Image size:  torch.Size([1, 28, 28])\n",
      "Label of fisrt example:  5\n"
     ]
    }
   ],
   "source": [
    "train_dataset, test_dataset = load_MNIST_datasets(\"/datasets\")\n",
    "\n",
    "print(\"Train size: \", len(train_dataset))\n",
    "print(\"Test size: \", len(test_dataset))\n",
    "print(\"Image size: \", train_dataset[0][0].shape)\n",
    "print(\"Label of fisrt example: \", train_dataset[0][1])"
   ]
  },
  {
   "cell_type": "code",
   "execution_count": 114,
   "metadata": {},
   "outputs": [],
   "source": [
    "def visualize_few_samples(dataset, cols=8, rows=5):\n",
    "    figure = plt.figure(figsize=(6, 4))\n",
    "    for i in range(1, cols * rows + 1):\n",
    "        sample_idx = torch.randint(len(dataset), size=(1,)).item()\n",
    "        img, label = dataset[sample_idx]\n",
    "        figure.add_subplot(rows, cols, i)\n",
    "        plt.title(label)\n",
    "        plt.axis(\"off\")\n",
    "        plt.imshow(img.squeeze(), cmap=\"gray\")\n",
    "    plt.show()"
   ]
  },
  {
   "cell_type": "code",
   "execution_count": 115,
   "metadata": {
    "tags": [
     "execute_cell"
    ]
   },
   "outputs": [
    {
     "data": {
      "image/png": "[encoded data removed]",
      "text/plain": [
       "<Figure size 600x400 with 48 Axes>"
      ]
     },
     "metadata": {},
     "output_type": "display_data"
    }
   ],
   "source": [
    "visualize_few_samples(train_dataset, cols = 8, rows = 6)"
   ]
  },
  {
   "cell_type": "markdown",
   "metadata": {},
   "source": [
    "``Dataset``은 데이터 feature와 라벨을 한번에 하나씩 가져오는 기능을 제공한다. 하지만 보통 학습에서는 샘플들을 “minibatches”로 가져온고, 매 epoch마다 랜덤하게 섞어주며, multiprocessing을 사용해 데이터 획득을 빠르게 하고자 한다.\n",
    "\n",
    "DataLoader이 복잡한 과정을 쉽도록 도와주는 iterable이다.\n",
    "\n",
    "- 데이터로더는 데이터셋을 배치 단위로 묶어준다.\n",
    "- ``shuffle``를 통해 매 epoch마다 랜덤하게 섞어주는 기능을 제공한다\n",
    "- ``num_workers``를 통해 데이터 전처리를 multiprocessing으로 수행할 수 있다."
   ]
  },
  {
   "cell_type": "code",
   "execution_count": 117,
   "metadata": {
    "tags": [
     "execute_cell"
    ]
   },
   "outputs": [
    {
     "name": "stdout",
     "output_type": "stream",
     "text": [
      "Shape of X [N, C, H, W]: torch.Size([64, 1, 28, 28])\n",
      "Shape of y: torch.Size([64]) torch.int64\n"
     ]
    }
   ],
   "source": [
    "batch_size = 64\n",
    "\n",
    "train_dataloader = DataLoader(train_dataset, batch_size=batch_size, shuffle=True)\n",
    "test_dataloader = DataLoader(test_dataset, batch_size=batch_size, shuffle=False)\n",
    "\n",
    "for X, y in test_dataloader:\n",
    "    print(f\"Shape of X [N, C, H, W]: {X.shape}\")\n",
    "    print(f\"Shape of y: {y.shape} {y.dtype}\")\n",
    "    break"
   ]
  },
  {
   "cell_type": "markdown",
   "metadata": {},
   "source": [
    "### 2. Network 정의하기"
   ]
  },
  {
   "cell_type": "markdown",
   "metadata": {},
   "source": [
    "[PyTorch documentation](https://pytorch.org/docs/stable/nn.html)을 참고하여 3개의 레이어로 Multi-layer Perceptron모듈을 작성하라"
   ]
  },
  {
   "cell_type": "code",
   "execution_count": 133,
   "metadata": {},
   "outputs": [],
   "source": [
    "class MultiLayerPerceptron(nn.Module):\n",
    "    \n",
    "    def __init__(self, in_dim, hidden_dim, out_dim):\n",
    "        super().__init__()\n",
    "\n",
    "        self.flatten = nn.Flatten()\n",
    "        \n",
    "        ##### YOUR CODE START #####  \n",
    "        # 1. First Layer\n",
    "        #    - Linear layer with input size `in_dim` and output size `hidden_dim`\n",
    "        #    - ReLU (Rectified Linear Unit) activation\n",
    "        # 2. Second Layer:\n",
    "        #    - Linear layer with input size `hidden_dim` and output size `hidden_dim`\n",
    "        #    - ReLU (Rectified Linear Unit) activation        \n",
    "        # 3. Output Layer:\n",
    "        #    - Linear layer with input size `hidden_dim` and output size `out_dim`\n",
    "        #    - `out_dim` units represent the number of classes in a classification task\n",
    "        # Use nn.Sequential() to stack these layers together.\n",
    "\n",
    "        self.model = nn.Sequential(\n",
    "            nn.Linear(in_dim, hidden_dim),\n",
    "            nn.ReLU(),\n",
    "            nn.Linear(hidden_dim, hidden_dim),\n",
    "            nn.ReLU(),\n",
    "            nn.Linear(hidden_dim, out_dim)\n",
    "        )\n",
    "        ##### YOUR CODE END #####\n",
    "\n",
    "    def forward(self, x):\n",
    "        x = self.flatten(x)\n",
    "\n",
    "        ##### YOUR CODE START #####\n",
    "        # Write a forward pass of your model\n",
    "        logits = self.model(x)\n",
    "     \n",
    "        ##### YOUR CODE END #####\n",
    "\n",
    "        return logits"
   ]
  },
  {
   "cell_type": "markdown",
   "metadata": {},
   "source": [
    "model을 사용하기 위해 input data를 () 연산을 통해 전달하면, 이를 통해 ``forward`` 함수와 더불어 여러 작업들이 자동으로 수행된다.\n",
    "\n",
    "직접 ``model.forward()``를 호출하지 말것!"
   ]
  },
  {
   "cell_type": "code",
   "execution_count": 132,
   "metadata": {
    "tags": [
     "execute_cell"
    ]
   },
   "outputs": [
    {
     "name": "stdout",
     "output_type": "stream",
     "text": [
      "MultiLayerPerceptron(\n",
      "  (flatten): Flatten(start_dim=1, end_dim=-1)\n",
      "  (model): Sequential(\n",
      "    (0): Linear(in_features=784, out_features=512, bias=True)\n",
      "    (1): ReLU()\n",
      "    (2): Linear(in_features=512, out_features=512, bias=True)\n",
      "    (3): ReLU()\n",
      "    (4): Linear(in_features=512, out_features=10, bias=True)\n",
      "  )\n",
      ")\n",
      "torch.Size([16, 10])\n",
      "Predicted classes: tensor([8, 9, 9, 8, 9, 8, 4, 9, 7, 9, 4, 8, 8, 8, 7, 8])\n"
     ]
    }
   ],
   "source": [
    "# test if your model works with your input data\n",
    "model = MultiLayerPerceptron(in_dim = 28*28, hidden_dim = 512, out_dim = 10)\n",
    "print(model)\n",
    "\n",
    "X = torch.rand(16, 1, 28, 28) # dummy data for testing with batch_size 16\n",
    "logits = model(X) \n",
    "pred_prob = nn.Softmax(dim=1)(logits) # Predicted probability for each class with shape (batch_size, 10)\n",
    "print(pred_prob.shape)\n",
    "y_pred = pred_prob.argmax(axis = 1)\n",
    "print(f\"Predicted classes: {y_pred}\")"
   ]
  },
  {
   "cell_type": "markdown",
   "metadata": {},
   "source": [
    "우리 모델은 아래와 같이 구성된다:\n",
    "- nn.Flatten: 이차원 28x28 이미지를 연속된 784 픽셀값을 가지는 1차원 텐서로 변환한다 (minibatch dimension (at dim=0)은 그대로 유지됨).\n",
    "- nn.Linear: linear레이어는 입력에 대하여 learnable weights와 biases를 이용하여 선형 변환을 수행하는 모듈이다 (Fully connected layer)\n",
    "- nn.ReLU: Non-linear activations. 선형 변환 후에 적용하여 비선형성을 추가하며, 모델이 다양한 분포를 학습할수 있도록 해준다.\n",
    "- nn.Sequential: 순서가 있는 모듈의 컨테이너(container). 데이터는 컨테이너 내의 모든 모듈들을 정의된것과 같은 순서로 통과한다.\n",
    "- nn.Softmax: MLP의 마지막 레이어는 [-infty, infty]에 분포하는 logit 값을 리턴한다. logit값은 nn.Softmax모듈에 전달되거 [0, 1]사이의 확률값으로 변환된다. dim 인자를 통해 어느 축의 값이 더해서 1이 될지 정한다."
   ]
  },
  {
   "cell_type": "markdown",
   "metadata": {},
   "source": [
    "정의한 모델은 그 내부에 parameter(weights and biases)를 갖고 있다.\n",
    "\n",
    "Network를 정의할때 ``nn.Module``를 상속하게 되면 모델에 정의된 모든 파라미터를 자동으로 추적하며 ``parameters()`` 또는 ``named_parameters()`` 메서드를 통해 접근 가능해지게 된다."
   ]
  },
  {
   "cell_type": "code",
   "execution_count": 129,
   "metadata": {
    "tags": [
     "execute_cell"
    ]
   },
   "outputs": [
    {
     "name": "stdout",
     "output_type": "stream",
     "text": [
      "Layer: model.0.weight\t| Size: torch.Size([512, 784])\t| Values : tensor([[ 0.0008, -0.0053,  0.0310,  ...,  0.0217, -0.0224, -0.0125],\n",
      "        [ 0.0096, -0.0107, -0.0235,  ..., -0.0231,  0.0199, -0.0058]],\n",
      "       grad_fn=<SliceBackward0>) \n",
      "\n",
      "Layer: model.0.bias\t| Size: torch.Size([512])\t| Values : tensor([-0.0039, -0.0280], grad_fn=<SliceBackward0>) \n",
      "\n",
      "Layer: model.2.weight\t| Size: torch.Size([512, 512])\t| Values : tensor([[ 0.0168,  0.0301,  0.0433,  ...,  0.0289,  0.0166, -0.0411],\n",
      "        [ 0.0230,  0.0202, -0.0371,  ...,  0.0013,  0.0094, -0.0089]],\n",
      "       grad_fn=<SliceBackward0>) \n",
      "\n",
      "Layer: model.2.bias\t| Size: torch.Size([512])\t| Values : tensor([-0.0096,  0.0177], grad_fn=<SliceBackward0>) \n",
      "\n",
      "Layer: model.4.weight\t| Size: torch.Size([10, 512])\t| Values : tensor([[-0.0243, -0.0089,  0.0407,  ..., -0.0342, -0.0312,  0.0338],\n",
      "        [-0.0355, -0.0043,  0.0240,  ...,  0.0031, -0.0149, -0.0175]],\n",
      "       grad_fn=<SliceBackward0>) \n",
      "\n",
      "Layer: model.4.bias\t| Size: torch.Size([10])\t| Values : tensor([-0.0343,  0.0386], grad_fn=<SliceBackward0>) \n",
      "\n"
     ]
    }
   ],
   "source": [
    "for name, param in model.named_parameters():\n",
    "    print(f\"Layer: {name}\\t| Size: {param.size()}\\t| Values : {param[:2]} \\n\")"
   ]
  },
  {
   "cell_type": "markdown",
   "metadata": {},
   "source": [
    "### 3. Optimizing your model parameters"
   ]
  },
  {
   "cell_type": "markdown",
   "metadata": {},
   "source": [
    "아래 코드를 통해 backward()를 수행시 모델 파라미터의 gradient가 계산되어 저장되는 것을 확인할 수 있다."
   ]
  },
  {
   "cell_type": "code",
   "execution_count": 130,
   "metadata": {
    "tags": [
     "execute_cell"
    ]
   },
   "outputs": [
    {
     "name": "stdout",
     "output_type": "stream",
     "text": [
      "----- Parameters before backward() -----\n",
      "Layer model.0.weight\t| Size: torch.Size([512, 784])\t| grad : None\n",
      "Layer model.0.bias\t| Size: torch.Size([512])\t| grad : None\n",
      "Layer model.2.weight\t| Size: torch.Size([512, 512])\t| grad : None\n",
      "Layer model.2.bias\t| Size: torch.Size([512])\t| grad : None\n",
      "Layer model.4.weight\t| Size: torch.Size([10, 512])\t| grad : None\n",
      "Layer model.4.bias\t| Size: torch.Size([10])\t| grad : None\n",
      "\n",
      "----- Parameters after backward() -----\n",
      "Layer model.0.weight\t| Size: torch.Size([512, 784])\t| grad : torch.Size([512, 784])\n",
      "Layer model.0.bias\t| Size: torch.Size([512])\t| grad : torch.Size([512])\n",
      "Layer model.2.weight\t| Size: torch.Size([512, 512])\t| grad : torch.Size([512, 512])\n",
      "Layer model.2.bias\t| Size: torch.Size([512])\t| grad : torch.Size([512])\n",
      "Layer model.4.weight\t| Size: torch.Size([10, 512])\t| grad : torch.Size([10, 512])\n",
      "Layer model.4.bias\t| Size: torch.Size([10])\t| grad : torch.Size([10])\n"
     ]
    }
   ],
   "source": [
    "model = MultiLayerPerceptron(in_dim = 28*28, hidden_dim = 512, out_dim = 10)\n",
    "\n",
    "X = torch.rand(16, 1, 28, 28) # dummy data with batch_size 16\n",
    "logits = model(X) # forward pass return a logits with shape (batch_size, 10)\n",
    "\n",
    "print(\"----- Parameters before backward() -----\")\n",
    "for name, param in model.named_parameters():\n",
    "    print(f\"Layer {name}\\t| Size: {param.size()}\\t| grad : {param.grad}\")\n",
    "\n",
    "\n",
    "y = torch.randint(10, (16,))\n",
    "loss = nn.CrossEntropyLoss()(logits, y)\n",
    "loss.backward()\n",
    "\n",
    "print(\"\\n----- Parameters after backward() -----\")\n",
    "for name, param in model.named_parameters():\n",
    "    print(f\"Layer {name}\\t| Size: {param.size()}\\t| grad : {param.grad.shape}\")"
   ]
  },
  {
   "cell_type": "markdown",
   "metadata": {},
   "source": [
    "이제 parameter 업데이트를 통해 학습을 수행하자.\n",
    "\n",
    "학습은 다음의 과정으로 구성된다.\n",
    "\n",
    "for  each iteration (called an **epoch**):\n",
    "- forward pass를 통하여 output (guess) 계산\n",
    "- output과 target의 차이를 통해 error(loss)를 계산\n",
    "- 파라미터에 대한 loss의 값의 미분 계산\n",
    "- 경사하강법(gradient descent)를 통하여 파라미터 optimize\n",
    "\n",
    "각 epoch은 다음의 과정으로 구성된다\n",
    "- 학습 루프(Train Loop) - 학습 데이터를 수행하여 최적 파라미터를 학습한다\n",
    "- Evaluation(Validation/Test) Loop - 평가 데이터셋을 순회하며 모델의 성능이 좋아지고 있는지 평가한다.\n",
    "\n",
    "아직 이 과정이 익숙하지 않은 학생들은 [영상](https://www.youtube.com/watch?v=tIeHLnjs5U8)을 참고할것"
   ]
  },
  {
   "cell_type": "markdown",
   "metadata": {},
   "source": [
    "<mark>과제</mark>\n",
    "``train_loop``와 ``evaluation_loop``를 완성하라"
   ]
  },
  {
   "cell_type": "code",
   "execution_count": 147,
   "metadata": {},
   "outputs": [],
   "source": [
    "def train_loop(model, device, dataloader, loss_fn, optimizer):\n",
    "    size = len(dataloader.dataset)\n",
    "    model.train() #Switch to train mode\n",
    "\n",
    "    running_loss = 0.0\n",
    "    for batch_idx, (X, y) in enumerate(dataloader):\n",
    "        X, y = X.to(device), y.to(device)\n",
    "        \n",
    "        ##### YOUR CODE START #####\n",
    "        # Forward propagation and compute loss\n",
    "        optimizer.zero_grad() # 가중치 초기화\n",
    "        pred = model(X) # 순전파 진행\n",
    "        loss = loss_fn(pred, y) # loss 계산\n",
    "\n",
    "        # Backpropagation and update parameter\n",
    "        loss.backward() # 경사하강법을 통해 파라미터 optimize\n",
    "        optimizer.step() # 파라미터 업데이트\n",
    "        ##### YOUR CODE END #####\n",
    "    \n",
    "        running_loss += loss.item()\n",
    "\n",
    "        if batch_idx % 300 == 0:\n",
    "            print(f\"Train loss: {loss.item():>7f}  [{(batch_idx + 1) * len(X):>5d}/{size:>5d}]\")\n",
    "\n",
    "    avg_train_loss = running_loss / len(dataloader)\n",
    "    return(avg_train_loss)"
   ]
  },
  {
   "cell_type": "code",
   "execution_count": 148,
   "metadata": {},
   "outputs": [],
   "source": [
    "def evaluation_loop(model, device, dataloader, loss_fn):    \n",
    "    model.eval() # Set the model to evaluation mode. important for batch normalization and dropout layers\n",
    "\n",
    "    test_loss, correct = 0.0, 0.0\n",
    "    with torch.no_grad():\n",
    "        for X, y in dataloader:\n",
    "            X, y = X.to(device), y.to(device)\n",
    "            \n",
    "            ##### YOUR CODE START #####\n",
    "            # accumulate test_loss : sum of loss over mini-batches\n",
    "            # accumulate correct : the number of correct prediction (hint: use argmax)\n",
    "            pred = model(X)\n",
    "            test_loss += loss_fn(pred, y)\n",
    "\n",
    "            correct += (pred.argmax(1) == y).type(torch.float).sum().item()\n",
    "            ##### YOUR CODE END #####\n",
    "\n",
    "    avg_test_loss = test_loss / len(dataloader)\n",
    "    accuracy = correct / len(dataloader.dataset)\n",
    "    print(f\"\\nTest Accuracy: {(100*accuracy):>0.1f}%, Avg loss: {avg_test_loss:>8f} \\n\")\n",
    "\n",
    "    return(avg_test_loss, accuracy)"
   ]
  },
  {
   "cell_type": "markdown",
   "metadata": {},
   "source": [
    "### 4. 학습 수행\n",
    "\n",
    "실제 학습 수행을 위해서는 hyperparameter를 지정해주어야 한다.\n",
    "하이퍼 파라미터는 모델 학습 과정을 컨트롤 할수 있는 파라미터로, 모델 학습 및 수렴속도를 결정짓는 중요한 값들입니다.\n",
    "\n",
    "- Number of Epochs: 데이터 전체를 반복할 횟수\n",
    "- Batch Size: mini-batch 사이즈. \n",
    "- Learning Rate: 각 iteration마다 얼마나 모델 파라미터를 업데이트 할지.\n",
    "\n",
    "``nn.CrossEntropyLoss``는 ``nn.LogSoftmax``와 ``nn.NLLLoss``를 합친 loss function이다\n",
    "\n",
    "현재까지 배운것을 모두 합쳐 학습을 수행해보자."
   ]
  },
  {
   "cell_type": "code",
   "execution_count": 149,
   "metadata": {},
   "outputs": [],
   "source": [
    "def main():\n",
    "    # Hyper parameters\n",
    "    batch_size = 64\n",
    "    learning_rate = 1e-3\n",
    "    epochs = 40\n",
    "\n",
    "    # training setting\n",
    "    in_dim, hidden_dim, out_dim = 28*28, 512, 10\n",
    "    save_model = True\n",
    "    \n",
    "    seed = 1\n",
    "    torch.manual_seed(seed)\n",
    "\n",
    "    device = \"cuda:0\" if torch.cuda.is_available() else \"mps\" if torch.backends.mps.is_available() else \"cpu\"\n",
    "    print(f\"Using {device} device\")\n",
    "\n",
    "\n",
    "    train_dataset, test_dataset = load_MNIST_datasets(\"/datasets\")\n",
    "    \n",
    "    train_dataloader = DataLoader(dataset= train_dataset, batch_size=batch_size, shuffle=True)\n",
    "    test_dataloader = DataLoader(dataset= test_dataset, batch_size=batch_size, shuffle=False)\n",
    "\n",
    "\n",
    "    model = MultiLayerPerceptron(in_dim, hidden_dim, out_dim).to(device)\n",
    "    loss_fn = nn.CrossEntropyLoss()\n",
    "    optimizer = torch.optim.SGD(model.parameters(), lr = learning_rate)\n",
    "\n",
    "    train_loss_list, test_loss_list, test_accuracy_list = [], [], []\n",
    "    for t in range(epochs):\n",
    "        print(f\"Epoch {t+1}\\n-------------------------------\")\n",
    "        train_loss = train_loop(model, device, train_dataloader, loss_fn, optimizer)\n",
    "        test_loss, test_accuracy = evaluation_loop(model, device, test_dataloader, loss_fn)\n",
    "\n",
    "        train_loss_list.append(train_loss)\n",
    "        test_loss_list.append(test_loss)\n",
    "        test_accuracy_list.append(test_accuracy)\n",
    "\n",
    "    if save_model:\n",
    "        torch.save(model.state_dict(), \"model.pth\")\n",
    "        print(\"Saved Model State to model.pth\")\n",
    "\n",
    "    return train_loss_list, test_loss_list, test_accuracy_list"
   ]
  },
  {
   "cell_type": "code",
   "execution_count": 150,
   "metadata": {
    "tags": [
     "execute_cell"
    ]
   },
   "outputs": [
    {
     "name": "stdout",
     "output_type": "stream",
     "text": [
      "Using cuda:0 device\n",
      "Epoch 1\n",
      "-------------------------------\n",
      "Train loss: 2.317879  [   64/60000]\n",
      "Train loss: 2.287617  [19264/60000]\n",
      "Train loss: 2.283307  [38464/60000]\n",
      "Train loss: 2.270607  [57664/60000]\n",
      "\n",
      "Test Accuracy: 38.2%, Avg loss: 2.257381 \n",
      "\n",
      "Epoch 2\n",
      "-------------------------------\n",
      "Train loss: 2.261548  [   64/60000]\n",
      "Train loss: 2.241510  [19264/60000]\n",
      "Train loss: 2.221212  [38464/60000]\n",
      "Train loss: 2.186979  [57664/60000]\n",
      "\n",
      "Test Accuracy: 54.6%, Avg loss: 2.192159 \n",
      "\n",
      "Epoch 3\n",
      "-------------------------------\n",
      "Train loss: 2.188418  [   64/60000]\n",
      "Train loss: 2.182716  [19264/60000]\n",
      "Train loss: 2.114133  [38464/60000]\n",
      "Train loss: 2.084499  [57664/60000]\n",
      "\n",
      "Test Accuracy: 63.1%, Avg loss: 2.081116 \n",
      "\n",
      "Epoch 4\n",
      "-------------------------------\n",
      "Train loss: 2.059048  [   64/60000]\n",
      "Train loss: 2.025636  [19264/60000]\n",
      "Train loss: 1.990442  [38464/60000]\n",
      "Train loss: 1.946402  [57664/60000]\n",
      "\n",
      "Test Accuracy: 67.4%, Avg loss: 1.890471 \n",
      "\n",
      "Epoch 5\n",
      "-------------------------------\n",
      "Train loss: 1.984168  [   64/60000]\n",
      "Train loss: 1.805239  [19264/60000]\n",
      "Train loss: 1.756425  [38464/60000]\n",
      "Train loss: 1.572538  [57664/60000]\n",
      "\n",
      "Test Accuracy: 70.8%, Avg loss: 1.606305 \n",
      "\n",
      "Epoch 6\n",
      "-------------------------------\n",
      "Train loss: 1.647568  [   64/60000]\n",
      "Train loss: 1.499867  [19264/60000]\n",
      "Train loss: 1.398247  [38464/60000]\n",
      "Train loss: 1.515240  [57664/60000]\n",
      "\n",
      "Test Accuracy: 74.8%, Avg loss: 1.289105 \n",
      "\n",
      "Epoch 7\n",
      "-------------------------------\n",
      "Train loss: 1.422215  [   64/60000]\n",
      "Train loss: 1.301252  [19264/60000]\n",
      "Train loss: 1.177447  [38464/60000]\n",
      "Train loss: 0.965984  [57664/60000]\n",
      "\n",
      "Test Accuracy: 78.4%, Avg loss: 1.033270 \n",
      "\n",
      "Epoch 8\n",
      "-------------------------------\n",
      "Train loss: 1.143408  [   64/60000]\n",
      "Train loss: 1.212642  [19264/60000]\n",
      "Train loss: 0.865037  [38464/60000]\n",
      "Train loss: 0.845425  [57664/60000]\n",
      "\n",
      "Test Accuracy: 80.8%, Avg loss: 0.857859 \n",
      "\n",
      "Epoch 9\n",
      "-------------------------------\n",
      "Train loss: 0.855402  [   64/60000]\n",
      "Train loss: 0.779746  [19264/60000]\n",
      "Train loss: 0.741111  [38464/60000]\n",
      "Train loss: 0.852995  [57664/60000]\n",
      "\n",
      "Test Accuracy: 82.8%, Avg loss: 0.739168 \n",
      "\n",
      "Epoch 10\n",
      "-------------------------------\n",
      "Train loss: 0.717072  [   64/60000]\n",
      "Train loss: 0.606861  [19264/60000]\n",
      "Train loss: 0.697664  [38464/60000]\n",
      "Train loss: 0.683387  [57664/60000]\n",
      "\n",
      "Test Accuracy: 84.1%, Avg loss: 0.655329 \n",
      "\n",
      "Epoch 11\n",
      "-------------------------------\n",
      "Train loss: 0.619589  [   64/60000]\n",
      "Train loss: 0.642810  [19264/60000]\n",
      "Train loss: 0.664281  [38464/60000]\n",
      "Train loss: 0.633001  [57664/60000]\n",
      "\n",
      "Test Accuracy: 85.3%, Avg loss: 0.593761 \n",
      "\n",
      "Epoch 12\n",
      "-------------------------------\n",
      "Train loss: 0.599760  [   64/60000]\n",
      "Train loss: 0.500431  [19264/60000]\n",
      "Train loss: 0.377478  [38464/60000]\n",
      "Train loss: 0.462029  [57664/60000]\n",
      "\n",
      "Test Accuracy: 86.3%, Avg loss: 0.547318 \n",
      "\n",
      "Epoch 13\n",
      "-------------------------------\n",
      "Train loss: 0.651729  [   64/60000]\n",
      "Train loss: 0.540655  [19264/60000]\n",
      "Train loss: 0.640664  [38464/60000]\n",
      "Train loss: 0.567609  [57664/60000]\n",
      "\n",
      "Test Accuracy: 87.1%, Avg loss: 0.511371 \n",
      "\n",
      "Epoch 14\n",
      "-------------------------------\n",
      "Train loss: 0.617122  [   64/60000]\n",
      "Train loss: 0.544350  [19264/60000]\n",
      "Train loss: 0.580204  [38464/60000]\n",
      "Train loss: 0.518441  [57664/60000]\n",
      "\n",
      "Test Accuracy: 87.5%, Avg loss: 0.482132 \n",
      "\n",
      "Epoch 15\n",
      "-------------------------------\n",
      "Train loss: 0.391432  [   64/60000]\n",
      "Train loss: 0.406175  [19264/60000]\n",
      "Train loss: 0.609321  [38464/60000]\n",
      "Train loss: 0.489839  [57664/60000]\n",
      "\n",
      "Test Accuracy: 88.0%, Avg loss: 0.458427 \n",
      "\n",
      "Epoch 16\n",
      "-------------------------------\n",
      "Train loss: 0.613384  [   64/60000]\n",
      "Train loss: 0.427468  [19264/60000]\n",
      "Train loss: 0.634048  [38464/60000]\n",
      "Train loss: 0.500429  [57664/60000]\n",
      "\n",
      "Test Accuracy: 88.3%, Avg loss: 0.439447 \n",
      "\n",
      "Epoch 17\n",
      "-------------------------------\n",
      "Train loss: 0.307239  [   64/60000]\n",
      "Train loss: 0.478263  [19264/60000]\n",
      "Train loss: 0.829640  [38464/60000]\n",
      "Train loss: 0.333406  [57664/60000]\n",
      "\n",
      "Test Accuracy: 88.6%, Avg loss: 0.422916 \n",
      "\n",
      "Epoch 18\n",
      "-------------------------------\n",
      "Train loss: 0.571425  [   64/60000]\n",
      "Train loss: 0.405716  [19264/60000]\n",
      "Train loss: 0.504083  [38464/60000]\n",
      "Train loss: 0.315316  [57664/60000]\n",
      "\n",
      "Test Accuracy: 88.8%, Avg loss: 0.409170 \n",
      "\n",
      "Epoch 19\n",
      "-------------------------------\n",
      "Train loss: 0.313246  [   64/60000]\n",
      "Train loss: 0.375894  [19264/60000]\n",
      "Train loss: 0.418997  [38464/60000]\n",
      "Train loss: 0.426168  [57664/60000]\n",
      "\n",
      "Test Accuracy: 89.1%, Avg loss: 0.397430 \n",
      "\n",
      "Epoch 20\n",
      "-------------------------------\n",
      "Train loss: 0.521786  [   64/60000]\n",
      "Train loss: 0.275254  [19264/60000]\n",
      "Train loss: 0.454830  [38464/60000]\n",
      "Train loss: 0.420457  [57664/60000]\n",
      "\n",
      "Test Accuracy: 89.5%, Avg loss: 0.386846 \n",
      "\n",
      "Epoch 21\n",
      "-------------------------------\n",
      "Train loss: 0.482308  [   64/60000]\n",
      "Train loss: 0.362869  [19264/60000]\n",
      "Train loss: 0.301615  [38464/60000]\n",
      "Train loss: 0.491030  [57664/60000]\n",
      "\n",
      "Test Accuracy: 89.7%, Avg loss: 0.377663 \n",
      "\n",
      "Epoch 22\n",
      "-------------------------------\n",
      "Train loss: 0.386539  [   64/60000]\n",
      "Train loss: 0.751010  [19264/60000]\n",
      "Train loss: 0.419298  [38464/60000]\n",
      "Train loss: 0.475635  [57664/60000]\n",
      "\n",
      "Test Accuracy: 89.7%, Avg loss: 0.370058 \n",
      "\n",
      "Epoch 23\n",
      "-------------------------------\n",
      "Train loss: 0.275996  [   64/60000]\n",
      "Train loss: 0.508529  [19264/60000]\n",
      "Train loss: 0.374523  [38464/60000]\n",
      "Train loss: 0.522675  [57664/60000]\n",
      "\n",
      "Test Accuracy: 89.9%, Avg loss: 0.362999 \n",
      "\n",
      "Epoch 24\n",
      "-------------------------------\n",
      "Train loss: 0.443129  [   64/60000]\n",
      "Train loss: 0.444143  [19264/60000]\n",
      "Train loss: 0.327503  [38464/60000]\n",
      "Train loss: 0.848749  [57664/60000]\n",
      "\n",
      "Test Accuracy: 89.9%, Avg loss: 0.356035 \n",
      "\n",
      "Epoch 25\n",
      "-------------------------------\n",
      "Train loss: 0.305984  [   64/60000]\n",
      "Train loss: 0.705994  [19264/60000]\n",
      "Train loss: 0.375479  [38464/60000]\n",
      "Train loss: 0.383513  [57664/60000]\n",
      "\n",
      "Test Accuracy: 90.1%, Avg loss: 0.350466 \n",
      "\n",
      "Epoch 26\n",
      "-------------------------------\n",
      "Train loss: 0.484493  [   64/60000]\n",
      "Train loss: 0.170346  [19264/60000]\n",
      "Train loss: 0.474828  [38464/60000]\n",
      "Train loss: 0.464969  [57664/60000]\n",
      "\n",
      "Test Accuracy: 90.3%, Avg loss: 0.344703 \n",
      "\n",
      "Epoch 27\n",
      "-------------------------------\n",
      "Train loss: 0.261716  [   64/60000]\n",
      "Train loss: 0.392059  [19264/60000]\n",
      "Train loss: 0.413143  [38464/60000]\n",
      "Train loss: 0.176963  [57664/60000]\n",
      "\n",
      "Test Accuracy: 90.5%, Avg loss: 0.339689 \n",
      "\n",
      "Epoch 28\n",
      "-------------------------------\n",
      "Train loss: 0.327221  [   64/60000]\n",
      "Train loss: 0.412682  [19264/60000]\n",
      "Train loss: 0.380563  [38464/60000]\n",
      "Train loss: 0.450870  [57664/60000]\n",
      "\n",
      "Test Accuracy: 90.5%, Avg loss: 0.335263 \n",
      "\n",
      "Epoch 29\n",
      "-------------------------------\n",
      "Train loss: 0.320427  [   64/60000]\n",
      "Train loss: 0.355160  [19264/60000]\n",
      "Train loss: 0.480022  [38464/60000]\n",
      "Train loss: 0.391052  [57664/60000]\n",
      "\n",
      "Test Accuracy: 90.6%, Avg loss: 0.330757 \n",
      "\n",
      "Epoch 30\n",
      "-------------------------------\n",
      "Train loss: 0.202556  [   64/60000]\n",
      "Train loss: 0.351719  [19264/60000]\n",
      "Train loss: 0.353469  [38464/60000]\n",
      "Train loss: 0.416505  [57664/60000]\n",
      "\n",
      "Test Accuracy: 90.7%, Avg loss: 0.326632 \n",
      "\n",
      "Epoch 31\n",
      "-------------------------------\n",
      "Train loss: 0.274804  [   64/60000]\n",
      "Train loss: 0.303111  [19264/60000]\n",
      "Train loss: 0.320745  [38464/60000]\n",
      "Train loss: 0.234740  [57664/60000]\n",
      "\n",
      "Test Accuracy: 90.8%, Avg loss: 0.323555 \n",
      "\n",
      "Epoch 32\n",
      "-------------------------------\n",
      "Train loss: 0.527078  [   64/60000]\n",
      "Train loss: 0.324862  [19264/60000]\n",
      "Train loss: 0.266914  [38464/60000]\n",
      "Train loss: 0.204047  [57664/60000]\n",
      "\n",
      "Test Accuracy: 90.8%, Avg loss: 0.319995 \n",
      "\n",
      "Epoch 33\n",
      "-------------------------------\n",
      "Train loss: 0.292313  [   64/60000]\n",
      "Train loss: 0.298426  [19264/60000]\n",
      "Train loss: 0.342013  [38464/60000]\n",
      "Train loss: 0.256395  [57664/60000]\n",
      "\n",
      "Test Accuracy: 91.0%, Avg loss: 0.316666 \n",
      "\n",
      "Epoch 34\n",
      "-------------------------------\n",
      "Train loss: 0.310279  [   64/60000]\n",
      "Train loss: 0.487900  [19264/60000]\n",
      "Train loss: 0.293430  [38464/60000]\n",
      "Train loss: 0.467570  [57664/60000]\n",
      "\n",
      "Test Accuracy: 91.1%, Avg loss: 0.313091 \n",
      "\n",
      "Epoch 35\n",
      "-------------------------------\n",
      "Train loss: 0.249087  [   64/60000]\n",
      "Train loss: 0.167948  [19264/60000]\n",
      "Train loss: 0.393111  [38464/60000]\n",
      "Train loss: 0.245520  [57664/60000]\n",
      "\n",
      "Test Accuracy: 91.2%, Avg loss: 0.310272 \n",
      "\n",
      "Epoch 36\n",
      "-------------------------------\n",
      "Train loss: 0.311689  [   64/60000]\n",
      "Train loss: 0.329654  [19264/60000]\n",
      "Train loss: 0.352898  [38464/60000]\n",
      "Train loss: 0.472822  [57664/60000]\n",
      "\n",
      "Test Accuracy: 91.2%, Avg loss: 0.307770 \n",
      "\n",
      "Epoch 37\n",
      "-------------------------------\n",
      "Train loss: 0.303003  [   64/60000]\n",
      "Train loss: 0.321650  [19264/60000]\n",
      "Train loss: 0.365214  [38464/60000]\n",
      "Train loss: 0.205295  [57664/60000]\n",
      "\n",
      "Test Accuracy: 91.2%, Avg loss: 0.304991 \n",
      "\n",
      "Epoch 38\n",
      "-------------------------------\n",
      "Train loss: 0.304686  [   64/60000]\n",
      "Train loss: 0.140868  [19264/60000]\n",
      "Train loss: 0.344029  [38464/60000]\n",
      "Train loss: 0.498838  [57664/60000]\n",
      "\n",
      "Test Accuracy: 91.3%, Avg loss: 0.302038 \n",
      "\n",
      "Epoch 39\n",
      "-------------------------------\n",
      "Train loss: 0.325220  [   64/60000]\n",
      "Train loss: 0.212149  [19264/60000]\n",
      "Train loss: 0.217937  [38464/60000]\n",
      "Train loss: 0.310398  [57664/60000]\n",
      "\n",
      "Test Accuracy: 91.4%, Avg loss: 0.299020 \n",
      "\n",
      "Epoch 40\n",
      "-------------------------------\n",
      "Train loss: 0.332619  [   64/60000]\n",
      "Train loss: 0.234719  [19264/60000]\n",
      "Train loss: 0.270982  [38464/60000]\n",
      "Train loss: 0.458402  [57664/60000]\n",
      "\n",
      "Test Accuracy: 91.4%, Avg loss: 0.296780 \n",
      "\n",
      "Saved Model State to model.pth\n"
     ]
    }
   ],
   "source": [
    "train_loss_list, test_loss_list, test_accuracy_list = main()"
   ]
  },
  {
   "cell_type": "code",
   "execution_count": 151,
   "metadata": {
    "tags": [
     "execute_cell"
    ]
   },
   "outputs": [
    {
     "ename": "TypeError",
     "evalue": "can't convert cuda:0 device type tensor to numpy. Use Tensor.cpu() to copy the tensor to host memory first.",
     "output_type": "error",
     "traceback": [
      "\u001b[0;31m---------------------------------------------------------------------------\u001b[0m",
      "\u001b[0;31mTypeError\u001b[0m                                 Traceback (most recent call last)",
      "Cell \u001b[0;32mIn[151], line 3\u001b[0m\n\u001b[1;32m      1\u001b[0m epochs_range \u001b[38;5;241m=\u001b[39m [i \u001b[38;5;28;01mfor\u001b[39;00m i \u001b[38;5;129;01min\u001b[39;00m \u001b[38;5;28mrange\u001b[39m(\u001b[38;5;241m1\u001b[39m, \u001b[38;5;28mlen\u001b[39m(train_loss_list) \u001b[38;5;241m+\u001b[39m \u001b[38;5;241m1\u001b[39m)]\n\u001b[1;32m      2\u001b[0m plt\u001b[38;5;241m.\u001b[39mplot(epochs_range, train_loss_list, label\u001b[38;5;241m=\u001b[39m\u001b[38;5;124m'\u001b[39m\u001b[38;5;124mTrain Loss\u001b[39m\u001b[38;5;124m'\u001b[39m)\n\u001b[0;32m----> 3\u001b[0m \u001b[43mplt\u001b[49m\u001b[38;5;241;43m.\u001b[39;49m\u001b[43mplot\u001b[49m\u001b[43m(\u001b[49m\u001b[43mepochs_range\u001b[49m\u001b[43m,\u001b[49m\u001b[43m \u001b[49m\u001b[43mtest_loss_list\u001b[49m\u001b[43m,\u001b[49m\u001b[43m \u001b[49m\u001b[43mlabel\u001b[49m\u001b[38;5;241;43m=\u001b[39;49m\u001b[38;5;124;43m'\u001b[39;49m\u001b[38;5;124;43mTest Loss\u001b[39;49m\u001b[38;5;124;43m'\u001b[39;49m\u001b[43m)\u001b[49m\n\u001b[1;32m      4\u001b[0m plt\u001b[38;5;241m.\u001b[39mxlabel(\u001b[38;5;124m'\u001b[39m\u001b[38;5;124mEpoch\u001b[39m\u001b[38;5;124m'\u001b[39m)\n\u001b[1;32m      5\u001b[0m plt\u001b[38;5;241m.\u001b[39mylabel(\u001b[38;5;124m'\u001b[39m\u001b[38;5;124mLoss\u001b[39m\u001b[38;5;124m'\u001b[39m)\n",
      "File \u001b[0;32m/opt/conda/lib/python3.11/site-packages/matplotlib/pyplot.py:3590\u001b[0m, in \u001b[0;36mplot\u001b[0;34m(scalex, scaley, data, *args, **kwargs)\u001b[0m\n\u001b[1;32m   3582\u001b[0m \u001b[38;5;129m@_copy_docstring_and_deprecators\u001b[39m(Axes\u001b[38;5;241m.\u001b[39mplot)\n\u001b[1;32m   3583\u001b[0m \u001b[38;5;28;01mdef\u001b[39;00m \u001b[38;5;21mplot\u001b[39m(\n\u001b[1;32m   3584\u001b[0m     \u001b[38;5;241m*\u001b[39margs: \u001b[38;5;28mfloat\u001b[39m \u001b[38;5;241m|\u001b[39m ArrayLike \u001b[38;5;241m|\u001b[39m \u001b[38;5;28mstr\u001b[39m,\n\u001b[0;32m   (...)\u001b[0m\n\u001b[1;32m   3588\u001b[0m     \u001b[38;5;241m*\u001b[39m\u001b[38;5;241m*\u001b[39mkwargs,\n\u001b[1;32m   3589\u001b[0m ) \u001b[38;5;241m-\u001b[39m\u001b[38;5;241m>\u001b[39m \u001b[38;5;28mlist\u001b[39m[Line2D]:\n\u001b[0;32m-> 3590\u001b[0m     \u001b[38;5;28;01mreturn\u001b[39;00m \u001b[43mgca\u001b[49m\u001b[43m(\u001b[49m\u001b[43m)\u001b[49m\u001b[38;5;241;43m.\u001b[39;49m\u001b[43mplot\u001b[49m\u001b[43m(\u001b[49m\n\u001b[1;32m   3591\u001b[0m \u001b[43m        \u001b[49m\u001b[38;5;241;43m*\u001b[39;49m\u001b[43margs\u001b[49m\u001b[43m,\u001b[49m\n\u001b[1;32m   3592\u001b[0m \u001b[43m        \u001b[49m\u001b[43mscalex\u001b[49m\u001b[38;5;241;43m=\u001b[39;49m\u001b[43mscalex\u001b[49m\u001b[43m,\u001b[49m\n\u001b[1;32m   3593\u001b[0m \u001b[43m        \u001b[49m\u001b[43mscaley\u001b[49m\u001b[38;5;241;43m=\u001b[39;49m\u001b[43mscaley\u001b[49m\u001b[43m,\u001b[49m\n\u001b[1;32m   3594\u001b[0m \u001b[43m        \u001b[49m\u001b[38;5;241;43m*\u001b[39;49m\u001b[38;5;241;43m*\u001b[39;49m\u001b[43m(\u001b[49m\u001b[43m{\u001b[49m\u001b[38;5;124;43m\"\u001b[39;49m\u001b[38;5;124;43mdata\u001b[39;49m\u001b[38;5;124;43m\"\u001b[39;49m\u001b[43m:\u001b[49m\u001b[43m \u001b[49m\u001b[43mdata\u001b[49m\u001b[43m}\u001b[49m\u001b[43m \u001b[49m\u001b[38;5;28;43;01mif\u001b[39;49;00m\u001b[43m \u001b[49m\u001b[43mdata\u001b[49m\u001b[43m \u001b[49m\u001b[38;5;129;43;01mis\u001b[39;49;00m\u001b[43m \u001b[49m\u001b[38;5;129;43;01mnot\u001b[39;49;00m\u001b[43m \u001b[49m\u001b[38;5;28;43;01mNone\u001b[39;49;00m\u001b[43m \u001b[49m\u001b[38;5;28;43;01melse\u001b[39;49;00m\u001b[43m \u001b[49m\u001b[43m{\u001b[49m\u001b[43m}\u001b[49m\u001b[43m)\u001b[49m\u001b[43m,\u001b[49m\n\u001b[1;32m   3595\u001b[0m \u001b[43m        \u001b[49m\u001b[38;5;241;43m*\u001b[39;49m\u001b[38;5;241;43m*\u001b[39;49m\u001b[43mkwargs\u001b[49m\u001b[43m,\u001b[49m\n\u001b[1;32m   3596\u001b[0m \u001b[43m    \u001b[49m\u001b[43m)\u001b[49m\n",
      "File \u001b[0;32m/opt/conda/lib/python3.11/site-packages/matplotlib/axes/_axes.py:1724\u001b[0m, in \u001b[0;36mAxes.plot\u001b[0;34m(self, scalex, scaley, data, *args, **kwargs)\u001b[0m\n\u001b[1;32m   1481\u001b[0m \u001b[38;5;250m\u001b[39m\u001b[38;5;124;03m\"\"\"\u001b[39;00m\n\u001b[1;32m   1482\u001b[0m \u001b[38;5;124;03mPlot y versus x as lines and/or markers.\u001b[39;00m\n\u001b[1;32m   1483\u001b[0m \n\u001b[0;32m   (...)\u001b[0m\n\u001b[1;32m   1721\u001b[0m \u001b[38;5;124;03m(``'green'``) or hex strings (``'#008000'``).\u001b[39;00m\n\u001b[1;32m   1722\u001b[0m \u001b[38;5;124;03m\"\"\"\u001b[39;00m\n\u001b[1;32m   1723\u001b[0m kwargs \u001b[38;5;241m=\u001b[39m cbook\u001b[38;5;241m.\u001b[39mnormalize_kwargs(kwargs, mlines\u001b[38;5;241m.\u001b[39mLine2D)\n\u001b[0;32m-> 1724\u001b[0m lines \u001b[38;5;241m=\u001b[39m [\u001b[38;5;241m*\u001b[39m\u001b[38;5;28mself\u001b[39m\u001b[38;5;241m.\u001b[39m_get_lines(\u001b[38;5;28mself\u001b[39m, \u001b[38;5;241m*\u001b[39margs, data\u001b[38;5;241m=\u001b[39mdata, \u001b[38;5;241m*\u001b[39m\u001b[38;5;241m*\u001b[39mkwargs)]\n\u001b[1;32m   1725\u001b[0m \u001b[38;5;28;01mfor\u001b[39;00m line \u001b[38;5;129;01min\u001b[39;00m lines:\n\u001b[1;32m   1726\u001b[0m     \u001b[38;5;28mself\u001b[39m\u001b[38;5;241m.\u001b[39madd_line(line)\n",
      "File \u001b[0;32m/opt/conda/lib/python3.11/site-packages/matplotlib/axes/_base.py:303\u001b[0m, in \u001b[0;36m_process_plot_var_args.__call__\u001b[0;34m(self, axes, data, *args, **kwargs)\u001b[0m\n\u001b[1;32m    301\u001b[0m     this \u001b[38;5;241m+\u001b[39m\u001b[38;5;241m=\u001b[39m args[\u001b[38;5;241m0\u001b[39m],\n\u001b[1;32m    302\u001b[0m     args \u001b[38;5;241m=\u001b[39m args[\u001b[38;5;241m1\u001b[39m:]\n\u001b[0;32m--> 303\u001b[0m \u001b[38;5;28;01myield from\u001b[39;00m \u001b[38;5;28;43mself\u001b[39;49m\u001b[38;5;241;43m.\u001b[39;49m\u001b[43m_plot_args\u001b[49m\u001b[43m(\u001b[49m\n\u001b[1;32m    304\u001b[0m \u001b[43m    \u001b[49m\u001b[43maxes\u001b[49m\u001b[43m,\u001b[49m\u001b[43m \u001b[49m\u001b[43mthis\u001b[49m\u001b[43m,\u001b[49m\u001b[43m \u001b[49m\u001b[43mkwargs\u001b[49m\u001b[43m,\u001b[49m\u001b[43m \u001b[49m\u001b[43mambiguous_fmt_datakey\u001b[49m\u001b[38;5;241;43m=\u001b[39;49m\u001b[43mambiguous_fmt_datakey\u001b[49m\u001b[43m)\u001b[49m\n",
      "File \u001b[0;32m/opt/conda/lib/python3.11/site-packages/matplotlib/axes/_base.py:489\u001b[0m, in \u001b[0;36m_process_plot_var_args._plot_args\u001b[0;34m(self, axes, tup, kwargs, return_kwargs, ambiguous_fmt_datakey)\u001b[0m\n\u001b[1;32m    487\u001b[0m \u001b[38;5;28;01mif\u001b[39;00m \u001b[38;5;28mlen\u001b[39m(xy) \u001b[38;5;241m==\u001b[39m \u001b[38;5;241m2\u001b[39m:\n\u001b[1;32m    488\u001b[0m     x \u001b[38;5;241m=\u001b[39m _check_1d(xy[\u001b[38;5;241m0\u001b[39m])\n\u001b[0;32m--> 489\u001b[0m     y \u001b[38;5;241m=\u001b[39m \u001b[43m_check_1d\u001b[49m\u001b[43m(\u001b[49m\u001b[43mxy\u001b[49m\u001b[43m[\u001b[49m\u001b[38;5;241;43m1\u001b[39;49m\u001b[43m]\u001b[49m\u001b[43m)\u001b[49m\n\u001b[1;32m    490\u001b[0m \u001b[38;5;28;01melse\u001b[39;00m:\n\u001b[1;32m    491\u001b[0m     x, y \u001b[38;5;241m=\u001b[39m index_of(xy[\u001b[38;5;241m-\u001b[39m\u001b[38;5;241m1\u001b[39m])\n",
      "File \u001b[0;32m/opt/conda/lib/python3.11/site-packages/matplotlib/cbook.py:1358\u001b[0m, in \u001b[0;36m_check_1d\u001b[0;34m(x)\u001b[0m\n\u001b[1;32m   1352\u001b[0m \u001b[38;5;66;03m# plot requires `shape` and `ndim`.  If passed an\u001b[39;00m\n\u001b[1;32m   1353\u001b[0m \u001b[38;5;66;03m# object that doesn't provide them, then force to numpy array.\u001b[39;00m\n\u001b[1;32m   1354\u001b[0m \u001b[38;5;66;03m# Note this will strip unit information.\u001b[39;00m\n\u001b[1;32m   1355\u001b[0m \u001b[38;5;28;01mif\u001b[39;00m (\u001b[38;5;129;01mnot\u001b[39;00m \u001b[38;5;28mhasattr\u001b[39m(x, \u001b[38;5;124m'\u001b[39m\u001b[38;5;124mshape\u001b[39m\u001b[38;5;124m'\u001b[39m) \u001b[38;5;129;01mor\u001b[39;00m\n\u001b[1;32m   1356\u001b[0m         \u001b[38;5;129;01mnot\u001b[39;00m \u001b[38;5;28mhasattr\u001b[39m(x, \u001b[38;5;124m'\u001b[39m\u001b[38;5;124mndim\u001b[39m\u001b[38;5;124m'\u001b[39m) \u001b[38;5;129;01mor\u001b[39;00m\n\u001b[1;32m   1357\u001b[0m         \u001b[38;5;28mlen\u001b[39m(x\u001b[38;5;241m.\u001b[39mshape) \u001b[38;5;241m<\u001b[39m \u001b[38;5;241m1\u001b[39m):\n\u001b[0;32m-> 1358\u001b[0m     \u001b[38;5;28;01mreturn\u001b[39;00m \u001b[43mnp\u001b[49m\u001b[38;5;241;43m.\u001b[39;49m\u001b[43matleast_1d\u001b[49m\u001b[43m(\u001b[49m\u001b[43mx\u001b[49m\u001b[43m)\u001b[49m\n\u001b[1;32m   1359\u001b[0m \u001b[38;5;28;01melse\u001b[39;00m:\n\u001b[1;32m   1360\u001b[0m     \u001b[38;5;28;01mreturn\u001b[39;00m x\n",
      "File \u001b[0;32m/opt/conda/lib/python3.11/site-packages/numpy/core/shape_base.py:65\u001b[0m, in \u001b[0;36matleast_1d\u001b[0;34m(*arys)\u001b[0m\n\u001b[1;32m     63\u001b[0m res \u001b[38;5;241m=\u001b[39m []\n\u001b[1;32m     64\u001b[0m \u001b[38;5;28;01mfor\u001b[39;00m ary \u001b[38;5;129;01min\u001b[39;00m arys:\n\u001b[0;32m---> 65\u001b[0m     ary \u001b[38;5;241m=\u001b[39m \u001b[43masanyarray\u001b[49m\u001b[43m(\u001b[49m\u001b[43mary\u001b[49m\u001b[43m)\u001b[49m\n\u001b[1;32m     66\u001b[0m     \u001b[38;5;28;01mif\u001b[39;00m ary\u001b[38;5;241m.\u001b[39mndim \u001b[38;5;241m==\u001b[39m \u001b[38;5;241m0\u001b[39m:\n\u001b[1;32m     67\u001b[0m         result \u001b[38;5;241m=\u001b[39m ary\u001b[38;5;241m.\u001b[39mreshape(\u001b[38;5;241m1\u001b[39m)\n",
      "File \u001b[0;32m/opt/conda/lib/python3.11/site-packages/torch/_tensor.py:1087\u001b[0m, in \u001b[0;36mTensor.__array__\u001b[0;34m(self, dtype)\u001b[0m\n\u001b[1;32m   1085\u001b[0m     \u001b[38;5;28;01mreturn\u001b[39;00m handle_torch_function(Tensor\u001b[38;5;241m.\u001b[39m__array__, (\u001b[38;5;28mself\u001b[39m,), \u001b[38;5;28mself\u001b[39m, dtype\u001b[38;5;241m=\u001b[39mdtype)\n\u001b[1;32m   1086\u001b[0m \u001b[38;5;28;01mif\u001b[39;00m dtype \u001b[38;5;129;01mis\u001b[39;00m \u001b[38;5;28;01mNone\u001b[39;00m:\n\u001b[0;32m-> 1087\u001b[0m     \u001b[38;5;28;01mreturn\u001b[39;00m \u001b[38;5;28;43mself\u001b[39;49m\u001b[38;5;241;43m.\u001b[39;49m\u001b[43mnumpy\u001b[49m\u001b[43m(\u001b[49m\u001b[43m)\u001b[49m\n\u001b[1;32m   1088\u001b[0m \u001b[38;5;28;01melse\u001b[39;00m:\n\u001b[1;32m   1089\u001b[0m     \u001b[38;5;28;01mreturn\u001b[39;00m \u001b[38;5;28mself\u001b[39m\u001b[38;5;241m.\u001b[39mnumpy()\u001b[38;5;241m.\u001b[39mastype(dtype, copy\u001b[38;5;241m=\u001b[39m\u001b[38;5;28;01mFalse\u001b[39;00m)\n",
      "\u001b[0;31mTypeError\u001b[0m: can't convert cuda:0 device type tensor to numpy. Use Tensor.cpu() to copy the tensor to host memory first."
     ]
    },
    {
     "data": {
      "image/png": "[encoded data removed]",
      "text/plain": [
       "<Figure size 640x480 with 1 Axes>"
      ]
     },
     "metadata": {},
     "output_type": "display_data"
    }
   ],
   "source": [
    "epochs_range = [i for i in range(1, len(train_loss_list) + 1)]\n",
    "plt.plot(epochs_range, train_loss_list, label='Train Loss')\n",
    "plt.plot(epochs_range, test_loss_list, label='Test Loss')\n",
    "plt.xlabel('Epoch')\n",
    "plt.ylabel('Loss')\n",
    "\n",
    "plt.legend()\n",
    "plt.show ()\n"
   ]
  },
  {
   "cell_type": "code",
   "execution_count": 152,
   "metadata": {
    "tags": [
     "execute_cell"
    ]
   },
   "outputs": [
    {
     "data": {
      "image/png": "[encoded data removed]",
      "text/plain": [
       "<Figure size 640x480 with 1 Axes>"
      ]
     },
     "metadata": {},
     "output_type": "display_data"
    }
   ],
   "source": [
    "epochs_range = [i for i in range(1, len(train_loss_list) + 1)]\n",
    "plt.plot(epochs_range, test_accuracy_list, label='Test Accuracy')\n",
    "plt.xlabel('Epoch')\n",
    "plt.ylabel('Accuracy')\n",
    "\n",
    "plt.legend()\n",
    "plt.show ()"
   ]
  },
  {
   "cell_type": "code",
   "execution_count": 153,
   "metadata": {
    "tags": [
     "execute_cell"
    ]
   },
   "outputs": [
    {
     "data": {
      "text/plain": [
       "<All keys matched successfully>"
      ]
     },
     "execution_count": 153,
     "metadata": {},
     "output_type": "execute_result"
    }
   ],
   "source": [
    "model = MultiLayerPerceptron(28*28, 512, 10)\n",
    "model.load_state_dict(torch.load(\"model.pth\"))"
   ]
  },
  {
   "cell_type": "code",
   "execution_count": 154,
   "metadata": {
    "tags": [
     "execute_cell"
    ]
   },
   "outputs": [
    {
     "name": "stdout",
     "output_type": "stream",
     "text": [
      "Predicted: \"tensor([7, 2, 1, 0, 4, 1, 4, 9, 6, 9, 0, 6, 9, 0, 1, 5, 9, 7, 3, 4, 9, 6, 6, 5,\n",
      "        4, 0, 7, 4, 0, 1, 3, 1, 3, 6, 7, 2, 7, 1, 2, 1, 1, 7, 4, 2, 3, 5, 1, 2,\n",
      "        4, 4, 6, 3, 5, 5, 6, 0, 4, 1, 9, 5, 7, 8, 4, 3])\"\n",
      "Actual: tensor([7, 2, 1, 0, 4, 1, 4, 9, 5, 9, 0, 6, 9, 0, 1, 5, 9, 7, 3, 4, 9, 6, 6, 5,\n",
      "        4, 0, 7, 4, 0, 1, 3, 1, 3, 4, 7, 2, 7, 1, 2, 1, 1, 7, 4, 2, 3, 5, 1, 2,\n",
      "        4, 4, 6, 3, 5, 5, 6, 0, 4, 1, 9, 5, 7, 8, 9, 3])\n"
     ]
    },
    {
     "data": {
      "image/png": "[encoded data removed]",
      "text/plain": [
       "<Figure size 640x480 with 1 Axes>"
      ]
     },
     "metadata": {},
     "output_type": "display_data"
    },
    {
     "name": "stdout",
     "output_type": "stream",
     "text": [
      "Label: 7\n",
      "Predicted label: 7\n"
     ]
    }
   ],
   "source": [
    "model.eval()\n",
    "\n",
    "with torch.no_grad():\n",
    "    X, y = next(iter(test_dataloader))\n",
    "    logits = model(X)\n",
    "    y_pred = logits.argmax(dim = 1)\n",
    "\n",
    "    print(f'Predicted: \"{y_pred}\"')\n",
    "    print(f\"Actual: {y}\")\n",
    "\n",
    "    # display single example\n",
    "    img = X[0].squeeze()\n",
    "    label = y[0]\n",
    "    pred_label = y_pred[0]\n",
    "    plt.imshow(img, cmap=\"gray\")\n",
    "    plt.show()\n",
    "    print(f\"Label: {label}\")\n",
    "    print(f\"Predicted label: {pred_label}\")"
   ]
  },
  {
   "cell_type": "code",
   "execution_count": null,
   "metadata": {},
   "outputs": [],
   "source": []
  }
 ],
 "metadata": {
  "kernelspec": {
   "display_name": "Python 3 (ipykernel)",
   "language": "python",
   "name": "python3"
  },
  "language_info": {
   "codemirror_mode": {
    "name": "ipython",
    "version": 3
   },
   "file_extension": ".py",
   "mimetype": "text/x-python",
   "name": "python",
   "nbconvert_exporter": "python",
   "pygments_lexer": "ipython3",
   "version": "3.11.9"
  }
 },
 "nbformat": 4,
 "nbformat_minor": 4
}
